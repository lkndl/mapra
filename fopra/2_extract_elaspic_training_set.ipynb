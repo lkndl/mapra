{
 "cells": [
  {
   "cell_type": "code",
   "execution_count": 120,
   "metadata": {
    "collapsed": true
   },
   "outputs": [],
   "source": [
    "from pathlib import Path\n",
    "from Bio import SeqIO\n",
    "from Bio.Seq import Seq\n",
    "from Bio.SeqRecord import SeqRecord\n",
    "import pandas as pd\n",
    "import pickle\n",
    "import os, sys"
   ]
  },
  {
   "cell_type": "code",
   "execution_count": 2,
   "outputs": [],
   "source": [
    "WD = Path('.').resolve().parent\n",
    "el2 = next(WD.rglob('*set-core.parquet'))\n",
    "df = pd.read_parquet(el2)\n"
   ],
   "metadata": {
    "collapsed": false,
    "pycharm": {
     "name": "#%%\n"
    }
   }
  },
  {
   "cell_type": "code",
   "execution_count": 3,
   "outputs": [
    {
     "data": {
      "text/plain": "(Index(['unique_id', 'dataset', 'name', 'protein_sequence', 'ligand_sequence',\n        'mutation', 'effect', 'effect_type', 'protein_structure',\n        'provean_score', 'foldx_score', 'elaspic_score'],\n       dtype='object'),\n 2245118234)"
     },
     "execution_count": 3,
     "metadata": {},
     "output_type": "execute_result"
    }
   ],
   "source": [
    "df.columns, df.__sizeof__()"
   ],
   "metadata": {
    "collapsed": false,
    "pycharm": {
     "name": "#%%\n"
    }
   }
  },
  {
   "cell_type": "code",
   "execution_count": 4,
   "outputs": [
    {
     "data": {
      "text/plain": "17422668"
     },
     "execution_count": 4,
     "metadata": {},
     "output_type": "execute_result"
    }
   ],
   "source": [
    "df = df.drop(columns='protein_structure')\n",
    "df.__sizeof__()"
   ],
   "metadata": {
    "collapsed": false,
    "pycharm": {
     "name": "#%%\n"
    }
   }
  },
  {
   "cell_type": "code",
   "execution_count": 141,
   "outputs": [
    {
     "data": {
      "text/plain": "unique_id                                                  3629188840\ndataset                                                       ab_bind\nname                                                   pdb1ffw.entA_0\nprotein_sequence    ADKELKFLVVDDFSTMRRIVRNLLKELGFNNVEEAEDGVDALNKLQ...\nligand_sequence                                                  None\nmutation            [A89V, D12K, E116K, E92K, F110V, T111I, T86I, ...\neffect              [0.09, 0.05, 0.71, 0.82, 1.26, 0.56, -0.32, 1....\neffect_type                                                       ΔΔG\nprovean_score       [-3.876, -6.809, -1.206, -3.911, -6.873, -5.70...\nfoldx_score         [0.3274600000000003, -1.5615899999999998, -0.1...\nelaspic_score       [0.31081372132730123, 0.1103312988873999, 0.10...\nName: 0, dtype: object"
     },
     "execution_count": 141,
     "metadata": {},
     "output_type": "execute_result"
    }
   ],
   "source": [
    "df.loc[0]"
   ],
   "metadata": {
    "collapsed": false,
    "pycharm": {
     "name": "#%%\n"
    }
   }
  },
  {
   "cell_type": "code",
   "execution_count": 142,
   "outputs": [
    {
     "data": {
      "text/plain": "array(['ΔΔG', 'Deleteriousness score', 'Deleteriousness class'],\n      dtype=object)"
     },
     "execution_count": 142,
     "metadata": {},
     "output_type": "execute_result"
    }
   ],
   "source": [
    "df.effect_type.unique()"
   ],
   "metadata": {
    "collapsed": false,
    "pycharm": {
     "name": "#%%\n"
    }
   }
  },
  {
   "cell_type": "code",
   "execution_count": 143,
   "outputs": [
    {
     "data": {
      "text/plain": "     unique_id            dataset          name  \\\n33  1606502458  cagi4_sumo_ligase  P63279.1:158   \n34  1568123232            clinvar  P30153.2:589   \n\n                                     protein_sequence ligand_sequence  \\\n33  MSGIALSRLAQERKAWRKDHPFGFVAVPTKNPDGTMNLMNWECAIP...            None   \n34  AAADGDDSLYPIAVLIDELRNEDVQLRLNSIKKLSTIALALGVERT...            None   \n\n                                             mutation  \\\n33  [A10G, A129V, A131S, A150T, A150W, A152D, A152...   \n34                       [A160V, P178L, R181W, V161M]   \n\n                                               effect            effect_type  \\\n33  [0.545178577564802, -0.106306006463229, 0.9718...  Deleteriousness score   \n34                               [0.0, 1.0, 1.0, 0.0]  Deleteriousness class   \n\n                                        provean_score  \\\n33  [-2.7, -3.209, -2.16, -2.287, -3.9, -4.788, -3...   \n34                   [-2.498, -8.087, -7.405, -2.239]   \n\n                                          foldx_score  \\\n33  [1.1613000000000007, 8.175, -0.331400000000002...   \n34  [0.47770000000000223, 1.3896000000000015, 11.9...   \n\n                                        elaspic_score  \n33  [0.988251, 1.34671, 0.196791, 0.2388, 0.206708...  \n34             [0.109294, -3.40208, 2.48624, -1.8372]  ",
      "text/html": "<div>\n<style scoped>\n    .dataframe tbody tr th:only-of-type {\n        vertical-align: middle;\n    }\n\n    .dataframe tbody tr th {\n        vertical-align: top;\n    }\n\n    .dataframe thead th {\n        text-align: right;\n    }\n</style>\n<table border=\"1\" class=\"dataframe\">\n  <thead>\n    <tr style=\"text-align: right;\">\n      <th></th>\n      <th>unique_id</th>\n      <th>dataset</th>\n      <th>name</th>\n      <th>protein_sequence</th>\n      <th>ligand_sequence</th>\n      <th>mutation</th>\n      <th>effect</th>\n      <th>effect_type</th>\n      <th>provean_score</th>\n      <th>foldx_score</th>\n      <th>elaspic_score</th>\n    </tr>\n  </thead>\n  <tbody>\n    <tr>\n      <th>33</th>\n      <td>1606502458</td>\n      <td>cagi4_sumo_ligase</td>\n      <td>P63279.1:158</td>\n      <td>MSGIALSRLAQERKAWRKDHPFGFVAVPTKNPDGTMNLMNWECAIP...</td>\n      <td>None</td>\n      <td>[A10G, A129V, A131S, A150T, A150W, A152D, A152...</td>\n      <td>[0.545178577564802, -0.106306006463229, 0.9718...</td>\n      <td>Deleteriousness score</td>\n      <td>[-2.7, -3.209, -2.16, -2.287, -3.9, -4.788, -3...</td>\n      <td>[1.1613000000000007, 8.175, -0.331400000000002...</td>\n      <td>[0.988251, 1.34671, 0.196791, 0.2388, 0.206708...</td>\n    </tr>\n    <tr>\n      <th>34</th>\n      <td>1568123232</td>\n      <td>clinvar</td>\n      <td>P30153.2:589</td>\n      <td>AAADGDDSLYPIAVLIDELRNEDVQLRLNSIKKLSTIALALGVERT...</td>\n      <td>None</td>\n      <td>[A160V, P178L, R181W, V161M]</td>\n      <td>[0.0, 1.0, 1.0, 0.0]</td>\n      <td>Deleteriousness class</td>\n      <td>[-2.498, -8.087, -7.405, -2.239]</td>\n      <td>[0.47770000000000223, 1.3896000000000015, 11.9...</td>\n      <td>[0.109294, -3.40208, 2.48624, -1.8372]</td>\n    </tr>\n  </tbody>\n</table>\n</div>"
     },
     "execution_count": 143,
     "metadata": {},
     "output_type": "execute_result"
    }
   ],
   "source": [
    "df.loc[df.effect_type != 'ΔΔG'].head(2)"
   ],
   "metadata": {
    "collapsed": false,
    "pycharm": {
     "name": "#%%\n"
    }
   }
  },
  {
   "cell_type": "code",
   "execution_count": 144,
   "outputs": [
    {
     "data": {
      "text/plain": "unique_id                                                  1606502458\ndataset                                             cagi4_sumo_ligase\nname                                                     P63279.1:158\nprotein_sequence    MSGIALSRLAQERKAWRKDHPFGFVAVPTKNPDGTMNLMNWECAIP...\nligand_sequence                                                  None\nmutation            [A10G, A129V, A131S, A150T, A150W, A152D, A152...\neffect              [0.545178577564802, -0.106306006463229, 0.9718...\neffect_type                                     Deleteriousness score\nprovean_score       [-2.7, -3.209, -2.16, -2.287, -3.9, -4.788, -3...\nfoldx_score         [1.1613000000000007, 8.175, -0.331400000000002...\nelaspic_score       [0.988251, 1.34671, 0.196791, 0.2388, 0.206708...\nName: 33, dtype: object"
     },
     "execution_count": 144,
     "metadata": {},
     "output_type": "execute_result"
    }
   ],
   "source": [
    "df.loc[33]"
   ],
   "metadata": {
    "collapsed": false,
    "pycharm": {
     "name": "#%%\n"
    }
   }
  },
  {
   "cell_type": "code",
   "execution_count": 179,
   "outputs": [],
   "source": [
    "def seqrecord_generator():\n",
    "    for t in df.itertuples():\n",
    "        if t.effect_type != 'ΔΔG':\n",
    "            continue\n",
    "        yield SeqRecord(seq=Seq(t.protein_sequence),\n",
    "                        id=f'{t.name}_{t.unique_id}',\n",
    "                        description='')"
   ],
   "metadata": {
    "collapsed": false,
    "pycharm": {
     "name": "#%%\n"
    }
   }
  },
  {
   "cell_type": "code",
   "execution_count": 180,
   "outputs": [],
   "source": [
    "with open((WD / 'fopra' / el2.name).with_suffix('.fasta'), 'w') as fasta:\n",
    "    SeqIO.write(seqrecord_generator(), fasta, 'fasta')"
   ],
   "metadata": {
    "collapsed": false,
    "pycharm": {
     "name": "#%%\n"
    }
   }
  },
  {
   "cell_type": "code",
   "execution_count": 147,
   "outputs": [
    {
     "data": {
      "text/plain": "('ADKELKFLVVDDFSTMRRIVRNLLKELGFNNVEEAEDGVDALNKLQAGGYGFVISDWNMPNMDGLELLKTIRADGAMSALPVLMVTAEAKKENIIAAAQAGASGYVVKPFTAATLEEKLNKIFEKLGM',\n array(['A89V', 'D12K', 'E116K', 'E92K', 'F110V', 'T111I', 'T86I', 'V107M',\n        'Y105W'], dtype=object))"
     },
     "execution_count": 147,
     "metadata": {},
     "output_type": "execute_result"
    }
   ],
   "source": [
    "entry = df.loc[0]\n",
    "entry.protein_sequence, entry.mutation"
   ],
   "metadata": {
    "collapsed": false,
    "pycharm": {
     "name": "#%%\n"
    }
   }
  },
  {
   "cell_type": "code",
   "execution_count": 148,
   "outputs": [
    {
     "data": {
      "text/plain": "(array(['ab_bind', 'benedix_et_al', 'cagi4_sumo_ligase', 'clinvar',\n        'cosmic', 'hiv_escape_mutations', 'humsavar', 'protherm++',\n        'skempi++', 'skempiskempi', 'taipale', 'taipale_gpca',\n        'taipale_ppi'], dtype=object),\n array(['pdb1ffw.entA_0', 'pdb3be1.entL_2', 'pdb3bdy.entL_1', ...,\n        'P00748.373:615', 'P05543.40:415', 'P43251.58:369'], dtype=object))"
     },
     "execution_count": 148,
     "metadata": {},
     "output_type": "execute_result"
    }
   ],
   "source": [
    "df.dataset.unique(), df.name.unique()"
   ],
   "metadata": {
    "collapsed": false,
    "pycharm": {
     "name": "#%%\n"
    }
   }
  },
  {
   "cell_type": "code",
   "source": [
    "# How many variants exist for each entry?\n",
    "num_variants = df.mutation.apply(len)\n",
    "num_variants"
   ],
   "metadata": {
    "collapsed": false,
    "pycharm": {
     "name": "#%%\n"
    }
   },
   "execution_count": null,
   "outputs": []
  },
  {
   "cell_type": "code",
   "execution_count": 150,
   "outputs": [
    {
     "data": {
      "text/plain": "(1709, 15592, 17.81975415405522)"
     },
     "execution_count": 150,
     "metadata": {},
     "output_type": "execute_result"
    }
   ],
   "source": [
    "num_variants.max(), num_variants.argmax(), num_variants.mean()"
   ],
   "metadata": {
    "collapsed": false,
    "pycharm": {
     "name": "#%%\n"
    }
   }
  },
  {
   "cell_type": "code",
   "execution_count": 151,
   "outputs": [
    {
     "data": {
      "text/plain": "Text(0.5, 1.0, 'mean number of mutations: 17.81975415405522')"
     },
     "execution_count": 151,
     "metadata": {},
     "output_type": "execute_result"
    },
    {
     "data": {
      "text/plain": "<Figure size 432x288 with 1 Axes>",
      "image/png": "[encoded data removed]"
     },
     "metadata": {
      "needs_background": "light"
     },
     "output_type": "display_data"
    }
   ],
   "source": [
    "import matplotlib.pyplot as plt\n",
    "import seaborn as sns\n",
    "\n",
    "plt.plot(num_variants.values)\n",
    "plt.title(f'mean number of mutations: {num_variants.values.mean()}')"
   ],
   "metadata": {
    "collapsed": false,
    "pycharm": {
     "name": "#%%\n"
    }
   }
  },
  {
   "cell_type": "code",
   "execution_count": 152,
   "outputs": [
    {
     "data": {
      "text/plain": "<AxesSubplot:xlabel='mutation', ylabel='Count'>"
     },
     "execution_count": 152,
     "metadata": {},
     "output_type": "execute_result"
    },
    {
     "data": {
      "text/plain": "<Figure size 432x288 with 1 Axes>",
      "image/png": "[encoded data removed]"
     },
     "metadata": {
      "needs_background": "light"
     },
     "output_type": "display_data"
    }
   ],
   "source": [
    "sns.histplot(num_variants)"
   ],
   "metadata": {
    "collapsed": false,
    "pycharm": {
     "name": "#%%\n"
    }
   }
  },
  {
   "cell_type": "code",
   "execution_count": 160,
   "outputs": [
    {
     "data": {
      "text/plain": "unique_id                                                  2185172920\ndataset                                                    protherm++\nname                                                     P00720.1:164\nprotein_sequence    MNIFEMLRIDEGLRLKIYKDTEGYYTIGIGHLLTKSPSLNAAKSEL...\nligand_sequence                                                  None\nmutation            [A129M, A129M, A129M, F104A, F104A, F104A, F10...\neffect              [1.9, 1.9, 1.9, 2.7, 2.7, 2.7, 0.4, 0.4, 0.4, ...\neffect_type                                                       ΔΔG\nprovean_score       [-4.906, -4.906, -4.906, -7.865, -7.865, -7.86...\nfoldx_score         [4.644299999999999, 4.644299999999999, 4.64429...\nelaspic_score       [1.42111, 1.55088, 1.66636, 3.06958, 3.10813, ...\nName: 15592, dtype: object"
     },
     "execution_count": 160,
     "metadata": {},
     "output_type": "execute_result"
    }
   ],
   "source": [
    "# have a closer look at the entry that has 1709 (!) mutations\n",
    "entry = df.loc[15592]\n",
    "entry"
   ],
   "metadata": {
    "collapsed": false,
    "pycharm": {
     "name": "#%%\n"
    }
   }
  },
  {
   "cell_type": "code",
   "execution_count": 161,
   "outputs": [
    {
     "data": {
      "text/plain": "(array(['A129M', 'A129M', 'A129M', ..., 'W126R', 'W138Y', 'Y25G'],\n       dtype=object),\n 1709)"
     },
     "execution_count": 161,
     "metadata": {},
     "output_type": "execute_result"
    }
   ],
   "source": [
    "entry.mutation, len(entry.mutation)"
   ],
   "metadata": {
    "collapsed": false,
    "pycharm": {
     "name": "#%%\n"
    }
   }
  },
  {
   "cell_type": "code",
   "execution_count": 172,
   "outputs": [
    {
     "data": {
      "text/plain": "P01051.1:70       3\nP0CG48.607:684    3\nP13479.1:86       3\nP00698.19:147     3\nP03950.25:147     3\n                 ..\nP03958.4:352      1\nP34059.29:522     1\nP00004.2:105      1\nP04179.25:222     1\nP55851.113:211    1\nName: name, Length: 687, dtype: int64"
     },
     "execution_count": 172,
     "metadata": {},
     "output_type": "execute_result"
    }
   ],
   "source": [
    "ids = df.loc[df.effect_type == 'ΔΔG', 'name']\n",
    "ids.value_counts()"
   ],
   "metadata": {
    "collapsed": false,
    "pycharm": {
     "name": "#%%\n"
    }
   }
  },
  {
   "cell_type": "code",
   "execution_count": 156,
   "outputs": [],
   "source": [
    "# task: generate all the variant sequences\n",
    "effects = dict()\n",
    "def variant_seqrecord_generator():\n",
    "    for t in df.itertuples():\n",
    "        if t.effect_type != 'ΔΔG':\n",
    "            continue\n",
    "        assert len(t.mutation) == len(t.effect), 'effect <-> mutation element count mismatch'\n",
    "        _id = f'{t.name}_{t.unique_id}'\n",
    "        effects[_id] = dict()\n",
    "        for v, f in zip(t.mutation, t.effect):\n",
    "            _from, _to, _pos = v[0], v[-1], int(v[1:-1])\n",
    "            seq = Seq(t.protein_sequence).tomutable()\n",
    "            assert seq[_pos - 1] == _from, 'variant_label <-> sequence mismatch'\n",
    "            seq[_pos - 1] = _to\n",
    "            effects[_id][v] = f\n",
    "            yield SeqRecord(seq=seq, description='',\n",
    "                            id=f'{t.name}_{t.unique_id}_{v}')"
   ],
   "metadata": {
    "collapsed": false,
    "pycharm": {
     "name": "#%%\n"
    }
   }
  },
  {
   "cell_type": "code",
   "execution_count": 157,
   "outputs": [
    {
     "data": {
      "text/plain": "array(['A89V', 'D12K', 'E116K', 'E92K', 'F110V', 'T111I', 'T86I', 'V107M',\n       'Y105W'], dtype=object)"
     },
     "execution_count": 157,
     "metadata": {},
     "output_type": "execute_result"
    }
   ],
   "source": [
    "t = next(df.itertuples())\n",
    "t.mutation"
   ],
   "metadata": {
    "collapsed": false,
    "pycharm": {
     "name": "#%%\n"
    }
   }
  },
  {
   "cell_type": "code",
   "execution_count": 158,
   "outputs": [
    {
     "data": {
      "text/plain": "'E'"
     },
     "execution_count": 158,
     "metadata": {},
     "output_type": "execute_result"
    }
   ],
   "source": [
    "t.protein_sequence[115]"
   ],
   "metadata": {
    "collapsed": false,
    "pycharm": {
     "name": "#%%\n"
    }
   }
  },
  {
   "cell_type": "code",
   "execution_count": 159,
   "outputs": [
    {
     "data": {
      "text/plain": "True"
     },
     "execution_count": 159,
     "metadata": {},
     "output_type": "execute_result"
    }
   ],
   "source": [
    "len(t.effect) == len(t.mutation)\n"
   ],
   "metadata": {
    "collapsed": false,
    "pycharm": {
     "name": "#%%\n"
    }
   }
  },
  {
   "cell_type": "code",
   "execution_count": 160,
   "outputs": [
    {
     "name": "stdout",
     "output_type": "stream",
     "text": [
      "ID: pdb1ffw.entA_0_3629188840_A89V\n",
      "Name: <unknown name>\n",
      "Number of features: 0\n",
      "MutableSeq('ADKELKFLVVDDFSTMRRIVRNLLKELGFNNVEEAEDGVDALNKLQAGGYGFVI...LGM')\n",
      "ID: pdb1ffw.entA_0_3629188840_D12K\n",
      "Name: <unknown name>\n",
      "Number of features: 0\n",
      "MutableSeq('ADKELKFLVVDKFSTMRRIVRNLLKELGFNNVEEAEDGVDALNKLQAGGYGFVI...LGM')\n",
      "ID: pdb1ffw.entA_0_3629188840_E116K\n",
      "Name: <unknown name>\n",
      "Number of features: 0\n",
      "MutableSeq('ADKELKFLVVDDFSTMRRIVRNLLKELGFNNVEEAEDGVDALNKLQAGGYGFVI...LGM')\n",
      "ID: pdb1ffw.entA_0_3629188840_E92K\n",
      "Name: <unknown name>\n",
      "Number of features: 0\n",
      "MutableSeq('ADKELKFLVVDDFSTMRRIVRNLLKELGFNNVEEAEDGVDALNKLQAGGYGFVI...LGM')\n"
     ]
    }
   ],
   "source": [
    "generator = variant_seqrecord_generator()\n",
    "for i in range(4):\n",
    "    a = next(generator)\n",
    "    print(a)"
   ],
   "metadata": {
    "collapsed": false,
    "pycharm": {
     "name": "#%%\n"
    }
   }
  },
  {
   "cell_type": "code",
   "execution_count": 161,
   "outputs": [],
   "source": [
    "with open(WD / 'fopra' / f'{el2.stem}_variants.fasta', 'w') as fasta:\n",
    "    SeqIO.write(variant_seqrecord_generator(), fasta, 'fasta')"
   ],
   "metadata": {
    "collapsed": false,
    "pycharm": {
     "name": "#%%\n"
    }
   }
  },
  {
   "cell_type": "code",
   "execution_count": 162,
   "outputs": [],
   "source": [
    "with open(WD / 'fopra' / f'{el2.stem}_variant_effects.pkl', 'wb') as pkl:\n",
    "    pickle.dump(effects, pkl)"
   ],
   "metadata": {
    "collapsed": false,
    "pycharm": {
     "name": "#%%\n"
    }
   }
  },
  {
   "cell_type": "code",
   "execution_count": 163,
   "outputs": [],
   "source": [
    "with open(WD / 'fopra' / f'{el2.stem}_variant_effects.pkl', 'rb') as pkl:\n",
    "    affects = pickle.load(pkl)"
   ],
   "metadata": {
    "collapsed": false,
    "pycharm": {
     "name": "#%%\n"
    }
   }
  },
  {
   "cell_type": "code",
   "execution_count": 164,
   "outputs": [],
   "source": [],
   "metadata": {
    "collapsed": false,
    "pycharm": {
     "name": "#%%\n"
    }
   }
  },
  {
   "cell_type": "code",
   "execution_count": null,
   "outputs": [],
   "source": [],
   "metadata": {
    "collapsed": false,
    "pycharm": {
     "name": "#%%\n"
    }
   }
  }
 ],
 "metadata": {
  "kernelspec": {
   "display_name": "Python 3",
   "language": "python",
   "name": "python3"
  },
  "language_info": {
   "codemirror_mode": {
    "name": "ipython",
    "version": 2
   },
   "file_extension": ".py",
   "mimetype": "text/x-python",
   "name": "python",
   "nbconvert_exporter": "python",
   "pygments_lexer": "ipython2",
   "version": "2.7.6"
  }
 },
 "nbformat": 4,
 "nbformat_minor": 0
}