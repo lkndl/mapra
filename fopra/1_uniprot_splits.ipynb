{
 "cells": [
  {
   "cell_type": "code",
   "execution_count": 13,
   "metadata": {
    "collapsed": true
   },
   "outputs": [],
   "source": [
    "import importlib\n",
    "from pathlib import Path\n",
    "\n",
    "import matplotlib.pyplot as plt\n",
    "import numpy as np\n",
    "from numpy.random import default_rng\n",
    "import pandas as pd\n",
    "import scipy.stats\n",
    "import seaborn as sns\n",
    "from scipy.special import expit\n",
    "from sklearn import linear_model, metrics\n",
    "import matplotlib.lines as mlines\n",
    "from sklearn.preprocessing import minmax_scale\n",
    "from sklearn.metrics import auc, plot_roc_curve, mean_squared_error, r2_score\n",
    "from sklearn.model_selection import train_test_split, StratifiedKFold\n",
    "\n",
    "from mapra import prep\n",
    "from fopra import fopra_driver\n",
    "\n",
    "sns.set_theme(style='white')\n",
    "rng = np.random.default_rng(12345)\n",
    "WD = Path('.').resolve().parent"
   ]
  },
  {
   "cell_type": "markdown",
   "source": [],
   "metadata": {
    "collapsed": false,
    "pycharm": {
     "name": "#%% md\n"
    }
   }
  },
  {
   "cell_type": "code",
   "execution_count": 14,
   "outputs": [
    {
     "name": "stdout",
     "output_type": "stream",
     "text": [
      "/home/quirin/PYTHON/mapra\n"
     ]
    },
    {
     "name": "stderr",
     "output_type": "stream",
     "text": [
      "/home/quirin/PYTHON/mapra/mapra/prep.py:42: RuntimeWarning: unexpected FASTA filename: /home/quirin/PYTHON/mapra/all_sequences_prothermdb.fasta\n",
      "  warnings.warn('unexpected FASTA filename: ' + str(fasta), RuntimeWarning)\n",
      "/home/quirin/PYTHON/mapra/mapra/prep.py:53: UserWarning: found not exactly one TSV with annotations:\n",
      "/home/quirin/PYTHON/mapra/wildtype_pHs.tsv\n",
      "/home/quirin/PYTHON/mapra/prothermdb_annotations.tsv\n",
      "/home/quirin/PYTHON/mapra/wildtypes.tsv\n",
      "/home/quirin/PYTHON/mapra/txts/uniprot_to_pdb.tsv\n",
      "/home/quirin/PYTHON/mapra/txts/uniprot_to_pdb_unmapped.tsv\n",
      "/home/quirin/PYTHON/mapra/full_dbs/crop.tsv\n",
      "/home/quirin/PYTHON/mapra/full_dbs/wild_types.tsv\n",
      "/home/quirin/PYTHON/mapra/full_dbs/wildtypes.tsv\n",
      "/home/quirin/PYTHON/mapra/full_dbs/Tm_dataset.tsv\n",
      "/home/quirin/PYTHON/mapra/CAGI6/cam_predictions.tsv\n",
      "  warnings.warn('found not exactly one TSV with annotations:\\n' + '\\n'.join(str(tsv) for tsv in tsvs))\n"
     ]
    },
    {
     "name": "stdout",
     "output_type": "stream",
     "text": [
      "loading from /home/quirin/PYTHON/mapra/pkl/h5_slice_0.pkl\n",
      "split 35 targeted 0.2, real test sizes: 0.2020:0.2113:0.2057, record test sizes: 0.3623:0.1307:0.0980\n"
     ]
    },
    {
     "data": {
      "text/plain": "[0, 1, 2, 3, 4, 5, 6, 1024, 1025, 1026, 1027, 1028, 1029]"
     },
     "execution_count": 14,
     "metadata": {},
     "output_type": "execute_result"
    }
   ],
   "source": [
    "importlib.reload(prep)\n",
    "importlib.reload(fopra_driver)\n",
    "data = prep.dataset()\n",
    "df = data.dataframe_abbrev(reduced=True)\n",
    "\n",
    "test_size = .2\n",
    "seed = 35\n",
    "\n",
    "splits = data.uniprot_train_test_split(df=df, test_size=.2, random_state=seed)\n",
    "fopra_driver.seeds"
   ],
   "metadata": {
    "collapsed": false,
    "pycharm": {
     "name": "#%%\n"
    }
   }
  },
  {
   "cell_type": "code",
   "execution_count": 15,
   "outputs": [
    {
     "data": {
      "text/plain": "array([[0.00000000e+00, 1.88000000e+02, 4.80000000e+01, ...,\n        2.02020202e-01, 2.60494311e-01, 0.00000000e+00],\n       [1.00000000e+00, 8.10000000e+01, 1.40000000e+01, ...,\n        2.11267606e-01, 1.66752445e-01, 0.00000000e+00],\n       [2.00000000e+00, 2.16000000e+02, 4.90000000e+01, ...,\n        2.05673759e-01, 1.41468254e-01, 0.00000000e+00],\n       ...,\n       [0.00000000e+00, 2.18500000e+03, 1.02400000e+03, ...,\n        2.02020202e-01, 2.20870930e-01, 1.02900000e+03],\n       [1.00000000e+00, 9.74000000e+02, 1.02400000e+03, ...,\n        2.11267606e-01, 8.85229027e-02, 1.02900000e+03],\n       [2.00000000e+00, 1.44400000e+03, 1.02400000e+03, ...,\n        2.05673759e-01, 4.79166667e-01, 1.02900000e+03]])"
     },
     "execution_count": 15,
     "metadata": {},
     "output_type": "execute_result"
    }
   ],
   "source": [
    "ar = np.load(str(WD / 'txts' / f'fopra_all.npy'),\n",
    "             allow_pickle=False)\n",
    "\n"
   ],
   "metadata": {
    "collapsed": false,
    "pycharm": {
     "name": "#%%\n"
    }
   }
  }
 ],
 "metadata": {
  "kernelspec": {
   "display_name": "Python 3",
   "language": "python",
   "name": "python3"
  },
  "language_info": {
   "codemirror_mode": {
    "name": "ipython",
    "version": 2
   },
   "file_extension": ".py",
   "mimetype": "text/x-python",
   "name": "python",
   "nbconvert_exporter": "python",
   "pygments_lexer": "ipython2",
   "version": "2.7.6"
  }
 },
 "nbformat": 4,
 "nbformat_minor": 0
}