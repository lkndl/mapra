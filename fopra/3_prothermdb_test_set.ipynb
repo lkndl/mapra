{
 "cells": [
  {
   "cell_type": "code",
   "execution_count": 1,
   "metadata": {
    "collapsed": true
   },
   "outputs": [],
   "source": [
    "from mapra import prep\n",
    "from pathlib import Path\n",
    "import importlib\n",
    "import numpy as np\n",
    "import sys, os"
   ]
  },
  {
   "cell_type": "code",
   "execution_count": 20,
   "outputs": [
    {
     "name": "stdout",
     "output_type": "stream",
     "text": [
      "/home/quirin/PYTHON/mapra\n"
     ]
    },
    {
     "name": "stderr",
     "output_type": "stream",
     "text": [
      "/home/quirin/PYTHON/mapra/mapra/prep.py:42: RuntimeWarning: unexpected FASTA filename: /home/quirin/PYTHON/mapra/all_sequences_prothermdb.fasta\n",
      "  warnings.warn('unexpected FASTA filename: ' + str(fasta), RuntimeWarning)\n",
      "/home/quirin/PYTHON/mapra/mapra/prep.py:42: RuntimeWarning: unexpected FASTA filename: /home/quirin/PYTHON/mapra/CAGI6/cam_mutants.fasta\n",
      "  warnings.warn('unexpected FASTA filename: ' + str(fasta), RuntimeWarning)\n",
      "/home/quirin/PYTHON/mapra/mapra/prep.py:42: RuntimeWarning: unexpected FASTA filename: /home/quirin/PYTHON/mapra/fopra/elaspic-training-set-core.fasta\n",
      "  warnings.warn('unexpected FASTA filename: ' + str(fasta), RuntimeWarning)\n",
      "/home/quirin/PYTHON/mapra/mapra/prep.py:53: UserWarning: found not exactly one TSV with annotations:\n",
      "/home/quirin/PYTHON/mapra/wildtype_pHs.tsv\n",
      "/home/quirin/PYTHON/mapra/prothermdb_annotations.tsv\n",
      "/home/quirin/PYTHON/mapra/wildtypes.tsv\n",
      "/home/quirin/PYTHON/mapra/txts/uniprot_to_pdb.tsv\n",
      "/home/quirin/PYTHON/mapra/txts/uniprot_to_pdb_unmapped.tsv\n",
      "/home/quirin/PYTHON/mapra/full_dbs/crop.tsv\n",
      "/home/quirin/PYTHON/mapra/full_dbs/wild_types.tsv\n",
      "/home/quirin/PYTHON/mapra/full_dbs/wildtypes.tsv\n",
      "/home/quirin/PYTHON/mapra/full_dbs/Tm_dataset.tsv\n",
      "/home/quirin/PYTHON/mapra/CAGI6/cam_predictions.tsv\n",
      "  warnings.warn('found not exactly one TSV with annotations:\\n' + '\\n'.join(str(tsv) for tsv in tsvs))\n"
     ]
    },
    {
     "name": "stdout",
     "output_type": "stream",
     "text": [
      "[699 227 788 316 204 797 642 676 988 391 839 332 567 598 213 186 229 672\n",
      " 613 941]\n",
      "loading from /home/quirin/PYTHON/mapra/pkl/h5_slice_0.pkl\n",
      "split 332 targeted 0.2, real test sizes: 0.2020:0.2113:0.2057, record test sizes: 0.1612:0.1565:0.1544\n"
     ]
    }
   ],
   "source": [
    "importlib.reload(prep)\n",
    "data = prep.dataset()\n",
    "df = data.dataframe_abbrev(reduced=True)\n",
    "seeds = np.random.default_rng(12345).integers(0, 1000, 20)\n",
    "seeds"
   ],
   "metadata": {
    "collapsed": false,
    "pycharm": {
     "name": "#%%\n"
    }
   }
  },
  {
   "cell_type": "code",
   "execution_count": null,
   "outputs": [],
   "source": [
    "splits = data.uniprot_train_test_split(df=df, test_size=.2, random_state=332)"
   ],
   "metadata": {
    "collapsed": false,
    "pycharm": {
     "name": "#%%\n"
    }
   }
  },
  {
   "cell_type": "code",
   "execution_count": 23,
   "outputs": [
    {
     "data": {
      "text/plain": "{'O61594',\n 'P00811',\n 'P01006',\n 'P02689',\n 'P03034',\n 'P09850',\n 'P0A7Y4',\n 'P0ACJ8',\n 'P0AFG6',\n 'P12528',\n 'P23540',\n 'P41500',\n 'P69441',\n 'P81708',\n 'Q9EYL5'}"
     },
     "execution_count": 23,
     "metadata": {},
     "output_type": "execute_result"
    }
   ],
   "source": [
    "ddg_test = splits['ddg'].test_set\n",
    "ddg_test"
   ],
   "metadata": {
    "collapsed": false,
    "pycharm": {
     "name": "#%%\n"
    }
   }
  },
  {
   "cell_type": "code",
   "execution_count": 28,
   "outputs": [
    {
     "data": {
      "text/plain": "{'P02625': SeqRecord(seq=Seq('MSMTDLLSAEDIKKAIGAFTAADSFDHKKFFQMVGLKKKSADDVKKVFHILDKD...AES'), id='P02625', name='P02625', description='P02625', dbxrefs=[]),\n 'P0A877': SeqRecord(seq=Seq('MERYESLFAQLKERKEGAFVPFVTLGDPGIEQSLKIIDTLIEAGADALELGIPF...TRS'), id='P0A877', name='P0A877', description='P0A877', dbxrefs=[]),\n 'P00651': SeqRecord(seq=Seq('MMYSKLLTLTTLLLPTALALPSLVERACDYTCGSNCYSSSDVSTAQAAGYQLHE...ECT'), id='P00651', name='P00651', description='P00651', dbxrefs=[]),\n 'P0AFG6': SeqRecord(seq=Seq('MSSVDILVPDLPESVADATVATWHKKPGDAVVRDEVLVEIETDKVVLEVPASAD...LDV'), id='P0AFG6', name='P0AFG6', description='P0AFG6', dbxrefs=[]),\n 'P07751': SeqRecord(seq=Seq('MDPSGVKVLETAEDIQERRQQVLDRYHRFKELSSLRRQKLEDSYRFQFFQRDAD...FVN'), id='P07751', name='P07751', description='P07751', dbxrefs=[]),\n 'O61594': SeqRecord(seq=Seq('MKLLVVLSLVAVACNASIVRQQRRFPDDFLFGTATASYQIEGAWDEDGKGENIW...EGH'), id='O61594', name='O61594', description='O61594', dbxrefs=[]),\n 'Q13526': SeqRecord(seq=Seq('MADEEKLPPGWEKRMSRSSGRVYYFNHITNASQWERPSGNSSSGGKNGQGEPAR...RTE'), id='Q13526', name='Q13526', description='Q13526', dbxrefs=[]),\n 'P24821': SeqRecord(seq=Seq('MGAMTQLLAGVFLAFLALATEGGVLKKVIRHKRQSGVNATLPEENQPVVFNHVY...KRA'), id='P24821', name='P24821', description='P24821', dbxrefs=[]),\n 'P0AA25': SeqRecord(seq=Seq('MSDKIIHLTDDSFDTDVLKADGAILVDFWAEWCGPCKMIAPILDEIADEYQGKL...NLA'), id='P0AA25', name='P0AA25', description='P0AA25', dbxrefs=[]),\n 'P00811': SeqRecord(seq=Seq('MFKTTLCALLITASCSTFAAPQQINDIVHRTITPLIEQQKIPGMAVAVIYQGKP...ALQ'), id='P00811', name='P00811', description='P00811', dbxrefs=[]),\n 'P12528': SeqRecord(seq=Seq('MTDITANVVVSNPRPIFTESRSFKAVANGKIYIGQIDTDPVNPANQIPVYIENE...ATL'), id='P12528', name='P12528', description='P12528', dbxrefs=[]),\n 'P78352': SeqRecord(seq=Seq('MDCLCIVTTKKYRYQDEDTPPLEHSPAHLPNQANSPPVIVNTDTLEAPGYELQV...ERL'), id='P78352', name='P78352', description='P78352', dbxrefs=[]),\n 'P00648': SeqRecord(seq=Seq('MMKMEGIALKKRLSWISVCLLVLVSAAGMLFSTAAKTETSSHKAHTEAQVINTF...KIR'), id='P00648', name='P00648', description='P00648', dbxrefs=[]),\n 'P00974': SeqRecord(seq=Seq('MKMSRLCLSVALLVLLGTLAASTPGCDTSNQAKAQRPDFCLEPPYTGPCKARII...ENL'), id='P00974', name='P00974', description='P00974', dbxrefs=[]),\n 'P02925': SeqRecord(seq=Seq('MNMKKLATLVSAVALSATVSANAMAKDTIALVVSTLNNPFFVSLKDGAQKEADK...VKQ'), id='P02925', name='P02925', description='P02925', dbxrefs=[]),\n 'P41500': SeqRecord(seq=Seq('MSMAEGDTLISVDYEIFGKVQGVFFRKYTQAEGKKLGLVGWVQNTDQGTVQGQL...IVK'), id='P41500', name='P41500', description='P41500', dbxrefs=[]),\n 'P09850': SeqRecord(seq=Seq('MFKFKKNFLVGLSAALMSISLFSATASAASTDYWQNWTDGGGIVNAVNGSGGNY...TVW'), id='P09850', name='P09850', description='P09850', dbxrefs=[]),\n 'P03051': SeqRecord(seq=Seq('MTKQEKTALNMARFIRSQTLTLLEKLNELDADEQADICESLHDHADELYRSCLA...ENL'), id='P03051', name='P03051', description='P03051', dbxrefs=[]),\n 'P03034': SeqRecord(seq=Seq('MSTKKKPLTQEQLEDARRLKAIYEKKKNELGLSQESVADKMGMGQSGVGALFNG...TFG'), id='P03034', name='P03034', description='P03034', dbxrefs=[]),\n 'P03706': SeqRecord(seq=Seq('MVEINNQRKAFLDMLAWSEGTDNGRQKTRNHGYDVIVGGELFTDYSDHPRKLVT...IDV'), id='P03706', name='P03706', description='P03706', dbxrefs=[]),\n 'P02689': SeqRecord(seq=Seq('MSNKFLGTWKLVSSENFDDYMKALGVGLATRKLGNLAKPTVIISKKGDIITIRT...EKV'), id='P02689', name='P02689', description='P02689', dbxrefs=[]),\n 'P03040': SeqRecord(seq=Seq('MEQRITLKDYAMRFGQTKTAKDLGVYQSAINKAIHAGRKIFLTINADGSVYAEE...TTA'), id='P03040', name='P03040', description='P03040', dbxrefs=[]),\n 'P69441': SeqRecord(seq=Seq('MRIILLGAPGAGKGTQAQFIMEKYGIPQISTGDMLRAAVKSGSELGKQAKDIMD...ILG'), id='P69441', name='P69441', description='P69441', dbxrefs=[]),\n 'P01006': SeqRecord(seq=Seq('MRNTGAGPSPSVSRPPPSAAPLSGAALAAPGDAPSALYAPSALVLTVGKGVSAT...FAF'), id='P01006', name='P01006', description='P01006', dbxrefs=[]),\n 'P39476': SeqRecord(seq=Seq('MATVKFKYKGEEKEVDISKIKKVWRVGKMISFTYDEGGGKTGRGAVSEKDAPKE...QKK'), id='P39476', name='P39476', description='P39476', dbxrefs=[]),\n 'P05230': SeqRecord(seq=Seq('MAEGEITTFTALTEKFNLPPGNYKKPKLLYCSNGGHFLRILPDGTVDGTRDRSD...SSD'), id='P05230', name='P05230', description='P05230', dbxrefs=[]),\n 'P81708': SeqRecord(seq=Seq('KIFSKCELARKLKSMGMDGFHGYSLANWVCMAEYESNFNTQAFNGRNSNGSSDY...CNL'), id='P81708', name='P81708', description='P81708', dbxrefs=[]),\n 'P04637': SeqRecord(seq=Seq('MEEPQSDPSVEPPLSQETFSDLWKLLPENNVLSPLPSQAMDDLMLSPDDIEQWF...DSD'), id='P04637', name='P04637', description='P04637', dbxrefs=[]),\n 'P06654': SeqRecord(seq=Seq('MEKEKKVKYFLRKSAFGLASVSAAFLVGSTVFAVDSPIEDTPIIRNGGELTNLL...KED'), id='P06654', name='P06654', description='P06654', dbxrefs=[]),\n 'P39940': SeqRecord(seq=Seq('MPSSISVKLVAAESLYKRDVFRSPDPFAVLTIDGYQTKSTSAAKKTLNPYWNET...GQE'), id='P39940', name='P39940', description='P39940', dbxrefs=[]),\n 'P03050': SeqRecord(seq=Seq('MKGMSKMPQFNLRWPREVLDLVRKVAEENGRSVNSEIYQRVMESFKKEGRIGA'), id='P03050', name='P03050', description='P03050', dbxrefs=[]),\n 'P00712': SeqRecord(seq=Seq('MMSFVSLLLVGILFHATQAEQLTKCEVFQKLKDLKDYGGVSLPEWVCTAFHTSG...EKL'), id='P00712', name='P00712', description='P00712', dbxrefs=[]),\n 'P22069': SeqRecord(seq=Seq('QDWLTFQKKHITNTRDVDCDNIMSTNLFHCKDKNTFIYSRPEPVKAICKGIIAS...GSC'), id='P22069', name='P22069', description='P22069', dbxrefs=[]),\n 'P11540': SeqRecord(seq=Seq('MKKAVINGEQIRSISDLHQTLKKELALPEYYGENLDALWDCLTGWVEYPLVLEW...ILS'), id='P11540', name='P11540', description='P11540', dbxrefs=[]),\n 'P00720': SeqRecord(seq=Seq('MNIFEMLRIDERLRLKIYKDTEGYYTIGIGHLLTKSPSLNAAKSELDKAIGRNC...KNL'), id='P00720', name='P00720', description='P00720', dbxrefs=[]),\n 'P04179': SeqRecord(seq=Seq('MLSRAVCGTSRQLAPVLGYLGSRQKHSLPDLPYDYGALEPHINAQIMQLHHSKH...CKK'), id='P04179', name='P04179', description='P04179', dbxrefs=[]),\n 'P00004': SeqRecord(seq=Seq('MGDVEKGKKIFVQKCAQCHTVEKGGKHKTGPNLHGLFGRKTGQAPGFTYTDANK...TNE'), id='P00004', name='P00004', description='P00004', dbxrefs=[]),\n 'P03069': SeqRecord(seq=Seq('MSEYQPSLFALNPMGFSPLDGSKSTNENVSASTSTAKPMVGQLIFDKFIKTEED...GER'), id='P03069', name='P03069', description='P03069', dbxrefs=[]),\n 'P00173': SeqRecord(seq=Seq('MAEQSDKDVKYYTLEEIQKHKDSKSTWVILHHKVYDLTKFLEEHPGGEEVLREQ...AED'), id='P00173', name='P00173', description='P00173', dbxrefs=[]),\n 'P0AEX9': SeqRecord(seq=Seq('MKIKTGARILALSALTTMMFSASALAKIEEGKLVIWINGDKGYNGLAEVGKKFE...ITK'), id='P0AEX9', name='P0AEX9', description='P0AEX9', dbxrefs=[]),\n 'P0A3D9': SeqRecord(seq=Seq('MSKKIGLFYGTQTGKTESVAEIIRDEFGNDVVTLHDVSQAEVTDLNDYQYLIIG...FGL'), id='P0A3D9', name='P0A3D9', description='P0A3D9', dbxrefs=[]),\n 'P05121': SeqRecord(seq=Seq('MQMSPALTCLVLGLALVFGEGSAVHHPPSYVAHLASDFGVRVFQQVAQASKDRN...MEP'), id='P05121', name='P05121', description='P05121', dbxrefs=[]),\n 'P0A7Y4': SeqRecord(seq=Seq('MLKQVEIFTDGSCLGNPGPGGYGAILRYRGREKTFSAGYTRTTNNRMELMAAIV...VEV'), id='P0A7Y4', name='P0A7Y4', description='P0A7Y4', dbxrefs=[]),\n 'P0ABE7': SeqRecord(seq=Seq('MRKSLLAILAVSSLVFSSASFAADLEDNMETLNDNLKVIEKADNAAQVKDALTK...KYR'), id='P0ABE7', name='P0ABE7', description='P0ABE7', dbxrefs=[]),\n 'P96110': SeqRecord(seq=Seq('MPEKSLYEMAVEQFNRAASLMDLESDLAEVLRRPKRVLIVEFPVRMDDGHVEVF...IYP'), id='P96110', name='P96110', description='P96110', dbxrefs=[]),\n 'P63159': SeqRecord(seq=Seq('MGKGDPKKPRGKMSSYAFFVQTCREEHKKKHPDASVNFSEFSKKCSERWKTMSA...DDE'), id='P63159', name='P63159', description='P63159', dbxrefs=[]),\n 'P61823': SeqRecord(seq=Seq('MALKSLVLLSLLVLVLLLVRVQPSLGKETAAAKFERQHMDSSTSAASSSNYCNQ...ASV'), id='P61823', name='P61823', description='P61823', dbxrefs=[]),\n 'P23540': SeqRecord(seq=Seq('FDSFWFVQQWPPAVCSFQKSGSCPGSGLRTFTIHGLWPQGSGTSLTNCPQGSPF...FIF'), id='P23540', name='P23540', description='P23540', dbxrefs=[]),\n 'P0ACJ8': SeqRecord(seq=Seq('MVLGKPQTDPTLEWFLSHCHIHKYPSKSTLIHQGEKAETLYYIVKGSVAVLIKD...GTR'), id='P0ACJ8', name='P0ACJ8', description='P0ACJ8', dbxrefs=[]),\n 'P02640': SeqRecord(seq=Seq('MVELSKKVTGKLDKTTPGIQIWRIENMEMVPVPTKSYGNFYEGDCYVLLSTRKT...GLF'), id='P02640', name='P02640', description='P02640', dbxrefs=[]),\n 'P0A3H0': SeqRecord(seq=Seq('MNKTELINAVAETSGLSKKDATKAVDAVFDSITEALRKGDKVQLIGFGNFEVRE...AVK'), id='P0A3H0', name='P0A3H0', description='P0A3H0', dbxrefs=[]),\n 'P30289': SeqRecord(seq=Seq('MRIPPRLVALAGAAAVAATLIAGPVAAAAPASHAVAASSAASASVKAVGRVCYS...FAC'), id='P30289', name='P30289', description='P30289', dbxrefs=[]),\n 'P41016': SeqRecord(seq=Seq('MQRGKVKWFNNEKGYGFIEVEGGSDVFVHFTAIQGEGFKTLEEGQEVSFEIVQG...VKL'), id='P41016', name='P41016', description='P41016', dbxrefs=[]),\n 'R9S082': SeqRecord(seq=Seq('MGLSDGEWQLVLNVWGKVETDLAGHGQEVLIRLFKGHPETLEKFDKFKHLKSED...FQG'), id='R9S082', name='R9S082', description='R9S082', dbxrefs=[]),\n 'P00257': SeqRecord(seq=Seq('MAARLLRVASAALGDTAGRWRLLARPRAGAGGLRGSRGPGLGGGAVATRTLSVS...KIE'), id='P00257', name='P00257', description='P00257', dbxrefs=[]),\n 'Q5NV88': SeqRecord(seq=Seq('NFMLTQPHSVSESPGKTVTISCTRSSGSIASNYVQWYQQRPGSSPTTVIYEDNQ...SSN'), id='Q5NV88', name='Q5NV88', description='Q5NV88', dbxrefs=[]),\n 'P07845': SeqRecord(seq=Seq('ALAGTIIAGASLTFQVLDKVLEELGKVSRKIAVGIDNESGGTWTALNAYFRSGT...ISR'), id='P07845', name='P07845', description='P07845', dbxrefs=[]),\n 'P01051': SeqRecord(seq=Seq('TEFGSELKSFPEVVGKTVDQAREYFTLHYPQYDVYFLPEGSPVTLDLRYNRVRV...HVG'), id='P01051', name='P01051', description='P01051', dbxrefs=[]),\n 'P05798': SeqRecord(seq=Seq('DVSGTVCLSALPPEATDTLNLIASDGPFPYSQDGVVFQNRESVLPTQSYGYYHE...QTC'), id='P05798', name='P05798', description='P05798', dbxrefs=[]),\n 'P33665': SeqRecord(seq=Seq('MHSQHRTARIALAVVLTAIPASLATAGVGYASTQASTAVKAGAGLDDPHKKEIA...INS'), id='P33665', name='P33665', description='P33665', dbxrefs=[]),\n 'P00644': SeqRecord(seq=Seq('MLVMTEYLLSAGICMAIVSILLIGMAISNVSKGQYAKRFFFFATSCLVLTLVVV...SGQ'), id='P00644', name='P00644', description='P00644', dbxrefs=[]),\n 'Q9EYL5': SeqRecord(seq=Seq('MTKKLLTLFIVSMLILTACGKKESATTSSKNGKPLVVVYGDYKCPYCKELDEKV...KIK'), id='Q9EYL5', name='Q9EYL5', description='Q9EYL5', dbxrefs=[]),\n 'P29957': SeqRecord(seq=Seq('MKLNKIITTAGLSLGLLLPSIATATPTTFVHLFEWNWQDVAQECEQYLGPKGYA...RSF'), id='P29957', name='P29957', description='P29957', dbxrefs=[]),\n 'Q40059': SeqRecord(seq=Seq('MSSMEKKPEGVNIGAGDRQNQKTEWPELVGKSVEEAKKVILQDKPAAQIIVLPV...RVG'), id='Q40059', name='Q40059', description='Q40059', dbxrefs=[]),\n 'P46937': SeqRecord(seq=Seq('MDPGQQPPPQPAPQGQGQPPSQPPQGQGPPSGPGQPAPAATQAAPQAPPAGHQI...TWL'), id='P46937', name='P46937', description='P46937', dbxrefs=[]),\n 'P00782': SeqRecord(seq=Seq('MRGKKVWISLLFALALIFTMAFGSTSSAQAAGKSNGEKKYIVGFKQTMSTMSAA...AAQ'), id='P00782', name='P00782', description='P00782', dbxrefs=[]),\n 'P00268': SeqRecord(seq=Seq('MKKYTCTVCGYIYNPEDGDPDNGVNPGTDFKDIPDDWVCPLCGVGKDQFEEVEE'), id='P00268', name='P00268', description='P00268', dbxrefs=[]),\n 'P00099': SeqRecord(seq=Seq('MKPYALLSLLATGTLLAQGAWAEDPEVLFKNKGCVACHAIDTKMVGPAYKDVAA...SQK'), id='P00099', name='P00099', description='P00099', dbxrefs=[]),\n 'P0AA04': SeqRecord(seq=Seq('MFQQEVTITAPNGLHTRPAAQFVKEAKGFTSEITVTSNGKSASAKSLFKLQTLG...ELE'), id='P0AA04', name='P0AA04', description='P0AA04', dbxrefs=[]),\n 'P62593': SeqRecord(seq=Seq('MSIQHFRVALIPFFAAFCLPVFAHPETLVKVKDAEDQLGARVGYIELDLNSGKI...KHW'), id='P62593', name='P62593', description='P62593', dbxrefs=[]),\n 'P04925': SeqRecord(seq=Seq('MANLGYWLLALFVTMWTDVGLCKKRPKPGGWNTGGSRYPGQGSPGGNRYPPQGG...IVG'), id='P04925', name='P04925', description='P04925', dbxrefs=[]),\n 'P00750': SeqRecord(seq=Seq('MDAMKRGLCCVLLLCGAVFVSPSQEIHARFRRGARSYQVICRDEKTQMIYQQHQ...MRP'), id='P00750', name='P00750', description='P00750', dbxrefs=[])}"
     },
     "execution_count": 28,
     "metadata": {},
     "output_type": "execute_result"
    }
   ],
   "source": [
    "from Bio import SeqIO\n",
    "\n",
    "records = dict()\n",
    "ddg_wt_filename = next(Path('.').resolve().parent\n",
    "                       .rglob('uniprot_prothermdb_delta_g_rep_seq.fasta'))\n",
    "with open(ddg_wt_filename, 'r') as fasta:\n",
    "    for record in SeqIO.parse(fasta, 'fasta'):\n",
    "        records[record.id] = record\n",
    "records"
   ],
   "metadata": {
    "collapsed": false,
    "pycharm": {
     "name": "#%%\n"
    }
   }
  },
  {
   "cell_type": "code",
   "execution_count": 29,
   "outputs": [],
   "source": [
    "with open(ddg_wt_filename.with_name('ddg_test_set_332.fasta'), 'w') as fasta:\n",
    "    for ddg_wt in ddg_test:\n",
    "        SeqIO.write(records[ddg_wt], fasta, 'fasta')"
   ],
   "metadata": {
    "collapsed": false,
    "pycharm": {
     "name": "#%%\n"
    }
   }
  },
  {
   "cell_type": "code",
   "execution_count": 30,
   "outputs": [
    {
     "data": {
      "text/plain": "15"
     },
     "execution_count": 30,
     "metadata": {},
     "output_type": "execute_result"
    }
   ],
   "source": [
    "len(ddg_test)\n"
   ],
   "metadata": {
    "collapsed": false,
    "pycharm": {
     "name": "#%%\n"
    }
   }
  },
  {
   "cell_type": "code",
   "execution_count": null,
   "outputs": [],
   "source": [],
   "metadata": {
    "collapsed": false,
    "pycharm": {
     "name": "#%%\n"
    }
   }
  }
 ],
 "metadata": {
  "kernelspec": {
   "display_name": "Python 3",
   "language": "python",
   "name": "python3"
  },
  "language_info": {
   "codemirror_mode": {
    "name": "ipython",
    "version": 2
   },
   "file_extension": ".py",
   "mimetype": "text/x-python",
   "name": "python",
   "nbconvert_exporter": "python",
   "pygments_lexer": "ipython2",
   "version": "2.7.6"
  }
 },
 "nbformat": 4,
 "nbformat_minor": 0
}