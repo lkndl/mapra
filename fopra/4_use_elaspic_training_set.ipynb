{
 "cells": [
  {
   "cell_type": "code",
   "execution_count": 1,
   "metadata": {
    "collapsed": true
   },
   "outputs": [],
   "source": [
    "import importlib\n",
    "\n",
    "import numpy as np\n",
    "import scipy\n",
    "import seaborn as sns\n",
    "from matplotlib import pyplot as plt\n",
    "from numpy.random import default_rng\n",
    "from sklearn import linear_model\n",
    "from sklearn.metrics import mean_squared_error, r2_score\n",
    "\n",
    "from mapra import prep\n",
    "\n",
    "rng = np.random.default_rng(12345)\n",
    "sns.set_theme(style='white')"
   ]
  },
  {
   "cell_type": "markdown",
   "source": [
    "### Train a predictor on the ELASPIC dataset and test on the ProTherm test set"
   ],
   "metadata": {
    "collapsed": false,
    "pycharm": {
     "name": "#%% md\n"
    }
   }
  },
  {
   "cell_type": "code",
   "execution_count": 2,
   "outputs": [
    {
     "name": "stdout",
     "output_type": "stream",
     "text": [
      "/home/quirin/PYTHON/mapra\n"
     ]
    },
    {
     "name": "stderr",
     "output_type": "stream",
     "text": [
      "/home/quirin/PYTHON/mapra/mapra/prep.py:271: RuntimeWarning: unexpected FASTA filename: /home/quirin/PYTHON/mapra/all_sequences_prothermdb.fasta\n",
      "  warnings.warn('unexpected FASTA filename: ' + str(fasta), RuntimeWarning)\n",
      "/home/quirin/PYTHON/mapra/mapra/prep.py:271: RuntimeWarning: unexpected FASTA filename: /home/quirin/PYTHON/mapra/CAGI6/cam_mutants.fasta\n",
      "  warnings.warn('unexpected FASTA filename: ' + str(fasta), RuntimeWarning)\n",
      "/home/quirin/PYTHON/mapra/mapra/prep.py:271: RuntimeWarning: unexpected FASTA filename: /home/quirin/PYTHON/mapra/ELASPIC2/01_extract_seqs/elaspic-training-set-core.fasta\n",
      "  warnings.warn('unexpected FASTA filename: ' + str(fasta), RuntimeWarning)\n",
      "/home/quirin/PYTHON/mapra/mapra/prep.py:271: RuntimeWarning: unexpected FASTA filename: /home/quirin/PYTHON/mapra/ELASPIC2/01_extract_seqs/previously_embedded_dup.fasta\n",
      "  warnings.warn('unexpected FASTA filename: ' + str(fasta), RuntimeWarning)\n",
      "/home/quirin/PYTHON/mapra/mapra/prep.py:271: RuntimeWarning: unexpected FASTA filename: /home/quirin/PYTHON/mapra/ELASPIC2/01_extract_seqs/previously_embedded.fasta\n",
      "  warnings.warn('unexpected FASTA filename: ' + str(fasta), RuntimeWarning)\n",
      "/home/quirin/PYTHON/mapra/mapra/prep.py:271: RuntimeWarning: unexpected FASTA filename: /home/quirin/PYTHON/mapra/ELASPIC2/01_extract_seqs/elaspic-training-set-core_variants.fasta\n",
      "  warnings.warn('unexpected FASTA filename: ' + str(fasta), RuntimeWarning)\n",
      "/home/quirin/PYTHON/mapra/mapra/prep.py:271: RuntimeWarning: unexpected FASTA filename: /home/quirin/PYTHON/mapra/ELASPIC2/01_extract_seqs/already_embedded.fasta\n",
      "  warnings.warn('unexpected FASTA filename: ' + str(fasta), RuntimeWarning)\n",
      "/home/quirin/PYTHON/mapra/mapra/prep.py:271: RuntimeWarning: unexpected FASTA filename: /home/quirin/PYTHON/mapra/ELASPIC2/01_extract_seqs/proteins.fasta\n",
      "  warnings.warn('unexpected FASTA filename: ' + str(fasta), RuntimeWarning)\n",
      "/home/quirin/PYTHON/mapra/mapra/prep.py:271: RuntimeWarning: unexpected FASTA filename: /home/quirin/PYTHON/mapra/reduced_set/ddg_test_set_332.fasta\n",
      "  warnings.warn('unexpected FASTA filename: ' + str(fasta), RuntimeWarning)\n",
      "/home/quirin/PYTHON/mapra/mapra/prep.py:271: RuntimeWarning: unexpected FASTA filename: /home/quirin/PYTHON/mapra/fopra/elaspic-training-set-core.fasta\n",
      "  warnings.warn('unexpected FASTA filename: ' + str(fasta), RuntimeWarning)\n",
      "/home/quirin/PYTHON/mapra/mapra/prep.py:271: RuntimeWarning: unexpected FASTA filename: /home/quirin/PYTHON/mapra/fopra/elaspic-training-set-core_test_variants.fasta\n",
      "  warnings.warn('unexpected FASTA filename: ' + str(fasta), RuntimeWarning)\n",
      "/home/quirin/PYTHON/mapra/mapra/prep.py:271: RuntimeWarning: unexpected FASTA filename: /home/quirin/PYTHON/mapra/fopra/rr_training_set_cdhit.fasta\n",
      "  warnings.warn('unexpected FASTA filename: ' + str(fasta), RuntimeWarning)\n",
      "/home/quirin/PYTHON/mapra/mapra/prep.py:271: RuntimeWarning: unexpected FASTA filename: /home/quirin/PYTHON/mapra/fopra/elaspic-training-set-core_variants.fasta\n",
      "  warnings.warn('unexpected FASTA filename: ' + str(fasta), RuntimeWarning)\n",
      "/home/quirin/PYTHON/mapra/mapra/prep.py:271: RuntimeWarning: unexpected FASTA filename: /home/quirin/PYTHON/mapra/fopra/rr_training_set_mmseqs.fasta\n",
      "  warnings.warn('unexpected FASTA filename: ' + str(fasta), RuntimeWarning)\n",
      "/home/quirin/PYTHON/mapra/mapra/prep.py:282: UserWarning: found not exactly one TSV with annotations:\n",
      "/home/quirin/PYTHON/mapra/wildtype_pHs.tsv\n",
      "/home/quirin/PYTHON/mapra/prothermdb_annotations.tsv\n",
      "/home/quirin/PYTHON/mapra/wildtypes.tsv\n",
      "/home/quirin/PYTHON/mapra/txts/uniprot_to_pdb.tsv\n",
      "/home/quirin/PYTHON/mapra/txts/uniprot_to_pdb_unmapped.tsv\n",
      "/home/quirin/PYTHON/mapra/full_dbs/crop.tsv\n",
      "/home/quirin/PYTHON/mapra/full_dbs/wild_types.tsv\n",
      "/home/quirin/PYTHON/mapra/full_dbs/wildtypes.tsv\n",
      "/home/quirin/PYTHON/mapra/full_dbs/Tm_dataset.tsv\n",
      "/home/quirin/PYTHON/mapra/CAGI6/cam_predictions.tsv\n",
      "  warnings.warn('found not exactly one TSV with annotations:\\n' + '\\n'.join(str(tsv) for tsv in tsvs))\n"
     ]
    },
    {
     "name": "stdout",
     "output_type": "stream",
     "text": [
      "loading from /home/quirin/PYTHON/mapra/pkl/h5_slice_0_protherm.pkl\n",
      "split 332 targeted 0.2, real test sizes: 0.2020:0.2113:0.2057, record test sizes: 0.1612:0.1565:0.1544\n"
     ]
    }
   ],
   "source": [
    "# re-generate the protherm test set\n",
    "importlib.reload(prep)\n",
    "protherm = prep.protherm_dataset()\n",
    "protherm_df = protherm.dataframe_abbrev({'DATASET': 'reduced_set'})\n",
    "splits = protherm.uniprot_train_test_split(df=protherm_df, selector={2048:True}, test_size=.2, random_state=332)\n",
    "test_set = splits['ddg']"
   ],
   "metadata": {
    "collapsed": false,
    "pycharm": {
     "name": "#%%\n"
    }
   }
  },
  {
   "cell_type": "code",
   "execution_count": 3,
   "outputs": [
    {
     "data": {
      "text/plain": "['X',\n 'X_test',\n 'delta',\n 'real_test_size',\n 'records_test_size',\n 'test_set',\n 'y',\n 'y_true']"
     },
     "execution_count": 3,
     "metadata": {},
     "output_type": "execute_result"
    }
   ],
   "source": [
    "[n for n in dir(test_set) if not n.startswith('_')]"
   ],
   "metadata": {
    "collapsed": false,
    "pycharm": {
     "name": "#%%\n"
    }
   }
  },
  {
   "cell_type": "code",
   "execution_count": 4,
   "outputs": [
    {
     "data": {
      "text/plain": "        unique_id      dataset      UniProt_ID ligand_sequence MUTATION   ddg  \\\n0      3629188840      ab_bind  pdb1ffw.entA_0            None     A89V  0.09   \n1      3629188840      ab_bind  pdb1ffw.entA_0            None     D12K  0.05   \n2      3629188840      ab_bind  pdb1ffw.entA_0            None    E116K  0.71   \n3      3629188840      ab_bind  pdb1ffw.entA_0            None     E92K  0.82   \n4      3629188840      ab_bind  pdb1ffw.entA_0            None    F110V  1.26   \n...           ...          ...             ...             ...      ...   ...   \n20607  1821162748  taipale_ppi    P04075.2:364            None    C338Y   0.0   \n20608  1204240423  taipale_ppi    Q03393.8:145            None      R9C   0.0   \n20609  1204240423  taipale_ppi    Q03393.8:145            None     F33L   0.0   \n20610  1204240423  taipale_ppi    Q03393.8:145            None     K84R   0.0   \n20611  1204240423  taipale_ppi    Q03393.8:145            None    L120F   1.0   \n\n      provean_score foldx_score elaspic_score DATASET DELTA  \n0            -3.876     0.32746      0.310814    both   ddg  \n1            -6.809    -1.56159      0.110331    both   ddg  \n2            -1.206    -0.11701      0.102771    both   ddg  \n3            -3.911     1.11057      0.584293    both   ddg  \n4            -6.873    4.522226      2.758522    both   ddg  \n...             ...         ...           ...     ...   ...  \n20607        -3.859      10.396      0.840431    both   ddg  \n20608        -5.021      0.4673       1.01085    both   ddg  \n20609        -5.532      1.2239       1.35122    both   ddg  \n20610        -2.836      0.4097      0.753752    both   ddg  \n20611        -3.686      5.8284       2.27461    both   ddg  \n\n[20612 rows x 11 columns]",
      "text/html": "<div>\n<style scoped>\n    .dataframe tbody tr th:only-of-type {\n        vertical-align: middle;\n    }\n\n    .dataframe tbody tr th {\n        vertical-align: top;\n    }\n\n    .dataframe thead th {\n        text-align: right;\n    }\n</style>\n<table border=\"1\" class=\"dataframe\">\n  <thead>\n    <tr style=\"text-align: right;\">\n      <th></th>\n      <th>unique_id</th>\n      <th>dataset</th>\n      <th>UniProt_ID</th>\n      <th>ligand_sequence</th>\n      <th>MUTATION</th>\n      <th>ddg</th>\n      <th>provean_score</th>\n      <th>foldx_score</th>\n      <th>elaspic_score</th>\n      <th>DATASET</th>\n      <th>DELTA</th>\n    </tr>\n  </thead>\n  <tbody>\n    <tr>\n      <th>0</th>\n      <td>3629188840</td>\n      <td>ab_bind</td>\n      <td>pdb1ffw.entA_0</td>\n      <td>None</td>\n      <td>A89V</td>\n      <td>0.09</td>\n      <td>-3.876</td>\n      <td>0.32746</td>\n      <td>0.310814</td>\n      <td>both</td>\n      <td>ddg</td>\n    </tr>\n    <tr>\n      <th>1</th>\n      <td>3629188840</td>\n      <td>ab_bind</td>\n      <td>pdb1ffw.entA_0</td>\n      <td>None</td>\n      <td>D12K</td>\n      <td>0.05</td>\n      <td>-6.809</td>\n      <td>-1.56159</td>\n      <td>0.110331</td>\n      <td>both</td>\n      <td>ddg</td>\n    </tr>\n    <tr>\n      <th>2</th>\n      <td>3629188840</td>\n      <td>ab_bind</td>\n      <td>pdb1ffw.entA_0</td>\n      <td>None</td>\n      <td>E116K</td>\n      <td>0.71</td>\n      <td>-1.206</td>\n      <td>-0.11701</td>\n      <td>0.102771</td>\n      <td>both</td>\n      <td>ddg</td>\n    </tr>\n    <tr>\n      <th>3</th>\n      <td>3629188840</td>\n      <td>ab_bind</td>\n      <td>pdb1ffw.entA_0</td>\n      <td>None</td>\n      <td>E92K</td>\n      <td>0.82</td>\n      <td>-3.911</td>\n      <td>1.11057</td>\n      <td>0.584293</td>\n      <td>both</td>\n      <td>ddg</td>\n    </tr>\n    <tr>\n      <th>4</th>\n      <td>3629188840</td>\n      <td>ab_bind</td>\n      <td>pdb1ffw.entA_0</td>\n      <td>None</td>\n      <td>F110V</td>\n      <td>1.26</td>\n      <td>-6.873</td>\n      <td>4.522226</td>\n      <td>2.758522</td>\n      <td>both</td>\n      <td>ddg</td>\n    </tr>\n    <tr>\n      <th>...</th>\n      <td>...</td>\n      <td>...</td>\n      <td>...</td>\n      <td>...</td>\n      <td>...</td>\n      <td>...</td>\n      <td>...</td>\n      <td>...</td>\n      <td>...</td>\n      <td>...</td>\n      <td>...</td>\n    </tr>\n    <tr>\n      <th>20607</th>\n      <td>1821162748</td>\n      <td>taipale_ppi</td>\n      <td>P04075.2:364</td>\n      <td>None</td>\n      <td>C338Y</td>\n      <td>0.0</td>\n      <td>-3.859</td>\n      <td>10.396</td>\n      <td>0.840431</td>\n      <td>both</td>\n      <td>ddg</td>\n    </tr>\n    <tr>\n      <th>20608</th>\n      <td>1204240423</td>\n      <td>taipale_ppi</td>\n      <td>Q03393.8:145</td>\n      <td>None</td>\n      <td>R9C</td>\n      <td>0.0</td>\n      <td>-5.021</td>\n      <td>0.4673</td>\n      <td>1.01085</td>\n      <td>both</td>\n      <td>ddg</td>\n    </tr>\n    <tr>\n      <th>20609</th>\n      <td>1204240423</td>\n      <td>taipale_ppi</td>\n      <td>Q03393.8:145</td>\n      <td>None</td>\n      <td>F33L</td>\n      <td>0.0</td>\n      <td>-5.532</td>\n      <td>1.2239</td>\n      <td>1.35122</td>\n      <td>both</td>\n      <td>ddg</td>\n    </tr>\n    <tr>\n      <th>20610</th>\n      <td>1204240423</td>\n      <td>taipale_ppi</td>\n      <td>Q03393.8:145</td>\n      <td>None</td>\n      <td>K84R</td>\n      <td>0.0</td>\n      <td>-2.836</td>\n      <td>0.4097</td>\n      <td>0.753752</td>\n      <td>both</td>\n      <td>ddg</td>\n    </tr>\n    <tr>\n      <th>20611</th>\n      <td>1204240423</td>\n      <td>taipale_ppi</td>\n      <td>Q03393.8:145</td>\n      <td>None</td>\n      <td>L120F</td>\n      <td>1.0</td>\n      <td>-3.686</td>\n      <td>5.8284</td>\n      <td>2.27461</td>\n      <td>both</td>\n      <td>ddg</td>\n    </tr>\n  </tbody>\n</table>\n<p>20612 rows × 11 columns</p>\n</div>"
     },
     "execution_count": 4,
     "metadata": {},
     "output_type": "execute_result"
    }
   ],
   "source": [
    "importlib.reload(prep)\n",
    "data = prep.elaspic_dataset(cheat=False)\n",
    "data.dataframe"
   ],
   "metadata": {
    "collapsed": false,
    "pycharm": {
     "name": "#%%\n"
    }
   }
  },
  {
   "cell_type": "code",
   "execution_count": 5,
   "outputs": [
    {
     "name": "stdout",
     "output_type": "stream",
     "text": [
      "loading from /home/quirin/PYTHON/mapra/pkl/h5_slice_0_elaspic.pkl\n"
     ]
    },
    {
     "data": {
      "text/plain": "array([[ 0.      ,  0.09    , -0.25    , ..., -0.2275  ,  0.1567  ,\n        -0.02144 ],\n       [ 0.      ,  0.05    , -0.4932  , ...,  0.03943 ,  0.03046 ,\n        -0.0645  ],\n       [ 0.      ,  0.71    ,  0.361   , ..., -0.2693  ,  0.3032  ,\n        -0.0911  ],\n       ...,\n       [ 0.      ,  0.      , -0.1821  , ..., -0.2164  ,  0.103   ,\n        -0.274   ],\n       [ 0.      ,  0.      ,  0.11395 , ...,  0.003887, -0.03162 ,\n        -0.006706],\n       [ 0.      ,  1.      , -0.2888  , ...,  0.1665  ,  0.2812  ,\n        -0.4958  ]], dtype=float16)"
     },
     "execution_count": 5,
     "metadata": {},
     "output_type": "execute_result"
    }
   ],
   "source": [
    "npr = data.fetch_numpy_distances(\n",
    "    selector={'DATASET': ['cdhit', 'both'], 2048: True})\n",
    "npr"
   ],
   "metadata": {
    "collapsed": false,
    "pycharm": {
     "name": "#%%\n"
    }
   }
  },
  {
   "cell_type": "code",
   "execution_count": 6,
   "outputs": [
    {
     "data": {
      "text/plain": "((19420, 2048), (19420,))"
     },
     "execution_count": 6,
     "metadata": {},
     "output_type": "execute_result"
    }
   ],
   "source": [
    "X = npr[:, 2:]\n",
    "y = npr[:, 1]\n",
    "X.shape, y.shape"
   ],
   "metadata": {
    "collapsed": false,
    "pycharm": {
     "name": "#%%\n"
    }
   }
  },
  {
   "cell_type": "code",
   "execution_count": 7,
   "outputs": [
    {
     "data": {
      "text/plain": "(array([[-0.25    , -0.1577  ,  0.05203 , ..., -0.2275  ,  0.1567  ,\n         -0.02144 ],\n        [-0.4932  , -0.558   ,  0.1484  , ...,  0.03943 ,  0.03046 ,\n         -0.0645  ],\n        [ 0.361   , -0.099   ,  0.248   , ..., -0.2693  ,  0.3032  ,\n         -0.0911  ],\n        ...,\n        [-0.1821  ,  0.274   ,  0.02225 , ..., -0.2164  ,  0.103   ,\n         -0.274   ],\n        [ 0.11395 ,  0.1495  ,  0.309   , ...,  0.003887, -0.03162 ,\n         -0.006706],\n        [-0.2888  ,  0.1066  , -0.10645 , ...,  0.1665  ,  0.2812  ,\n         -0.4958  ]], dtype=float16),\n array([0.09, 0.05, 0.71, ..., 0.  , 0.  , 1.  ], dtype=float16))"
     },
     "execution_count": 7,
     "metadata": {},
     "output_type": "execute_result"
    }
   ],
   "source": [
    "X, y"
   ],
   "metadata": {
    "collapsed": false,
    "pycharm": {
     "name": "#%%\n"
    }
   }
  },
  {
   "cell_type": "code",
   "execution_count": 8,
   "outputs": [
    {
     "name": "stderr",
     "output_type": "stream",
     "text": [
      "/home/quirin/anaconda3/envs/skl/lib/python3.9/site-packages/sklearn/linear_model/_base.py:133: FutureWarning: The default of 'normalize' will be set to False in version 1.2 and deprecated in version 1.4.\n",
      "If you wish to scale the data, use Pipeline with a StandardScaler in a preprocessing stage. To reproduce the previous behavior:\n",
      "\n",
      "from sklearn.pipeline import make_pipeline\n",
      "\n",
      "model = make_pipeline(StandardScaler(with_mean=False), LassoLarsIC())\n",
      "\n",
      "If you wish to pass a sample_weight parameter, you need to pass it as a fit parameter to each step of the pipeline as follows:\n",
      "\n",
      "kwargs = {s[0] + '__sample_weight': sample_weight for s in model.steps}\n",
      "model.fit(X, y, **kwargs)\n",
      "\n",
      "Set parameter alpha to: original_alpha * np.sqrt(n_samples). \n",
      "  warnings.warn(\n"
     ]
    },
    {
     "data": {
      "text/plain": "LassoLarsIC()"
     },
     "execution_count": 8,
     "metadata": {},
     "output_type": "execute_result"
    }
   ],
   "source": [
    "# train on the entire elaspic set\n",
    "# regr = linear_model.LassoLarsCV(\n",
    "#     n_jobs=-1)  #, max_iter=1000, cv=5)\n",
    "# regr.fit(X, y.flatten())\n",
    "regr = linear_model.LassoLarsIC(\n",
    "    criterion='aic', copy_X=True)\n",
    "regr.fit(X.astype(float), y.flatten().astype(float))"
   ],
   "metadata": {
    "collapsed": false,
    "pycharm": {
     "name": "#%%\n"
    }
   }
  },
  {
   "cell_type": "code",
   "execution_count": 9,
   "outputs": [],
   "source": [
    "# make a prediction\n",
    "y_pred = regr.predict(test_set.X_test).reshape(-1, 1)\n",
    "# save the prediction\n",
    "ar = np.hstack((y_pred, test_set.y_true))\n"
   ],
   "metadata": {
    "collapsed": false,
    "pycharm": {
     "name": "#%%\n"
    }
   }
  },
  {
   "cell_type": "code",
   "execution_count": 10,
   "outputs": [
    {
     "data": {
      "text/plain": "((1639, 2048), (19420, 2048), (1639,), (19420,))"
     },
     "execution_count": 10,
     "metadata": {},
     "output_type": "execute_result"
    }
   ],
   "source": [
    "test_set.X.shape, X.shape, test_set.y.flatten().shape, y.flatten().shape"
   ],
   "metadata": {
    "collapsed": false,
    "pycharm": {
     "name": "#%%\n"
    }
   }
  },
  {
   "cell_type": "code",
   "execution_count": 11,
   "outputs": [
    {
     "data": {
      "text/plain": "<Figure size 316.8x316.8 with 1 Axes>",
      "image/png": "[encoded data removed]"
     },
     "metadata": {},
     "output_type": "display_data"
    }
   ],
   "source": [
    "fig, ax = plt.subplots(1, 1, figsize=(4.4, 4.4))\n",
    "cm_color = sns.color_palette('viridis', 3)[1]\n",
    "\n",
    "sns.regplot(ax=ax,\n",
    "            x=ar[:, 0], y=ar[:, 1],\n",
    "            color=cm_color,\n",
    "            # marker='+',\n",
    "            scatter_kws={'s': 10, 'alpha': .3},\n",
    "            fit_reg=False, logistic=True)\n",
    "\n",
    "ax.set(aspect=1, box_aspect=1)\n",
    "# ax.set(title=data.tex_lookup[delta] + [' [°C]', ' [kcal/mol]', ' [kcal/mol]'][i])\n",
    "ax.axline((0, 0), slope=1, lw=.5, color='.5', alpha=.6)\n",
    "\n",
    "# correlations\n",
    "sp, pval = scipy.stats.spearmanr(ar, axis=0)\n",
    "pcorr = np.corrcoef(ar, rowvar=False)[0, 1]\n",
    "rmse = mean_squared_error(ar[:, 1], ar[:, 0], squared=False)\n",
    "r2 = r2_score(ar[:, 1], ar[:, 0])\n",
    "\n",
    "ax.text(.05, .9, r\"$\\rho = $\" + f'{sp:.2f} | ' + r\"$r = $\" + f'{pcorr:.2f} | RMSE = {rmse:.2f}',\n",
    "        transform=ax.transAxes)\n",
    "# axes[0].set_title(desc % test_size, loc='left', fontsize='xx-large', pad=12)\n",
    "\n",
    "# fig.subplots_adjust(bottom=0.002)\n",
    "ax.set(ylabel='true value', xlabel='predicted value')\n",
    "prep.save(fig, f'332_2048_cdhit.png')\n",
    "prep.save(fig, f'332_2048_cdhit.svg')"
   ],
   "metadata": {
    "collapsed": false,
    "pycharm": {
     "name": "#%%\n"
    }
   }
  },
  {
   "cell_type": "markdown",
   "source": [
    "### Train and test on ELASPIC?"
   ],
   "metadata": {
    "collapsed": false,
    "pycharm": {
     "name": "#%% md\n"
    }
   }
  },
  {
   "cell_type": "code",
   "execution_count": 12,
   "outputs": [
    {
     "name": "stdout",
     "output_type": "stream",
     "text": [
      "loading from /home/quirin/PYTHON/mapra/pkl/h5_slice_0_elaspic.pkl\n",
      "split 331 targeted 0.2, real test sizes: 0.2009, record test sizes: 0.2740\n"
     ]
    },
    {
     "name": "stderr",
     "output_type": "stream",
     "text": [
      "/home/quirin/anaconda3/envs/skl/lib/python3.9/site-packages/sklearn/linear_model/_base.py:133: FutureWarning: The default of 'normalize' will be set to False in version 1.2 and deprecated in version 1.4.\n",
      "If you wish to scale the data, use Pipeline with a StandardScaler in a preprocessing stage. To reproduce the previous behavior:\n",
      "\n",
      "from sklearn.pipeline import make_pipeline\n",
      "\n",
      "model = make_pipeline(StandardScaler(with_mean=False), LassoLarsIC())\n",
      "\n",
      "If you wish to pass a sample_weight parameter, you need to pass it as a fit parameter to each step of the pipeline as follows:\n",
      "\n",
      "kwargs = {s[0] + '__sample_weight': sample_weight for s in model.steps}\n",
      "model.fit(X, y, **kwargs)\n",
      "\n",
      "Set parameter alpha to: original_alpha * np.sqrt(n_samples). \n",
      "  warnings.warn(\n"
     ]
    },
    {
     "name": "stdout",
     "output_type": "stream",
     "text": [
      "loading from /home/quirin/PYTHON/mapra/pkl/h5_slice_0_elaspic.pkl\n",
      "split 332 targeted 0.2, real test sizes: 0.2009, record test sizes: 0.2141\n"
     ]
    },
    {
     "name": "stderr",
     "output_type": "stream",
     "text": [
      "/home/quirin/anaconda3/envs/skl/lib/python3.9/site-packages/sklearn/linear_model/_base.py:133: FutureWarning: The default of 'normalize' will be set to False in version 1.2 and deprecated in version 1.4.\n",
      "If you wish to scale the data, use Pipeline with a StandardScaler in a preprocessing stage. To reproduce the previous behavior:\n",
      "\n",
      "from sklearn.pipeline import make_pipeline\n",
      "\n",
      "model = make_pipeline(StandardScaler(with_mean=False), LassoLarsIC())\n",
      "\n",
      "If you wish to pass a sample_weight parameter, you need to pass it as a fit parameter to each step of the pipeline as follows:\n",
      "\n",
      "kwargs = {s[0] + '__sample_weight': sample_weight for s in model.steps}\n",
      "model.fit(X, y, **kwargs)\n",
      "\n",
      "Set parameter alpha to: original_alpha * np.sqrt(n_samples). \n",
      "  warnings.warn(\n"
     ]
    },
    {
     "data": {
      "text/plain": "<Figure size 316.8x316.8 with 1 Axes>",
      "image/png": "[encoded data removed]"
     },
     "metadata": {},
     "output_type": "display_data"
    },
    {
     "data": {
      "text/plain": "<Figure size 316.8x316.8 with 1 Axes>",
      "image/png": "[encoded data removed]"
     },
     "metadata": {},
     "output_type": "display_data"
    }
   ],
   "source": [
    "data = prep.elaspic_dataset(cheat=False)\n",
    "\n",
    "test_size = .2\n",
    "seed = rng.integers(low=0, high=1000, size=1)[0]\n",
    "seed = 332\n",
    "for seed in range(331, 333):\n",
    "    desc = 'test size: %.1f'\n",
    "\n",
    "    split = data.uniprot_train_test_split(\n",
    "        selector={'DATASET': ['mmseqs', 'both']}, test_size=test_size, random_state=seed)['ddg']\n",
    "\n",
    "    # regr = linear_model.LassoLarsCV(\n",
    "    #     n_jobs=-1, max_iter=1000, cv=5)\n",
    "    # regr.fit(split.X, split.y.flatten())\n",
    "    regr = linear_model.LassoLarsIC(\n",
    "        criterion='aic', copy_X=True)\n",
    "    regr.fit(split.X.astype(float), split.y.flatten().astype(float))\n",
    "\n",
    "    # make a prediction\n",
    "    y_pred = regr.predict(split.X_test).reshape(-1, 1)\n",
    "    # save the prediction\n",
    "    ar = np.hstack((y_pred, split.y_true))\n",
    "\n",
    "    fig, ax = plt.subplots(1, 1, figsize=(4.4, 4.4))\n",
    "\n",
    "    sns.regplot(ax=ax,\n",
    "                x=ar[:, 0], y=ar[:, 1],\n",
    "                color=cm_color,\n",
    "                # marker='+',\n",
    "                scatter_kws={'s': 10, 'alpha': .3},\n",
    "                fit_reg=False, logistic=True)\n",
    "\n",
    "    ax.set(aspect=1, box_aspect=1)\n",
    "    # ax.set(title=data.tex_lookup[delta] + [' [°C]', ' [kcal/mol]', ' [kcal/mol]'][i])\n",
    "    ax.axline((0, 0), slope=1, lw=.5, color='.5', alpha=.6)\n",
    "\n",
    "    # correlations\n",
    "    sp, pval = scipy.stats.spearmanr(ar, axis=0)\n",
    "    pcorr = np.corrcoef(ar, rowvar=False)[0, 1]\n",
    "    rmse = mean_squared_error(ar[:, 1], ar[:, 0], squared=False)\n",
    "    r2 = r2_score(ar[:, 1], ar[:, 0])\n",
    "\n",
    "    ax.text(.05, .9, r\"$\\rho = $\" + f'{sp:.2f} | ' + r\"$r = $\" + f'{pcorr:.2f} | RMSE = {rmse:.2f}',\n",
    "            transform=ax.transAxes)\n",
    "    # axes[0].set_title(desc % test_size, loc='left', fontsize='xx-large', pad=12)\n",
    "\n",
    "    # fig.subplots_adjust(bottom=0.002)\n",
    "    ax.set(ylabel='true value', xlabel='predicted value', title=seed)\n",
    "    prep.save(fig, f'elaspic_on_elaspic_{test_size}_seed_{seed}.png')\n",
    "    prep.save(fig, f'elaspic_on_elaspic_{test_size}_seed_{seed}.svg')"
   ],
   "metadata": {
    "collapsed": false,
    "pycharm": {
     "name": "#%%\n"
    }
   }
  },
  {
   "cell_type": "code",
   "execution_count": null,
   "outputs": [],
   "source": [],
   "metadata": {
    "collapsed": false,
    "pycharm": {
     "name": "#%%\n"
    }
   }
  }
 ],
 "metadata": {
  "kernelspec": {
   "display_name": "Python 3",
   "language": "python",
   "name": "python3"
  },
  "language_info": {
   "codemirror_mode": {
    "name": "ipython",
    "version": 2
   },
   "file_extension": ".py",
   "mimetype": "text/x-python",
   "name": "python",
   "nbconvert_exporter": "python",
   "pygments_lexer": "ipython2",
   "version": "2.7.6"
  }
 },
 "nbformat": 4,
 "nbformat_minor": 0
}