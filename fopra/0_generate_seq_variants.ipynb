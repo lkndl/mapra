{
 "cells": [
  {
   "cell_type": "code",
   "execution_count": 58,
   "metadata": {
    "collapsed": true
   },
   "outputs": [
    {
     "data": {
      "text/plain": "PosixPath('/home/quirin/PYTHON/mapra')"
     },
     "execution_count": 58,
     "metadata": {},
     "output_type": "execute_result"
    }
   ],
   "source": [
    "import io\n",
    "\n",
    "from Bio import SeqIO\n",
    "from Bio.SeqRecord import SeqRecord\n",
    "from pathlib import Path\n",
    "from io import StringIO\n",
    "\n",
    "wd = Path('.').resolve().parent\n",
    "wd"
   ]
  },
  {
   "cell_type": "code",
   "execution_count": 48,
   "outputs": [],
   "source": [
    "cam_predictions = '''\n",
    "CaM-variant\tTm\tStandard-Deviation-Tm\t%Unfold\tStandard-Deviation-%Unfold\tStabilizing-vs-Destabilizing\tComments\n",
    "p.N54I\t*\t*\t*\t*\t*\t*\n",
    "p.F90L\t*\t*\t*\t*\t*\t*\n",
    "p.D96H\t*\t*\t*\t*\t*\t*\n",
    "p.D96V\t*\t*\t*\t*\t*\t*\n",
    "p.N98I\t*\t*\t*\t*\t*\t*\n",
    "p.N98S\t*\t*\t*\t*\t*\t*\n",
    "p.A103V\t*\t*\t*\t*\t*\t*\n",
    "p.E105A\t*\t*\t*\t*\t*\t*\n",
    "p.D130G\t*\t*\t*\t*\t*\t*\n",
    "p.D130V\t*\t*\t*\t*\t*\t*\n",
    "p.D132E\t*\t*\t*\t*\t*\t*\n",
    "p.D132H\t*\t*\t*\t*\t*\t*\n",
    "p.D132V\t*\t*\t*\t*\t*\t*\n",
    "p.D134H\t*\t*\t*\t*\t*\t*\n",
    "p.Q136P\t*\t*\t*\t*\t*\t*\n",
    "p.E141G\t*\t*\t*\t*\t*\t*'''.lstrip()\n",
    "\n",
    "CaM_seq_training_set = '''\n",
    ">CaM WT\n",
    "GAMADQLTEEQIAEFKEAFSLFDKDGDGTITTKELGTVMRSLGQNPTEAELQDMINEVDADG\n",
    "NGTIDFPEFLTMMARKMKDTDSEEEIREAFRVFDKDGNGYISAAELRHVMTNLGEKLTDE\n",
    "EVDEMIREADIDGDGQVNYEEFVQMMTAK\n",
    "\n",
    ">Rec\n",
    "GNSKSGALSKEILEELQLNTKFTEEELSSWYQSFLKECPSGRITRQEFQTIYSKFFPEA\n",
    "DPKAYAQHVFRSFDANSDGTLDFKEYVIALHMTSAGKTNQKLEWAFSLYDVDGNGTISKN\n",
    "EVLEIVTAIFKMISPEDTKHLPEDENTPEKRAEKIWGFFGKKDDDKLTEKEFIEGTLANK\n",
    "EILRLIQFEPQKVKEKLKEKKL\n",
    "\n",
    ">CIB2\n",
    "GAMGNKQTIFTEEQLDNYQDCTFFNKKDILKLHSRFYELAPNLVPMDYRKSPIVHVPMSLII\n",
    "QMPELRENPFKERIVAAFSEDGEGNLTFNDFVDMFSVLCESAPRELKANYAFKIYDFNTD\n",
    "NFICKEDLELTLARLTKSELDEEEVVLVCDKVIEEADLDGDGKLGFADFEDMIAKAPDFL\n",
    "STFHIRI\n",
    "\n",
    ">CALM1_HUMAN Calmodulin-1 OS=Homo sapiens OX=9606 GN=CALM1 PE=1 SV=1\n",
    "MADQLTEEQIAEFKEAFSLFDKDGDGTITTKELGTVMRSLGQNPTEAELQDMINEVDADG\n",
    "NGTIDFPEFLTMMARKMKDTDSEEEIREAFRVFDKDGNGYISAAELRHVMTNLGEKLTDE\n",
    "EVDEMIREADIDGDGQVNYEEFVQMMTAK\n",
    "'''.strip()"
   ],
   "metadata": {
    "collapsed": false,
    "pycharm": {
     "name": "#%%\n"
    }
   }
  },
  {
   "cell_type": "code",
   "execution_count": 49,
   "outputs": [
    {
     "data": {
      "text/plain": "{'CaM': SeqRecord(seq=Seq('GAMADQLTEEQIAEFKEAFSLFDKDGDGTITTKELGTVMRSLGQNPTEAELQDM...TAK'), id='CaM', name='CaM', description='CaM WT', dbxrefs=[]),\n 'Rec': SeqRecord(seq=Seq('GNSKSGALSKEILEELQLNTKFTEEELSSWYQSFLKECPSGRITRQEFQTIYSK...KKL'), id='Rec', name='Rec', description='Rec', dbxrefs=[]),\n 'CIB2': SeqRecord(seq=Seq('GAMGNKQTIFTEEQLDNYQDCTFFNKKDILKLHSRFYELAPNLVPMDYRKSPIV...IRI'), id='CIB2', name='CIB2', description='CIB2', dbxrefs=[]),\n 'CALM1_HUMAN': SeqRecord(seq=Seq('MADQLTEEQIAEFKEAFSLFDKDGDGTITTKELGTVMRSLGQNPTEAELQDMIN...TAK'), id='CALM1_HUMAN', name='CALM1_HUMAN', description='CALM1_HUMAN Calmodulin-1 OS=Homo sapiens OX=9606 GN=CALM1 PE=1 SV=1', dbxrefs=[])}"
     },
     "execution_count": 49,
     "metadata": {},
     "output_type": "execute_result"
    }
   ],
   "source": [
    "with StringIO(CaM_seq_training_set) as fasta_io:\n",
    "    records = {r.id: r for r in SeqIO.parse(fasta_io, 'fasta')}\n",
    "records"
   ],
   "metadata": {
    "collapsed": false,
    "pycharm": {
     "name": "#%%\n"
    }
   }
  },
  {
   "cell_type": "code",
   "execution_count": 50,
   "outputs": [
    {
     "data": {
      "text/plain": "['N54I',\n 'F90L',\n 'D96H',\n 'D96V',\n 'N98I',\n 'N98S',\n 'A103V',\n 'E105A',\n 'D130G',\n 'D130V',\n 'D132E',\n 'D132H',\n 'D132V',\n 'D134H',\n 'Q136P',\n 'E141G']"
     },
     "execution_count": 50,
     "metadata": {},
     "output_type": "execute_result"
    }
   ],
   "source": [
    "variants = [c.split('\\t')[0][2:] for c in cam_predictions.split('\\n')[1:]]\n",
    "variants"
   ],
   "metadata": {
    "collapsed": false,
    "pycharm": {
     "name": "#%%\n"
    }
   }
  },
  {
   "cell_type": "code",
   "execution_count": 51,
   "outputs": [
    {
     "data": {
      "text/plain": "(MutableSeq('KAMADQLTEEQIAEFKEAFSLFDKDGDGTITTKELGTVMRSLGQNPTEAELQDM...TAK'),\n SeqRecord(seq=Seq('GAMADQLTEEQIAEFKEAFSLFDKDGDGTITTKELGTVMRSLGQNPTEAELQDM...TAK'), id='CaM', name='CaM', description='CaM WT', dbxrefs=[]))"
     },
     "execution_count": 51,
     "metadata": {},
     "output_type": "execute_result"
    }
   ],
   "source": [
    "seq = records['CaM'].seq.tomutable()\n",
    "seq[0] = 'K'\n",
    "seq, records['CaM']"
   ],
   "metadata": {
    "collapsed": false,
    "pycharm": {
     "name": "#%%\n"
    }
   }
  },
  {
   "cell_type": "code",
   "execution_count": null,
   "outputs": [],
   "source": [],
   "metadata": {
    "collapsed": false,
    "pycharm": {
     "name": "#%%\n"
    }
   }
  },
  {
   "cell_type": "code",
   "execution_count": 62,
   "outputs": [
    {
     "name": "stdout",
     "output_type": "stream",
     "text": [
      "N_N54I\n",
      "F_F90L\n",
      "D_D96H\n",
      "D_D96V\n",
      "N_N98I\n",
      "N_N98S\n",
      "A_A103V\n",
      "E_E105A\n",
      "D_D130G\n",
      "D_D130V\n",
      "D_D132E\n",
      "D_D132H\n",
      "D_D132V\n",
      "D_D134H\n",
      "Q_Q136P\n",
      "E_E141G\n"
     ]
    },
    {
     "data": {
      "text/plain": "[SeqRecord(seq=MutableSeq('GAMADQLTEEQIAEFKEAFSLFDKDGDGTITTKELGTVMRSLGQNPTEAELQDM...TAK'), id='CaM_N54I', name='<unknown name>', description='', dbxrefs=[]),\n SeqRecord(seq=MutableSeq('GAMADQLTEEQIAEFKEAFSLFDKDGDGTITTKELGTVMRSLGQNPTEAELQDM...TAK'), id='CaM_F90L', name='<unknown name>', description='', dbxrefs=[]),\n SeqRecord(seq=MutableSeq('GAMADQLTEEQIAEFKEAFSLFDKDGDGTITTKELGTVMRSLGQNPTEAELQDM...TAK'), id='CaM_D96H', name='<unknown name>', description='', dbxrefs=[]),\n SeqRecord(seq=MutableSeq('GAMADQLTEEQIAEFKEAFSLFDKDGDGTITTKELGTVMRSLGQNPTEAELQDM...TAK'), id='CaM_D96V', name='<unknown name>', description='', dbxrefs=[]),\n SeqRecord(seq=MutableSeq('GAMADQLTEEQIAEFKEAFSLFDKDGDGTITTKELGTVMRSLGQNPTEAELQDM...TAK'), id='CaM_N98I', name='<unknown name>', description='', dbxrefs=[]),\n SeqRecord(seq=MutableSeq('GAMADQLTEEQIAEFKEAFSLFDKDGDGTITTKELGTVMRSLGQNPTEAELQDM...TAK'), id='CaM_N98S', name='<unknown name>', description='', dbxrefs=[]),\n SeqRecord(seq=MutableSeq('GAMADQLTEEQIAEFKEAFSLFDKDGDGTITTKELGTVMRSLGQNPTEAELQDM...TAK'), id='CaM_A103V', name='<unknown name>', description='', dbxrefs=[]),\n SeqRecord(seq=MutableSeq('GAMADQLTEEQIAEFKEAFSLFDKDGDGTITTKELGTVMRSLGQNPTEAELQDM...TAK'), id='CaM_E105A', name='<unknown name>', description='', dbxrefs=[]),\n SeqRecord(seq=MutableSeq('GAMADQLTEEQIAEFKEAFSLFDKDGDGTITTKELGTVMRSLGQNPTEAELQDM...TAK'), id='CaM_D130G', name='<unknown name>', description='', dbxrefs=[]),\n SeqRecord(seq=MutableSeq('GAMADQLTEEQIAEFKEAFSLFDKDGDGTITTKELGTVMRSLGQNPTEAELQDM...TAK'), id='CaM_D130V', name='<unknown name>', description='', dbxrefs=[]),\n SeqRecord(seq=MutableSeq('GAMADQLTEEQIAEFKEAFSLFDKDGDGTITTKELGTVMRSLGQNPTEAELQDM...TAK'), id='CaM_D132E', name='<unknown name>', description='', dbxrefs=[]),\n SeqRecord(seq=MutableSeq('GAMADQLTEEQIAEFKEAFSLFDKDGDGTITTKELGTVMRSLGQNPTEAELQDM...TAK'), id='CaM_D132H', name='<unknown name>', description='', dbxrefs=[]),\n SeqRecord(seq=MutableSeq('GAMADQLTEEQIAEFKEAFSLFDKDGDGTITTKELGTVMRSLGQNPTEAELQDM...TAK'), id='CaM_D132V', name='<unknown name>', description='', dbxrefs=[]),\n SeqRecord(seq=MutableSeq('GAMADQLTEEQIAEFKEAFSLFDKDGDGTITTKELGTVMRSLGQNPTEAELQDM...TAK'), id='CaM_D134H', name='<unknown name>', description='', dbxrefs=[]),\n SeqRecord(seq=MutableSeq('GAMADQLTEEQIAEFKEAFSLFDKDGDGTITTKELGTVMRSLGQNPTEAELQDM...TAK'), id='CaM_Q136P', name='<unknown name>', description='', dbxrefs=[]),\n SeqRecord(seq=MutableSeq('GAMADQLTEEQIAEFKEAFSLFDKDGDGTITTKELGTVMRSLGQNPTEAELQDM...TAK'), id='CaM_E141G', name='<unknown name>', description='', dbxrefs=[])]"
     },
     "execution_count": 62,
     "metadata": {},
     "output_type": "execute_result"
    }
   ],
   "source": [
    "mutants = list()\n",
    "shift = 1\n",
    "for v in variants:\n",
    "    seq = records['CaM'].seq.tomutable()\n",
    "    _from, _to, _pos = v[0], v[-1], int(v[1:-1])\n",
    "    print(f'{seq[_pos + shift]}_{_from}{_pos}{_to}')\n",
    "    seq[_pos + shift] = _to\n",
    "    # seq[_pos % 10] = _to\n",
    "    mutants.append(SeqRecord(seq, id=f'CaM_{v}', description=''))\n",
    "mutants"
   ],
   "metadata": {
    "collapsed": false,
    "pycharm": {
     "name": "#%%\n"
    }
   }
  },
  {
   "cell_type": "code",
   "execution_count": 63,
   "outputs": [],
   "source": [
    "with open(wd / 'CAGI6' / 'cam_mutants.fasta', 'w') as fasta:\n",
    "    SeqIO.write(mutants, fasta, 'fasta')"
   ],
   "metadata": {
    "collapsed": false,
    "pycharm": {
     "name": "#%%\n"
    }
   }
  },
  {
   "cell_type": "markdown",
   "source": [
    "this is old stuff"
   ],
   "metadata": {
    "collapsed": false,
    "pycharm": {
     "name": "#%% md\n"
    }
   }
  },
  {
   "cell_type": "code",
   "execution_count": null,
   "outputs": [],
   "source": [
    "seq[50:58]"
   ],
   "metadata": {
    "collapsed": false,
    "pycharm": {
     "name": "#%%\n"
    }
   }
  },
  {
   "cell_type": "code",
   "execution_count": 37,
   "outputs": [
    {
     "data": {
      "text/plain": "SeqRecord(seq=Seq('QVNYEEF'), id='CALM1_HUMAN', name='CALM1_HUMAN', description='CALM1_HUMAN Calmodulin-1 OS=Homo sapiens OX=9606 GN=CALM1 PE=1 SV=1', dbxrefs=[])"
     },
     "execution_count": 37,
     "metadata": {},
     "output_type": "execute_result"
    }
   ],
   "source": [
    "records['CALM1_HUMAN'][135:142]  # E141G is the second E"
   ],
   "metadata": {
    "collapsed": false,
    "pycharm": {
     "name": "#%%\n"
    }
   }
  },
  {
   "cell_type": "code",
   "execution_count": 7,
   "outputs": [
    {
     "name": "stdout",
     "output_type": "stream",
     "text": [
      "CaM:\tQVNYEEF\n",
      "Rec:\tDTKHLPE\n",
      "CIB2:\tELDEEEV\n",
      "CALM1_HUMAN:\tQVNYEEF\n"
     ]
    }
   ],
   "source": [
    "shifts = {'CaM': 2, 'CIB2': 5}\n",
    "\n",
    "for _id, variant in records.items():\n",
    "    shift = shifts.get(_id, 0)\n",
    "    print(f'{_id}:\\t{variant[135 + shift:142 + shift].seq}')\n"
   ],
   "metadata": {
    "collapsed": false,
    "pycharm": {
     "name": "#%%\n"
    }
   }
  },
  {
   "cell_type": "code",
   "execution_count": null,
   "outputs": [],
   "source": [],
   "metadata": {
    "collapsed": false,
    "pycharm": {
     "name": "#%%\n"
    }
   }
  }
 ],
 "metadata": {
  "kernelspec": {
   "display_name": "Python 3",
   "language": "python",
   "name": "python3"
  },
  "language_info": {
   "codemirror_mode": {
    "name": "ipython",
    "version": 2
   },
   "file_extension": ".py",
   "mimetype": "text/x-python",
   "name": "python",
   "nbconvert_exporter": "python",
   "pygments_lexer": "ipython2",
   "version": "2.7.6"
  }
 },
 "nbformat": 4,
 "nbformat_minor": 0
}