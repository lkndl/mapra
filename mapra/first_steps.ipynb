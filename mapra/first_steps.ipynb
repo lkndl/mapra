{
 "cells": [
  {
   "cell_type": "code",
   "execution_count": 1,
   "metadata": {},
   "outputs": [
    {
     "name": "stdout",
     "output_type": "stream",
     "text": [
      "/home/quirin/anaconda3/envs/skl/bin/python\n"
     ]
    }
   ],
   "source": [
    "# check which kernel we are using\n",
    "!which python"
   ]
  },
  {
   "cell_type": "markdown",
   "metadata": {},
   "source": [
    "## First steps"
   ]
  },
  {
   "cell_type": "markdown",
   "metadata": {},
   "source": [
    "When it is online, [ProThermDB](https://web.iitm.ac.in/bioinfo2/prothermdb/index.html) can be scraped as a `31.526×42` table of `38.8MB` as a `.TSV` table if you (*e.g.*) request all entries matching `pH = 0:14`. \n",
    "[MPTherm](https://www.iitm.ac.in/bioinfo/mptherm/search.php) is smaller, containing `7202(×42)` records. It returns the entire database for `Organism = ' '`.\n",
    "\n",
    "Maria prepared two datasets (*$\\rightarrow$ full set* and *$\\rightarrow$ redundancy-reduced set*) for three different measurements already: "
   ]
  },
  {
   "cell_type": "markdown",
   "metadata": {},
   "source": [
    "> $\\Delta T_{m}$: change in melting temperature\n",
    ">\n",
    "> $\\Delta\\Delta G$: change in Gibbs Free energy of the protein, i.e. energy necessary to unfold the structure. \n",
    ">> \"*If ddG is positive, the mutated protein is less stable than the wild type, which means a higher likelihood of a loss of function in the mutant; conversely, a negative ddG suggests that the structure is more stable pointing to the possibility of overstabilisation, i.e. preventing biologically relevant conformational changes.*\" Zaucha et al. 2020\n",
    ">>\n",
    ">> $-1.0 \\leq \\Delta\\Delta G \\leq 1.0$ are 'neutral' variants, which only subtly perturb the protein structure\n",
    ">>\n",
    ">> $[kcal/mol]$\n",
    ">\n",
    "> $\\Delta\\Delta G_{H_{2}O}$: change in Free Energy for unfolding in water"
   ]
  },
  {
   "cell_type": "markdown",
   "metadata": {},
   "source": [
    "I got six `.FASTA` files (two per measurement and three per dataset) with protein sequence data and header annotations in canonical UniPort format, as well as three per-measurement `.TSV` files of annotations."
   ]
  },
  {
   "cell_type": "markdown",
   "metadata": {},
   "source": [
    "First, try BioPython and RegEx parsing of `.FASTA` headers."
   ]
  },
  {
   "cell_type": "code",
   "execution_count": 1,
   "metadata": {},
   "outputs": [],
   "source": [
    "from Bio import SeqIO\n",
    "from pathlib import Path\n",
    "import re\n",
    "import pandas as pd\n",
    "import seaborn as sns\n",
    "import matplotlib as mpl\n",
    "import matplotlib.pyplot as plt\n",
    "import matplotlib.colors as mc\n",
    "import colorsys\n",
    "import numpy as np"
   ]
  },
  {
   "cell_type": "code",
   "execution_count": 19,
   "metadata": {
    "tags": []
   },
   "outputs": [
    {
     "name": "stdout",
     "output_type": "stream",
     "text": [
      "sp|P00889|CISY_PIG Citrate synthase, mitochondrial OS=Sus scrofa OX=9823 GN=CS PE=1 SV=2\n"
     ]
    },
    {
     "data": {
      "text/plain": "Seq('MALLTAAARLFGAKNASCLVLAARHASASSTNLKDILADLIPKEQARIKTFRQQ...DSK')"
     },
     "execution_count": 19,
     "metadata": {},
     "output_type": "execute_result"
    }
   ],
   "source": [
    "wd = Path('.').resolve().parent\n",
    "for fasta in wd.rglob('*.fasta'):\n",
    "    for record in SeqIO.parse(fasta, 'fasta'):\n",
    "#        pass\n",
    "        print(record.description)\n",
    "        break\n",
    "    break\n",
    "    \n",
    "record.seq"
   ]
  },
  {
   "cell_type": "code",
   "execution_count": 12,
   "metadata": {},
   "outputs": [
    {
     "name": "stdout",
     "output_type": "stream",
     "text": [
      "../reduced_set/uniprot_prothermdb_melttemp_rep_seq.fasta\r\n",
      "../reduced_set/uniprot_prothermdb_delta_g_rep_seq.fasta\r\n",
      "../reduced_set/uniprot_prothermdb_delta_g_h2o_rep_seq.fasta\r\n",
      "../full_set/uniprot_prothermdb_delta_g.fasta\r\n",
      "../full_set/uniprot_prothermdb_melttemp.fasta\r\n",
      "../full_set/uniprot_prothermdb_delta_g_h2o.fasta\r\n"
     ]
    }
   ],
   "source": [
    "!find .. -name '*.fasta'"
   ]
  },
  {
   "cell_type": "code",
   "execution_count": 13,
   "metadata": {},
   "outputs": [
    {
     "name": "stdout",
     "output_type": "stream",
     "text": [
      ">sp|P02625|PRVA_RAT Parvalbumin alpha OS=Rattus norvegicus OX=10116 GN=Pvalb PE=1 SV=2\r\n",
      ">sp|P00711|LALBA_BOVIN Alpha-lactalbumin OS=Bos taurus OX=9913 GN=LALBA PE=1 SV=2\r\n",
      ">sp|P0A877|TRPA_ECOLI Tryptophan synthase alpha chain OS=Escherichia coli (strain K12) OX=83333 GN=trpA PE=1 SV=1\r\n",
      ">sp|P00171|CYB5_BOVIN Cytochrome b5 OS=Bos taurus OX=9913 GN=CYB5A PE=1 SV=3\r\n",
      ">sp|P00651|RNT1_ASPOR Guanyl-specific ribonuclease T1 OS=Aspergillus oryzae (strain ATCC 42149 / RIB 40) OX=510516 GN=rntA PE=1 SV=2\r\n",
      ">sp|P0AFG6|ODO2_ECOLI Dihydrolipoyllysine-residue succinyltransferase component of 2-oxoglutarate dehydrogenase complex OS=Escherichia coli (strain K12) OX=83333 GN=sucB PE=1 SV=2\r\n",
      ">sp|P07751|SPTN1_CHICK Spectrin alpha chain, non-erythrocytic 1 OS=Gallus gallus OX=9031 GN=SPTAN1 PE=1 SV=3\r\n",
      ">tr|O61594|O61594_SPOFR Beta-glucosidase OS=Spodoptera frugiperda OX=7108 PE=1 SV=1\r\n",
      ">sp|P61626|LYSC_HUMAN Lysozyme C OS=Homo sapiens OX=9606 GN=LYZ PE=1 SV=1\r\n",
      ">sp|Q13526|PIN1_HUMAN Peptidyl-prolyl cis-trans isomerase NIMA-interacting 1 OS=Homo sapiens OX=9606 GN=PIN1 PE=1 SV=1\r\n"
     ]
    }
   ],
   "source": [
    "!cat ../**/*.fasta | grep \">\" > headers.txt\n",
    "!head headers.txt"
   ]
  },
  {
   "cell_type": "code",
   "execution_count": 13,
   "metadata": {},
   "outputs": [],
   "source": []
  },
  {
   "cell_type": "markdown",
   "metadata": {},
   "source": [
    "Testing the RegEx at https://regex101.com/r/wnT73m/3"
   ]
  },
  {
   "cell_type": "code",
   "execution_count": 13,
   "metadata": {},
   "outputs": [],
   "source": []
  },
  {
   "cell_type": "code",
   "execution_count": 14,
   "metadata": {},
   "outputs": [
    {
     "data": {
      "text/plain": "re.compile(r'(?P<db>(?:sp|tr))\\|(?P<accession>.+?)\\|(?P<name>\\S+?) (?P<full_name>.+?) OS=(?P<organism>.+?) OX=(?P<taxon_id>.+?) (GN=(?P<gene>.+?) )?PE=(?P<evidence_level>.+?) SV=(?P<version>.+?)$',\nre.UNICODE)"
     },
     "execution_count": 14,
     "metadata": {},
     "output_type": "execute_result"
    }
   ],
   "source": [
    "regex = re.compile('(?P<db>(?:sp|tr))\\|(?P<accession>.+?)\\|(?P<name>\\S+?) (?P<full_name>.+?) OS=(?P<organism>.+?) OX=(?P<taxon_id>.+?) (GN=(?P<gene>.+?) )?PE=(?P<evidence_level>.+?) SV=(?P<version>.+?)$')\n",
    "regex"
   ]
  },
  {
   "cell_type": "code",
   "execution_count": 15,
   "metadata": {},
   "outputs": [
    {
     "name": "stdout",
     "output_type": "stream",
     "text": [
      "sp|P00889|CISY_PIG Citrate synthase, mitochondrial OS=Sus scrofa OX=9823 GN=CS PE=1 SV=2\n"
     ]
    }
   ],
   "source": [
    "for fasta in wd.rglob('*.fasta'):\n",
    "    for record in SeqIO.parse(fasta, 'fasta'):\n",
    "        break\n",
    "    break\n",
    "    \n",
    "print(record.description)\n",
    "m = regex.match(record.description)"
   ]
  },
  {
   "cell_type": "code",
   "execution_count": 16,
   "metadata": {},
   "outputs": [
    {
     "data": {
      "text/plain": "{'db': 'sp',\n 'accession': 'P00889',\n 'name': 'CISY_PIG',\n 'full_name': 'Citrate synthase, mitochondrial',\n 'organism': 'Sus scrofa',\n 'taxon_id': '9823',\n 'gene': 'CS',\n 'evidence_level': '1',\n 'version': '2'}"
     },
     "execution_count": 16,
     "metadata": {},
     "output_type": "execute_result"
    }
   ],
   "source": [
    "m.groupdict()"
   ]
  },
  {
   "cell_type": "code",
   "execution_count": 17,
   "metadata": {},
   "outputs": [
    {
     "name": "stdout",
     "output_type": "stream",
     "text": [
      "ID: sp|P00889|CISY_PIG\n",
      "Name: sp|P00889|CISY_PIG\n",
      "Description: sp|P00889|CISY_PIG Citrate synthase, mitochondrial OS=Sus scrofa OX=9823 GN=CS PE=1 SV=2\n",
      "Number of features: 0\n",
      "/db=sp\n",
      "/accession=P00889\n",
      "/name=CISY_PIG\n",
      "/full_name=Citrate synthase, mitochondrial\n",
      "/organism=Sus scrofa\n",
      "/taxon_id=9823\n",
      "/gene=CS\n",
      "/evidence_level=1\n",
      "/version=2\n",
      "Seq('MALLTAAARLFGAKNASCLVLAARHASASSTNLKDILADLIPKEQARIKTFRQQ...DSK')\n"
     ]
    },
    {
     "data": {
      "text/plain": "['__add__',\n '__class__',\n '__contains__',\n '__delattr__',\n '__dict__',\n '__dir__',\n '__doc__',\n '__eq__',\n '__format__',\n '__ge__',\n '__getattribute__',\n '__getitem__',\n '__gt__',\n '__hash__',\n '__imul__',\n '__init__',\n '__init_subclass__',\n '__le__',\n '__len__',\n '__lt__',\n '__module__',\n '__mul__',\n '__ne__',\n '__new__',\n '__radd__',\n '__reduce__',\n '__reduce_ex__',\n '__repr__',\n '__rmul__',\n '__setattr__',\n '__sizeof__',\n '__str__',\n '__subclasshook__',\n '__weakref__',\n '_data',\n 'back_transcribe',\n 'complement',\n 'complement_rna',\n 'count',\n 'count_overlap',\n 'encode',\n 'endswith',\n 'find',\n 'index',\n 'join',\n 'lower',\n 'lstrip',\n 'reverse_complement',\n 'reverse_complement_rna',\n 'rfind',\n 'rindex',\n 'rsplit',\n 'rstrip',\n 'split',\n 'startswith',\n 'strip',\n 'tomutable',\n 'transcribe',\n 'translate',\n 'ungap',\n 'upper']"
     },
     "execution_count": 17,
     "metadata": {},
     "output_type": "execute_result"
    }
   ],
   "source": [
    "record.annotations = m.groupdict()\n",
    "print(record)\n",
    "dir(record.seq)"
   ]
  },
  {
   "cell_type": "code",
   "execution_count": 17,
   "metadata": {},
   "outputs": [],
   "source": []
  },
  {
   "cell_type": "markdown",
   "metadata": {},
   "source": [
    "Try out path regex here https://regex101.com/r/zjRWrx/1"
   ]
  },
  {
   "cell_type": "code",
   "execution_count": 18,
   "metadata": {},
   "outputs": [
    {
     "data": {
      "text/plain": "re.compile(r'.*?_prothermdb_(?P<measure>.+?)(?:(?:_)?(?P<dataset>rep_seq|a?)?\\.fasta|\\.tsv)',\nre.UNICODE)"
     },
     "execution_count": 18,
     "metadata": {},
     "output_type": "execute_result"
    }
   ],
   "source": [
    "path_regex = re.compile(r'.*?_prothermdb_(?P<measure>.+?)(?:(?:_)?(?P<dataset>rep_seq|a?)?\\.fasta|\\.tsv)')\n",
    "path_regex"
   ]
  },
  {
   "cell_type": "code",
   "execution_count": 20,
   "metadata": {},
   "outputs": [
    {
     "name": "stdout",
     "output_type": "stream",
     "text": [
      "{'measure': 'melttemp', 'dataset': 'rep_seq'}\n",
      "{'measure': 'delta_g', 'dataset': 'rep_seq'}\n",
      "{'measure': 'delta_g_h2o', 'dataset': 'rep_seq'}\n",
      "{'measure': 'delta_g', 'dataset': ''}\n",
      "{'measure': 'melttemp', 'dataset': ''}\n",
      "{'measure': 'delta_g_h2o', 'dataset': ''}\n",
      "{'measure': 'delta_g_h2o', 'dataset': None}\n",
      "{'measure': 'melttemp', 'dataset': None}\n",
      "{'measure': 'delta_g', 'dataset': None}\n"
     ]
    }
   ],
   "source": [
    "\n",
    "for ext in ['fasta', 'tsv']:\n",
    "    for file in wd.rglob('*.%s' % ext):\n",
    "        match = path_regex.match(file.name)\n",
    "        assert match\n",
    "        print(match.groupdict())\n"
   ]
  },
  {
   "cell_type": "code",
   "execution_count": 20,
   "metadata": {},
   "outputs": [],
   "source": []
  },
  {
   "cell_type": "code",
   "execution_count": 23,
   "metadata": {},
   "outputs": [],
   "source": [
    "seq_data = dict()\n",
    "\n",
    "for fasta in wd.rglob('*.fasta'):\n",
    "    gd = path_regex.match(fasta.name).groupdict()\n",
    "    assert gd\n",
    "    key = 'full' if not gd['dataset'] else gd['dataset'] , gd['measure']\n",
    "    \n",
    "    seq_data[key] = dict()\n",
    "    for record in SeqIO.parse(fasta, 'fasta'):\n",
    "        m = regex.match(record.description)\n",
    "        assert m\n",
    "        record.annotations = m.groupdict()\n",
    "        record.id = record.annotations['accession']  # use the UniProt accession as id, as in ProtTherm\n",
    "        \n",
    "        assert record.id not in seq_data[key], '%s already observed\\n' % record.id\n",
    "        seq_data[key][record.id] = record"
   ]
  },
  {
   "cell_type": "code",
   "execution_count": 24,
   "metadata": {},
   "outputs": [
    {
     "data": {
      "text/plain": "{\"('rep_seq', 'melttemp')\": 204,\n \"('rep_seq', 'delta_g')\": 74,\n \"('rep_seq', 'delta_g_h2o')\": 147,\n \"('full', 'delta_g')\": 89,\n \"('full', 'melttemp')\": 255,\n \"('full', 'delta_g_h2o')\": 174}"
     },
     "execution_count": 24,
     "metadata": {},
     "output_type": "execute_result"
    }
   ],
   "source": [
    "{str(fasta): len(d) for fasta, d in seq_data.items()}"
   ]
  },
  {
   "cell_type": "code",
   "execution_count": 25,
   "metadata": {},
   "outputs": [
    {
     "data": {
      "text/plain": "[('full', 'delta_g'),\n ('full', 'delta_g_h2o'),\n ('full', 'melttemp'),\n ('rep_seq', 'delta_g'),\n ('rep_seq', 'delta_g_h2o'),\n ('rep_seq', 'melttemp')]"
     },
     "execution_count": 25,
     "metadata": {},
     "output_type": "execute_result"
    }
   ],
   "source": [
    "keys = sorted(seq_data.keys())\n",
    "keys"
   ]
  },
  {
   "cell_type": "markdown",
   "metadata": {},
   "source": [
    "Let's check whether the sequence data contains mutations"
   ]
  },
  {
   "cell_type": "code",
   "execution_count": 26,
   "metadata": {},
   "outputs": [],
   "source": [
    "for i, j in zip([0,1,2], [3,4,5]):\n",
    "    full = seq_data[keys[i]]\n",
    "    partial = seq_data[keys[j]]\n",
    "    shared = set(full.keys()).intersection(set(partial.keys()))\n",
    "    assert all(full[_id].seq == partial[_id].seq for _id in shared)"
   ]
  },
  {
   "cell_type": "markdown",
   "metadata": {},
   "source": [
    "All the given `.FASTA` sequences are identical across conditions, *i.e.* do not contain mutations."
   ]
  },
  {
   "cell_type": "code",
   "execution_count": 27,
   "metadata": {},
   "outputs": [
    {
     "data": {
      "text/plain": "dict_keys(['delta_g_h2o', 'melttemp', 'delta_g'])"
     },
     "execution_count": 27,
     "metadata": {},
     "output_type": "execute_result"
    }
   ],
   "source": [
    "dfs = {path_regex.match(tsv.name).groupdict()['measure']:\n",
    "           pd.read_csv(tsv, sep='\\t') for tsv in wd.rglob('*.tsv')}\n",
    "dfs.keys()"
   ]
  },
  {
   "cell_type": "code",
   "execution_count": 28,
   "metadata": {},
   "outputs": [
    {
     "data": {
      "text/plain": "     UniProt_ID                                      MUTATION   pH T_(C)  \\\n0        P00720               R96H (Based on UniProt and PDB)  3.0     -   \n1        P00720              M102V (Based on UniProt and PDB)  3.0     -   \n2        P00720              W138Y (Based on UniProt and PDB)  2.2     -   \n3        P00720  W138Y W126Y W158Y (Based on UniProt and PDB)  2.2     -   \n4        P00720  W138Y W126Y W158Y (Based on UniProt and PDB)  2.5     -   \n...         ...                                           ...  ...   ...   \n3178     P04637              C242S (Based on UniProt and PDB)  7.2    10   \n3179     P04637              R248Q (Based on UniProt and PDB)  7.2    10   \n3180     P04637              R249S (Based on UniProt and PDB)  7.2    10   \n3181     P04637              R273H (Based on UniProt and PDB)  7.2    10   \n3182          -                                             -  7.0     5   \n\n           MEASURE   METHOD ∆Tm_(C) ∆∆G_(kcal/mol) ∆∆G_H2O_(kcal/mol)  \n0               CD  Thermal   -13.6           -3.3                  -  \n1               CD  Thermal   -12.7             -3                  -  \n2               CD  Thermal    -6.3          -1.71                  -  \n3               CD  Thermal    -6.6          -1.82                  -  \n4               CD  Thermal    -6.2          -1.77                  -  \n...            ...      ...     ...            ...                ...  \n3178  Fluorescence     Urea       -          -2.94              -2.94  \n3179  Fluorescence     Urea       -          -1.94              -1.94  \n3180  Fluorescence     Urea       -          -1.95              -1.95  \n3181  Fluorescence     Urea       -          -0.35              -0.35  \n3182            CD  Thermal       -            0.4                  -  \n\n[3183 rows x 9 columns]",
      "text/html": "<div>\n<style scoped>\n    .dataframe tbody tr th:only-of-type {\n        vertical-align: middle;\n    }\n\n    .dataframe tbody tr th {\n        vertical-align: top;\n    }\n\n    .dataframe thead th {\n        text-align: right;\n    }\n</style>\n<table border=\"1\" class=\"dataframe\">\n  <thead>\n    <tr style=\"text-align: right;\">\n      <th></th>\n      <th>UniProt_ID</th>\n      <th>MUTATION</th>\n      <th>pH</th>\n      <th>T_(C)</th>\n      <th>MEASURE</th>\n      <th>METHOD</th>\n      <th>∆Tm_(C)</th>\n      <th>∆∆G_(kcal/mol)</th>\n      <th>∆∆G_H2O_(kcal/mol)</th>\n    </tr>\n  </thead>\n  <tbody>\n    <tr>\n      <th>0</th>\n      <td>P00720</td>\n      <td>R96H (Based on UniProt and PDB)</td>\n      <td>3.0</td>\n      <td>-</td>\n      <td>CD</td>\n      <td>Thermal</td>\n      <td>-13.6</td>\n      <td>-3.3</td>\n      <td>-</td>\n    </tr>\n    <tr>\n      <th>1</th>\n      <td>P00720</td>\n      <td>M102V (Based on UniProt and PDB)</td>\n      <td>3.0</td>\n      <td>-</td>\n      <td>CD</td>\n      <td>Thermal</td>\n      <td>-12.7</td>\n      <td>-3</td>\n      <td>-</td>\n    </tr>\n    <tr>\n      <th>2</th>\n      <td>P00720</td>\n      <td>W138Y (Based on UniProt and PDB)</td>\n      <td>2.2</td>\n      <td>-</td>\n      <td>CD</td>\n      <td>Thermal</td>\n      <td>-6.3</td>\n      <td>-1.71</td>\n      <td>-</td>\n    </tr>\n    <tr>\n      <th>3</th>\n      <td>P00720</td>\n      <td>W138Y W126Y W158Y (Based on UniProt and PDB)</td>\n      <td>2.2</td>\n      <td>-</td>\n      <td>CD</td>\n      <td>Thermal</td>\n      <td>-6.6</td>\n      <td>-1.82</td>\n      <td>-</td>\n    </tr>\n    <tr>\n      <th>4</th>\n      <td>P00720</td>\n      <td>W138Y W126Y W158Y (Based on UniProt and PDB)</td>\n      <td>2.5</td>\n      <td>-</td>\n      <td>CD</td>\n      <td>Thermal</td>\n      <td>-6.2</td>\n      <td>-1.77</td>\n      <td>-</td>\n    </tr>\n    <tr>\n      <th>...</th>\n      <td>...</td>\n      <td>...</td>\n      <td>...</td>\n      <td>...</td>\n      <td>...</td>\n      <td>...</td>\n      <td>...</td>\n      <td>...</td>\n      <td>...</td>\n    </tr>\n    <tr>\n      <th>3178</th>\n      <td>P04637</td>\n      <td>C242S (Based on UniProt and PDB)</td>\n      <td>7.2</td>\n      <td>10</td>\n      <td>Fluorescence</td>\n      <td>Urea</td>\n      <td>-</td>\n      <td>-2.94</td>\n      <td>-2.94</td>\n    </tr>\n    <tr>\n      <th>3179</th>\n      <td>P04637</td>\n      <td>R248Q (Based on UniProt and PDB)</td>\n      <td>7.2</td>\n      <td>10</td>\n      <td>Fluorescence</td>\n      <td>Urea</td>\n      <td>-</td>\n      <td>-1.94</td>\n      <td>-1.94</td>\n    </tr>\n    <tr>\n      <th>3180</th>\n      <td>P04637</td>\n      <td>R249S (Based on UniProt and PDB)</td>\n      <td>7.2</td>\n      <td>10</td>\n      <td>Fluorescence</td>\n      <td>Urea</td>\n      <td>-</td>\n      <td>-1.95</td>\n      <td>-1.95</td>\n    </tr>\n    <tr>\n      <th>3181</th>\n      <td>P04637</td>\n      <td>R273H (Based on UniProt and PDB)</td>\n      <td>7.2</td>\n      <td>10</td>\n      <td>Fluorescence</td>\n      <td>Urea</td>\n      <td>-</td>\n      <td>-0.35</td>\n      <td>-0.35</td>\n    </tr>\n    <tr>\n      <th>3182</th>\n      <td>-</td>\n      <td>-</td>\n      <td>7.0</td>\n      <td>5</td>\n      <td>CD</td>\n      <td>Thermal</td>\n      <td>-</td>\n      <td>0.4</td>\n      <td>-</td>\n    </tr>\n  </tbody>\n</table>\n<p>3183 rows × 9 columns</p>\n</div>"
     },
     "execution_count": 28,
     "metadata": {},
     "output_type": "execute_result"
    }
   ],
   "source": [
    "# run this cell until KeyError: 'popitem(): dictionary is empty' to ensure all dataframes are ok\n",
    "path, df = dfs.popitem()\n",
    "df"
   ]
  },
  {
   "cell_type": "code",
   "execution_count": 29,
   "metadata": {},
   "outputs": [
    {
     "data": {
      "text/plain": "'delta_g'"
     },
     "execution_count": 29,
     "metadata": {},
     "output_type": "execute_result"
    }
   ],
   "source": [
    "path"
   ]
  },
  {
   "cell_type": "code",
   "execution_count": 38,
   "metadata": {},
   "outputs": [
    {
     "data": {
      "text/plain": "             delta  level_1 UniProt_ID   MUTATION   pH T_(C)       MEASURE  \\\n0      delta_g_h2o        0     P03051  C38A C52V  6.3     -            CD   \n1      delta_g_h2o        1     P03051  C38A C52A  6.3     -            CD   \n2      delta_g_h2o        2     P11532       K18N  7.0     -            CD   \n3      delta_g_h2o        3     P11532       K18N  7.0     -  Fluorescence   \n4      delta_g_h2o        4     Q8TZE8      W301F  8.0    60  Fluorescence   \n...            ...      ...        ...        ...  ...   ...           ...   \n15513      delta_g     3177     P04637      R175H  7.2    10  Fluorescence   \n15514      delta_g     3178     P04637      C242S  7.2    10  Fluorescence   \n15515      delta_g     3179     P04637      R248Q  7.2    10  Fluorescence   \n15516      delta_g     3180     P04637      R249S  7.2    10  Fluorescence   \n15517      delta_g     3181     P04637      R273H  7.2    10  Fluorescence   \n\n       METHOD ∆Tm_(C) ∆∆G_(kcal/mol) ∆∆G_H2O_(kcal/mol)           SOURCE  \\\n0        Urea       -              -                 -5  UniProt and PDB   \n1        Urea       -              -               -8.3  UniProt and PDB   \n2        Urea       -              -               -3.7  UniProt and PDB   \n3        Urea       -              -               -3.7  UniProt and PDB   \n4      GdnHCl       -              -               3.98  UniProt and PDB   \n...       ...     ...            ...                ...              ...   \n15513    Urea       -          -3.01              -3.01  UniProt and PDB   \n15514    Urea       -          -2.94              -2.94  UniProt and PDB   \n15515    Urea       -          -1.94              -1.94  UniProt and PDB   \n15516    Urea       -          -1.95              -1.95  UniProt and PDB   \n15517    Urea       -          -0.35              -0.35  UniProt and PDB   \n\n       MUT_COUNT  \n0              2  \n1              2  \n2              1  \n3              1  \n4              1  \n...          ...  \n15513          1  \n15514          1  \n15515          1  \n15516          1  \n15517          1  \n\n[15518 rows x 13 columns]",
      "text/html": "<div>\n<style scoped>\n    .dataframe tbody tr th:only-of-type {\n        vertical-align: middle;\n    }\n\n    .dataframe tbody tr th {\n        vertical-align: top;\n    }\n\n    .dataframe thead th {\n        text-align: right;\n    }\n</style>\n<table border=\"1\" class=\"dataframe\">\n  <thead>\n    <tr style=\"text-align: right;\">\n      <th></th>\n      <th>delta</th>\n      <th>level_1</th>\n      <th>UniProt_ID</th>\n      <th>MUTATION</th>\n      <th>pH</th>\n      <th>T_(C)</th>\n      <th>MEASURE</th>\n      <th>METHOD</th>\n      <th>∆Tm_(C)</th>\n      <th>∆∆G_(kcal/mol)</th>\n      <th>∆∆G_H2O_(kcal/mol)</th>\n      <th>SOURCE</th>\n      <th>MUT_COUNT</th>\n    </tr>\n  </thead>\n  <tbody>\n    <tr>\n      <th>0</th>\n      <td>delta_g_h2o</td>\n      <td>0</td>\n      <td>P03051</td>\n      <td>C38A C52V</td>\n      <td>6.3</td>\n      <td>-</td>\n      <td>CD</td>\n      <td>Urea</td>\n      <td>-</td>\n      <td>-</td>\n      <td>-5</td>\n      <td>UniProt and PDB</td>\n      <td>2</td>\n    </tr>\n    <tr>\n      <th>1</th>\n      <td>delta_g_h2o</td>\n      <td>1</td>\n      <td>P03051</td>\n      <td>C38A C52A</td>\n      <td>6.3</td>\n      <td>-</td>\n      <td>CD</td>\n      <td>Urea</td>\n      <td>-</td>\n      <td>-</td>\n      <td>-8.3</td>\n      <td>UniProt and PDB</td>\n      <td>2</td>\n    </tr>\n    <tr>\n      <th>2</th>\n      <td>delta_g_h2o</td>\n      <td>2</td>\n      <td>P11532</td>\n      <td>K18N</td>\n      <td>7.0</td>\n      <td>-</td>\n      <td>CD</td>\n      <td>Urea</td>\n      <td>-</td>\n      <td>-</td>\n      <td>-3.7</td>\n      <td>UniProt and PDB</td>\n      <td>1</td>\n    </tr>\n    <tr>\n      <th>3</th>\n      <td>delta_g_h2o</td>\n      <td>3</td>\n      <td>P11532</td>\n      <td>K18N</td>\n      <td>7.0</td>\n      <td>-</td>\n      <td>Fluorescence</td>\n      <td>Urea</td>\n      <td>-</td>\n      <td>-</td>\n      <td>-3.7</td>\n      <td>UniProt and PDB</td>\n      <td>1</td>\n    </tr>\n    <tr>\n      <th>4</th>\n      <td>delta_g_h2o</td>\n      <td>4</td>\n      <td>Q8TZE8</td>\n      <td>W301F</td>\n      <td>8.0</td>\n      <td>60</td>\n      <td>Fluorescence</td>\n      <td>GdnHCl</td>\n      <td>-</td>\n      <td>-</td>\n      <td>3.98</td>\n      <td>UniProt and PDB</td>\n      <td>1</td>\n    </tr>\n    <tr>\n      <th>...</th>\n      <td>...</td>\n      <td>...</td>\n      <td>...</td>\n      <td>...</td>\n      <td>...</td>\n      <td>...</td>\n      <td>...</td>\n      <td>...</td>\n      <td>...</td>\n      <td>...</td>\n      <td>...</td>\n      <td>...</td>\n      <td>...</td>\n    </tr>\n    <tr>\n      <th>15513</th>\n      <td>delta_g</td>\n      <td>3177</td>\n      <td>P04637</td>\n      <td>R175H</td>\n      <td>7.2</td>\n      <td>10</td>\n      <td>Fluorescence</td>\n      <td>Urea</td>\n      <td>-</td>\n      <td>-3.01</td>\n      <td>-3.01</td>\n      <td>UniProt and PDB</td>\n      <td>1</td>\n    </tr>\n    <tr>\n      <th>15514</th>\n      <td>delta_g</td>\n      <td>3178</td>\n      <td>P04637</td>\n      <td>C242S</td>\n      <td>7.2</td>\n      <td>10</td>\n      <td>Fluorescence</td>\n      <td>Urea</td>\n      <td>-</td>\n      <td>-2.94</td>\n      <td>-2.94</td>\n      <td>UniProt and PDB</td>\n      <td>1</td>\n    </tr>\n    <tr>\n      <th>15515</th>\n      <td>delta_g</td>\n      <td>3179</td>\n      <td>P04637</td>\n      <td>R248Q</td>\n      <td>7.2</td>\n      <td>10</td>\n      <td>Fluorescence</td>\n      <td>Urea</td>\n      <td>-</td>\n      <td>-1.94</td>\n      <td>-1.94</td>\n      <td>UniProt and PDB</td>\n      <td>1</td>\n    </tr>\n    <tr>\n      <th>15516</th>\n      <td>delta_g</td>\n      <td>3180</td>\n      <td>P04637</td>\n      <td>R249S</td>\n      <td>7.2</td>\n      <td>10</td>\n      <td>Fluorescence</td>\n      <td>Urea</td>\n      <td>-</td>\n      <td>-1.95</td>\n      <td>-1.95</td>\n      <td>UniProt and PDB</td>\n      <td>1</td>\n    </tr>\n    <tr>\n      <th>15517</th>\n      <td>delta_g</td>\n      <td>3181</td>\n      <td>P04637</td>\n      <td>R273H</td>\n      <td>7.2</td>\n      <td>10</td>\n      <td>Fluorescence</td>\n      <td>Urea</td>\n      <td>-</td>\n      <td>-0.35</td>\n      <td>-0.35</td>\n      <td>UniProt and PDB</td>\n      <td>1</td>\n    </tr>\n  </tbody>\n</table>\n<p>15518 rows × 13 columns</p>\n</div>"
     },
     "execution_count": 38,
     "metadata": {},
     "output_type": "execute_result"
    }
   ],
   "source": [
    "dfs = dict()\n",
    "dfs = {path_regex.match(tsv.name).groupdict()['measure']:\n",
    "           pd.read_csv(tsv, sep='\\t') for tsv in wd.rglob('*.tsv')}\n",
    "\n",
    "cols = lambda i: list(dfs[list(dfs.keys())[i]].columns)\n",
    "assert cols(0) == cols(1) and cols(1) == cols(2), 'the dataframe colums are not identical'\n",
    "\n",
    "conditions = list(dfs.keys())\n",
    "for c in conditions:\n",
    "    # pop to avoid pandas warnings\n",
    "    df = dfs.pop(c)\n",
    "    # filter out rows with undetermined '-' or 'wild-type' mutation\n",
    "    df = df.loc[(df.MUTATION != '-') & (df.MUTATION != 'wild-type')]\n",
    "    # split the mutation column'R191A K1943'\n",
    "    df[['MUTATION', 'SOURCE']] = df.MUTATION.str.rstrip(')').str.split(' \\(Based on ', expand=True)\n",
    "\n",
    "    #print(df.loc[(df.SOURCE != 'UniProt') & (df.SOURCE != 'UniProt and PDB')])\n",
    "    #break\n",
    "    #df.loc[df.MUTATION.str.contains(':')\n",
    "    \n",
    "    # count mutations\n",
    "    df['MUT_COUNT'] = df.MUTATION.str.strip().str.count(' ')+1\n",
    "    dfs[c] = df\n",
    "df = pd.concat(dfs.values(), keys=dfs.keys()).reset_index().rename(columns={'level_0': 'delta'})\n",
    "df.loc[df.MUTATION.str.contains(':')]  # df.SOURCE == 'PDB']\n",
    "df.loc[df.UniProt_ID == '-']\n",
    "df"
   ]
  },
  {
   "cell_type": "code",
   "execution_count": 39,
   "metadata": {},
   "outputs": [
    {
     "name": "stdout",
     "output_type": "stream",
     "text": [
      "['UniProt and PDB' 'UniProt' 'PDB']\n"
     ]
    },
    {
     "data": {
      "text/plain": "             delta  level_1 UniProt_ID                               MUTATION  \\\n681    delta_g_h2o      683          -                             1yyx_A:W7M   \n716    delta_g_h2o      718          -                            1yyx_A:I98A   \n718    delta_g_h2o      720          -                           1yyx_A:Y105A   \n719    delta_g_h2o      721          -               1yyx_A:I98V 1yyx_A:N102A   \n720    delta_g_h2o      722          -  1yyx_A:I98L 1yyx_A:N102D 1yyx_A:G106R   \n...            ...      ...        ...                                    ...   \n11497     melttemp     5539          -                            1g9e_A:M83A   \n11498     melttemp     5540          -                            1g9e_A:L86A   \n11838     melttemp     5880     Q2YD82                           6U07_A:S117G   \n11840     melttemp     5882     Q2YD82                           6u07_A:K138A   \n11841     melttemp     5883     Q2YD82                           6u07_A:K138N   \n\n        pH T_(C)       MEASURE   METHOD ∆Tm_(C) ∆∆G_(kcal/mol)  \\\n681    5.0    25  Fluorescence     Urea       -              -   \n716    5.0    25  Fluorescence     Urea       -              -   \n718    5.0    25  Fluorescence     Urea       -              -   \n719    5.0    25  Fluorescence     Urea       -              -   \n720    5.0    25  Fluorescence     Urea       -              -   \n...    ...   ...           ...      ...     ...            ...   \n11497  7.4     -            CD  Thermal    -5.9              -   \n11498  7.4     -            CD  Thermal    -6.6              -   \n11838  NaN     -  fluorescence  Thermal    -0.6              -   \n11840  NaN     -  fluorescence  Thermal     1.0              -   \n11841  NaN     -  fluorescence  Thermal     0.6              -   \n\n      ∆∆G_H2O_(kcal/mol) SOURCE  MUT_COUNT  \n681                -0.85    PDB          1  \n716                -3.48    PDB          1  \n718                -2.36    PDB          1  \n719                -0.14    PDB          2  \n720                -0.23    PDB          3  \n...                  ...    ...        ...  \n11497                  -    PDB          1  \n11498                  -    PDB          1  \n11838                  -    PDB          1  \n11840                  -    PDB          1  \n11841                  -    PDB          1  \n\n[106 rows x 13 columns]",
      "text/html": "<div>\n<style scoped>\n    .dataframe tbody tr th:only-of-type {\n        vertical-align: middle;\n    }\n\n    .dataframe tbody tr th {\n        vertical-align: top;\n    }\n\n    .dataframe thead th {\n        text-align: right;\n    }\n</style>\n<table border=\"1\" class=\"dataframe\">\n  <thead>\n    <tr style=\"text-align: right;\">\n      <th></th>\n      <th>delta</th>\n      <th>level_1</th>\n      <th>UniProt_ID</th>\n      <th>MUTATION</th>\n      <th>pH</th>\n      <th>T_(C)</th>\n      <th>MEASURE</th>\n      <th>METHOD</th>\n      <th>∆Tm_(C)</th>\n      <th>∆∆G_(kcal/mol)</th>\n      <th>∆∆G_H2O_(kcal/mol)</th>\n      <th>SOURCE</th>\n      <th>MUT_COUNT</th>\n    </tr>\n  </thead>\n  <tbody>\n    <tr>\n      <th>681</th>\n      <td>delta_g_h2o</td>\n      <td>683</td>\n      <td>-</td>\n      <td>1yyx_A:W7M</td>\n      <td>5.0</td>\n      <td>25</td>\n      <td>Fluorescence</td>\n      <td>Urea</td>\n      <td>-</td>\n      <td>-</td>\n      <td>-0.85</td>\n      <td>PDB</td>\n      <td>1</td>\n    </tr>\n    <tr>\n      <th>716</th>\n      <td>delta_g_h2o</td>\n      <td>718</td>\n      <td>-</td>\n      <td>1yyx_A:I98A</td>\n      <td>5.0</td>\n      <td>25</td>\n      <td>Fluorescence</td>\n      <td>Urea</td>\n      <td>-</td>\n      <td>-</td>\n      <td>-3.48</td>\n      <td>PDB</td>\n      <td>1</td>\n    </tr>\n    <tr>\n      <th>718</th>\n      <td>delta_g_h2o</td>\n      <td>720</td>\n      <td>-</td>\n      <td>1yyx_A:Y105A</td>\n      <td>5.0</td>\n      <td>25</td>\n      <td>Fluorescence</td>\n      <td>Urea</td>\n      <td>-</td>\n      <td>-</td>\n      <td>-2.36</td>\n      <td>PDB</td>\n      <td>1</td>\n    </tr>\n    <tr>\n      <th>719</th>\n      <td>delta_g_h2o</td>\n      <td>721</td>\n      <td>-</td>\n      <td>1yyx_A:I98V 1yyx_A:N102A</td>\n      <td>5.0</td>\n      <td>25</td>\n      <td>Fluorescence</td>\n      <td>Urea</td>\n      <td>-</td>\n      <td>-</td>\n      <td>-0.14</td>\n      <td>PDB</td>\n      <td>2</td>\n    </tr>\n    <tr>\n      <th>720</th>\n      <td>delta_g_h2o</td>\n      <td>722</td>\n      <td>-</td>\n      <td>1yyx_A:I98L 1yyx_A:N102D 1yyx_A:G106R</td>\n      <td>5.0</td>\n      <td>25</td>\n      <td>Fluorescence</td>\n      <td>Urea</td>\n      <td>-</td>\n      <td>-</td>\n      <td>-0.23</td>\n      <td>PDB</td>\n      <td>3</td>\n    </tr>\n    <tr>\n      <th>...</th>\n      <td>...</td>\n      <td>...</td>\n      <td>...</td>\n      <td>...</td>\n      <td>...</td>\n      <td>...</td>\n      <td>...</td>\n      <td>...</td>\n      <td>...</td>\n      <td>...</td>\n      <td>...</td>\n      <td>...</td>\n      <td>...</td>\n    </tr>\n    <tr>\n      <th>11497</th>\n      <td>melttemp</td>\n      <td>5539</td>\n      <td>-</td>\n      <td>1g9e_A:M83A</td>\n      <td>7.4</td>\n      <td>-</td>\n      <td>CD</td>\n      <td>Thermal</td>\n      <td>-5.9</td>\n      <td>-</td>\n      <td>-</td>\n      <td>PDB</td>\n      <td>1</td>\n    </tr>\n    <tr>\n      <th>11498</th>\n      <td>melttemp</td>\n      <td>5540</td>\n      <td>-</td>\n      <td>1g9e_A:L86A</td>\n      <td>7.4</td>\n      <td>-</td>\n      <td>CD</td>\n      <td>Thermal</td>\n      <td>-6.6</td>\n      <td>-</td>\n      <td>-</td>\n      <td>PDB</td>\n      <td>1</td>\n    </tr>\n    <tr>\n      <th>11838</th>\n      <td>melttemp</td>\n      <td>5880</td>\n      <td>Q2YD82</td>\n      <td>6U07_A:S117G</td>\n      <td>NaN</td>\n      <td>-</td>\n      <td>fluorescence</td>\n      <td>Thermal</td>\n      <td>-0.6</td>\n      <td>-</td>\n      <td>-</td>\n      <td>PDB</td>\n      <td>1</td>\n    </tr>\n    <tr>\n      <th>11840</th>\n      <td>melttemp</td>\n      <td>5882</td>\n      <td>Q2YD82</td>\n      <td>6u07_A:K138A</td>\n      <td>NaN</td>\n      <td>-</td>\n      <td>fluorescence</td>\n      <td>Thermal</td>\n      <td>1.0</td>\n      <td>-</td>\n      <td>-</td>\n      <td>PDB</td>\n      <td>1</td>\n    </tr>\n    <tr>\n      <th>11841</th>\n      <td>melttemp</td>\n      <td>5883</td>\n      <td>Q2YD82</td>\n      <td>6u07_A:K138N</td>\n      <td>NaN</td>\n      <td>-</td>\n      <td>fluorescence</td>\n      <td>Thermal</td>\n      <td>0.6</td>\n      <td>-</td>\n      <td>-</td>\n      <td>PDB</td>\n      <td>1</td>\n    </tr>\n  </tbody>\n</table>\n<p>106 rows × 13 columns</p>\n</div>"
     },
     "execution_count": 39,
     "metadata": {},
     "output_type": "execute_result"
    }
   ],
   "source": [
    "print(df.SOURCE.unique())\n",
    "df.loc[df.SOURCE == 'PDB']"
   ]
  },
  {
   "cell_type": "code",
   "execution_count": 40,
   "metadata": {},
   "outputs": [
    {
     "data": {
      "text/plain": "             delta  level_1 UniProt_ID  \\\n681    delta_g_h2o      683          -   \n716    delta_g_h2o      718          -   \n718    delta_g_h2o      720          -   \n719    delta_g_h2o      721          -   \n720    delta_g_h2o      722          -   \n721    delta_g_h2o      723          -   \n722    delta_g_h2o      724          -   \n10263     melttemp     4289          -   \n11438     melttemp     5477          -   \n11439     melttemp     5478          -   \n11440     melttemp     5479          -   \n11441     melttemp     5480          -   \n11442     melttemp     5481          -   \n11443     melttemp     5482          -   \n11444     melttemp     5483          -   \n11445     melttemp     5484          -   \n11446     melttemp     5485          -   \n11447     melttemp     5486          -   \n11486     melttemp     5525          -   \n11487     melttemp     5526          -   \n11488     melttemp     5527          -   \n11489     melttemp     5528          -   \n11490     melttemp     5529          -   \n11491     melttemp     5531          -   \n11492     melttemp     5532          -   \n11493     melttemp     5533          -   \n11494     melttemp     5534          -   \n11495     melttemp     5535          -   \n11496     melttemp     5536          -   \n11497     melttemp     5539          -   \n11498     melttemp     5540          -   \n\n                                                MUTATION   pH T_(C)  \\\n681                                           1yyx_A:W7M  5.0    25   \n716                                          1yyx_A:I98A  5.0    25   \n718                                         1yyx_A:Y105A  5.0    25   \n719                             1yyx_A:I98V 1yyx_A:N102A  5.0    25   \n720                1yyx_A:I98L 1yyx_A:N102D 1yyx_A:G106R  5.0    25   \n721                             1yyx_A:I98V 1yyx_A:N102G  5.0    25   \n722                1yyx_A:I98K 1yyx_A:N102I 1yyx_A:G106L  5.0    25   \n10263                                    L64R G77R S105R  8.0     -   \n11438                                        3na9_H:V34H  7.2     -   \n11439                            3na9_H:V34I 3na9_H:G35S  7.2     -   \n11440                                        3na9_H:F50R  7.2     -   \n11441                            3na9_H:A60S 3na9_H:Q66H  7.2     -   \n11442                3na9_H:V34I 3na9_H:G35S 3na9_H:E95Q  7.2     -   \n11443  3na9_H:V34I 3na9_H:G35S 3na9_H:F50R 3na9_H:A60...  7.2     -   \n11444  3na9_H:V34I 3na9_H:G35S 3na9_H:F50R 3na9_H:E95...  7.2     -   \n11445                3na9_H:V34I 3na9_H:G35S 3na9_H:E95Q  7.2     -   \n11446  3na9_H:V34I 3na9_H:G35S 3na9_H:F50R 3na9_H:E95...  7.2     -   \n11447    3na9_H:V34I 3na9_H:G35S 3na9_H:E95Q 3na9_L:S95P  7.2     -   \n11486                            4u7s_A:C22A 4u7s_A:C99V  7.4     -   \n11487                            4u7s_A:C22A 4u7s_A:C99V  7.4     -   \n11488                                        4u7s_A:Y59P  7.4     -   \n11489                                        4u7s_A:S74A  7.4     -   \n11490                                        4u7s_A:Y98A  7.4     -   \n11491                                        4u7s_A:Y59P  7.4     -   \n11492                                        4u7s_A:S74A  7.4     -   \n11493                                        4u7s_A:Y98A  7.4     -   \n11494                                        1i3u_A:L20I  7.4     -   \n11495                                        1i3u_A:R38K  7.4     -   \n11496                                        1u0q_A:D86E  7.4     -   \n11497                                        1g9e_A:M83A  7.4     -   \n11498                                        1g9e_A:L86A  7.4     -   \n\n            MEASURE   METHOD ∆Tm_(C) ∆∆G_(kcal/mol) ∆∆G_H2O_(kcal/mol)  \\\n681    Fluorescence     Urea       -              -              -0.85   \n716    Fluorescence     Urea       -              -              -3.48   \n718    Fluorescence     Urea       -              -              -2.36   \n719    Fluorescence     Urea       -              -              -0.14   \n720    Fluorescence     Urea       -              -              -0.23   \n721    Fluorescence     Urea       -              -               -1.7   \n722    Fluorescence     Urea       -              -              -2.39   \n10263    absorbance  Thermal    -1.0              -                  -   \n11438           DSC  Thermal     2.2              -                  -   \n11439           DSC  Thermal     6.5              -                  -   \n11440           DSC  Thermal     4.6              -                  -   \n11441           DSC  Thermal     0.7              -                  -   \n11442           DSC  Thermal    10.3              -                  -   \n11443           DSC  Thermal    11.5              -                  -   \n11444           DSC  Thermal    11.3              -                  -   \n11445           DSC  Thermal    10.9              -                  -   \n11446           DSC  Thermal    11.6              -                  -   \n11447           DSC  Thermal    12.6              -                  -   \n11486            CD  Thermal   -25.0              -                  -   \n11487            CD  Thermal     1.9              -                  -   \n11488            CD  Thermal     3.9              -                  -   \n11489            CD  Thermal    -0.5              -                  -   \n11490            CD  Thermal    -9.5              -                  -   \n11491            CD  Thermal     8.9              -                  -   \n11492            CD  Thermal     1.9              -                  -   \n11493            CD  Thermal    -8.0              -                  -   \n11494            CD  Thermal   -14.2              -                  -   \n11495            CD  Thermal   -42.8              -                  -   \n11496            CD  Thermal    -7.3              -                  -   \n11497            CD  Thermal    -5.9              -                  -   \n11498            CD  Thermal    -6.6              -                  -   \n\n        SOURCE  MUT_COUNT  \n681        PDB          1  \n716        PDB          1  \n718        PDB          1  \n719        PDB          2  \n720        PDB          3  \n721        PDB          2  \n722        PDB          3  \n10263  UniProt          3  \n11438      PDB          1  \n11439      PDB          2  \n11440      PDB          1  \n11441      PDB          2  \n11442      PDB          3  \n11443      PDB          5  \n11444      PDB          6  \n11445      PDB          3  \n11446      PDB          6  \n11447      PDB          4  \n11486      PDB          2  \n11487      PDB          2  \n11488      PDB          1  \n11489      PDB          1  \n11490      PDB          1  \n11491      PDB          1  \n11492      PDB          1  \n11493      PDB          1  \n11494      PDB          1  \n11495      PDB          1  \n11496      PDB          1  \n11497      PDB          1  \n11498      PDB          1  ",
      "text/html": "<div>\n<style scoped>\n    .dataframe tbody tr th:only-of-type {\n        vertical-align: middle;\n    }\n\n    .dataframe tbody tr th {\n        vertical-align: top;\n    }\n\n    .dataframe thead th {\n        text-align: right;\n    }\n</style>\n<table border=\"1\" class=\"dataframe\">\n  <thead>\n    <tr style=\"text-align: right;\">\n      <th></th>\n      <th>delta</th>\n      <th>level_1</th>\n      <th>UniProt_ID</th>\n      <th>MUTATION</th>\n      <th>pH</th>\n      <th>T_(C)</th>\n      <th>MEASURE</th>\n      <th>METHOD</th>\n      <th>∆Tm_(C)</th>\n      <th>∆∆G_(kcal/mol)</th>\n      <th>∆∆G_H2O_(kcal/mol)</th>\n      <th>SOURCE</th>\n      <th>MUT_COUNT</th>\n    </tr>\n  </thead>\n  <tbody>\n    <tr>\n      <th>681</th>\n      <td>delta_g_h2o</td>\n      <td>683</td>\n      <td>-</td>\n      <td>1yyx_A:W7M</td>\n      <td>5.0</td>\n      <td>25</td>\n      <td>Fluorescence</td>\n      <td>Urea</td>\n      <td>-</td>\n      <td>-</td>\n      <td>-0.85</td>\n      <td>PDB</td>\n      <td>1</td>\n    </tr>\n    <tr>\n      <th>716</th>\n      <td>delta_g_h2o</td>\n      <td>718</td>\n      <td>-</td>\n      <td>1yyx_A:I98A</td>\n      <td>5.0</td>\n      <td>25</td>\n      <td>Fluorescence</td>\n      <td>Urea</td>\n      <td>-</td>\n      <td>-</td>\n      <td>-3.48</td>\n      <td>PDB</td>\n      <td>1</td>\n    </tr>\n    <tr>\n      <th>718</th>\n      <td>delta_g_h2o</td>\n      <td>720</td>\n      <td>-</td>\n      <td>1yyx_A:Y105A</td>\n      <td>5.0</td>\n      <td>25</td>\n      <td>Fluorescence</td>\n      <td>Urea</td>\n      <td>-</td>\n      <td>-</td>\n      <td>-2.36</td>\n      <td>PDB</td>\n      <td>1</td>\n    </tr>\n    <tr>\n      <th>719</th>\n      <td>delta_g_h2o</td>\n      <td>721</td>\n      <td>-</td>\n      <td>1yyx_A:I98V 1yyx_A:N102A</td>\n      <td>5.0</td>\n      <td>25</td>\n      <td>Fluorescence</td>\n      <td>Urea</td>\n      <td>-</td>\n      <td>-</td>\n      <td>-0.14</td>\n      <td>PDB</td>\n      <td>2</td>\n    </tr>\n    <tr>\n      <th>720</th>\n      <td>delta_g_h2o</td>\n      <td>722</td>\n      <td>-</td>\n      <td>1yyx_A:I98L 1yyx_A:N102D 1yyx_A:G106R</td>\n      <td>5.0</td>\n      <td>25</td>\n      <td>Fluorescence</td>\n      <td>Urea</td>\n      <td>-</td>\n      <td>-</td>\n      <td>-0.23</td>\n      <td>PDB</td>\n      <td>3</td>\n    </tr>\n    <tr>\n      <th>721</th>\n      <td>delta_g_h2o</td>\n      <td>723</td>\n      <td>-</td>\n      <td>1yyx_A:I98V 1yyx_A:N102G</td>\n      <td>5.0</td>\n      <td>25</td>\n      <td>Fluorescence</td>\n      <td>Urea</td>\n      <td>-</td>\n      <td>-</td>\n      <td>-1.7</td>\n      <td>PDB</td>\n      <td>2</td>\n    </tr>\n    <tr>\n      <th>722</th>\n      <td>delta_g_h2o</td>\n      <td>724</td>\n      <td>-</td>\n      <td>1yyx_A:I98K 1yyx_A:N102I 1yyx_A:G106L</td>\n      <td>5.0</td>\n      <td>25</td>\n      <td>Fluorescence</td>\n      <td>Urea</td>\n      <td>-</td>\n      <td>-</td>\n      <td>-2.39</td>\n      <td>PDB</td>\n      <td>3</td>\n    </tr>\n    <tr>\n      <th>10263</th>\n      <td>melttemp</td>\n      <td>4289</td>\n      <td>-</td>\n      <td>L64R G77R S105R</td>\n      <td>8.0</td>\n      <td>-</td>\n      <td>absorbance</td>\n      <td>Thermal</td>\n      <td>-1.0</td>\n      <td>-</td>\n      <td>-</td>\n      <td>UniProt</td>\n      <td>3</td>\n    </tr>\n    <tr>\n      <th>11438</th>\n      <td>melttemp</td>\n      <td>5477</td>\n      <td>-</td>\n      <td>3na9_H:V34H</td>\n      <td>7.2</td>\n      <td>-</td>\n      <td>DSC</td>\n      <td>Thermal</td>\n      <td>2.2</td>\n      <td>-</td>\n      <td>-</td>\n      <td>PDB</td>\n      <td>1</td>\n    </tr>\n    <tr>\n      <th>11439</th>\n      <td>melttemp</td>\n      <td>5478</td>\n      <td>-</td>\n      <td>3na9_H:V34I 3na9_H:G35S</td>\n      <td>7.2</td>\n      <td>-</td>\n      <td>DSC</td>\n      <td>Thermal</td>\n      <td>6.5</td>\n      <td>-</td>\n      <td>-</td>\n      <td>PDB</td>\n      <td>2</td>\n    </tr>\n    <tr>\n      <th>11440</th>\n      <td>melttemp</td>\n      <td>5479</td>\n      <td>-</td>\n      <td>3na9_H:F50R</td>\n      <td>7.2</td>\n      <td>-</td>\n      <td>DSC</td>\n      <td>Thermal</td>\n      <td>4.6</td>\n      <td>-</td>\n      <td>-</td>\n      <td>PDB</td>\n      <td>1</td>\n    </tr>\n    <tr>\n      <th>11441</th>\n      <td>melttemp</td>\n      <td>5480</td>\n      <td>-</td>\n      <td>3na9_H:A60S 3na9_H:Q66H</td>\n      <td>7.2</td>\n      <td>-</td>\n      <td>DSC</td>\n      <td>Thermal</td>\n      <td>0.7</td>\n      <td>-</td>\n      <td>-</td>\n      <td>PDB</td>\n      <td>2</td>\n    </tr>\n    <tr>\n      <th>11442</th>\n      <td>melttemp</td>\n      <td>5481</td>\n      <td>-</td>\n      <td>3na9_H:V34I 3na9_H:G35S 3na9_H:E95Q</td>\n      <td>7.2</td>\n      <td>-</td>\n      <td>DSC</td>\n      <td>Thermal</td>\n      <td>10.3</td>\n      <td>-</td>\n      <td>-</td>\n      <td>PDB</td>\n      <td>3</td>\n    </tr>\n    <tr>\n      <th>11443</th>\n      <td>melttemp</td>\n      <td>5482</td>\n      <td>-</td>\n      <td>3na9_H:V34I 3na9_H:G35S 3na9_H:F50R 3na9_H:A60...</td>\n      <td>7.2</td>\n      <td>-</td>\n      <td>DSC</td>\n      <td>Thermal</td>\n      <td>11.5</td>\n      <td>-</td>\n      <td>-</td>\n      <td>PDB</td>\n      <td>5</td>\n    </tr>\n    <tr>\n      <th>11444</th>\n      <td>melttemp</td>\n      <td>5483</td>\n      <td>-</td>\n      <td>3na9_H:V34I 3na9_H:G35S 3na9_H:F50R 3na9_H:E95...</td>\n      <td>7.2</td>\n      <td>-</td>\n      <td>DSC</td>\n      <td>Thermal</td>\n      <td>11.3</td>\n      <td>-</td>\n      <td>-</td>\n      <td>PDB</td>\n      <td>6</td>\n    </tr>\n    <tr>\n      <th>11445</th>\n      <td>melttemp</td>\n      <td>5484</td>\n      <td>-</td>\n      <td>3na9_H:V34I 3na9_H:G35S 3na9_H:E95Q</td>\n      <td>7.2</td>\n      <td>-</td>\n      <td>DSC</td>\n      <td>Thermal</td>\n      <td>10.9</td>\n      <td>-</td>\n      <td>-</td>\n      <td>PDB</td>\n      <td>3</td>\n    </tr>\n    <tr>\n      <th>11446</th>\n      <td>melttemp</td>\n      <td>5485</td>\n      <td>-</td>\n      <td>3na9_H:V34I 3na9_H:G35S 3na9_H:F50R 3na9_H:E95...</td>\n      <td>7.2</td>\n      <td>-</td>\n      <td>DSC</td>\n      <td>Thermal</td>\n      <td>11.6</td>\n      <td>-</td>\n      <td>-</td>\n      <td>PDB</td>\n      <td>6</td>\n    </tr>\n    <tr>\n      <th>11447</th>\n      <td>melttemp</td>\n      <td>5486</td>\n      <td>-</td>\n      <td>3na9_H:V34I 3na9_H:G35S 3na9_H:E95Q 3na9_L:S95P</td>\n      <td>7.2</td>\n      <td>-</td>\n      <td>DSC</td>\n      <td>Thermal</td>\n      <td>12.6</td>\n      <td>-</td>\n      <td>-</td>\n      <td>PDB</td>\n      <td>4</td>\n    </tr>\n    <tr>\n      <th>11486</th>\n      <td>melttemp</td>\n      <td>5525</td>\n      <td>-</td>\n      <td>4u7s_A:C22A 4u7s_A:C99V</td>\n      <td>7.4</td>\n      <td>-</td>\n      <td>CD</td>\n      <td>Thermal</td>\n      <td>-25.0</td>\n      <td>-</td>\n      <td>-</td>\n      <td>PDB</td>\n      <td>2</td>\n    </tr>\n    <tr>\n      <th>11487</th>\n      <td>melttemp</td>\n      <td>5526</td>\n      <td>-</td>\n      <td>4u7s_A:C22A 4u7s_A:C99V</td>\n      <td>7.4</td>\n      <td>-</td>\n      <td>CD</td>\n      <td>Thermal</td>\n      <td>1.9</td>\n      <td>-</td>\n      <td>-</td>\n      <td>PDB</td>\n      <td>2</td>\n    </tr>\n    <tr>\n      <th>11488</th>\n      <td>melttemp</td>\n      <td>5527</td>\n      <td>-</td>\n      <td>4u7s_A:Y59P</td>\n      <td>7.4</td>\n      <td>-</td>\n      <td>CD</td>\n      <td>Thermal</td>\n      <td>3.9</td>\n      <td>-</td>\n      <td>-</td>\n      <td>PDB</td>\n      <td>1</td>\n    </tr>\n    <tr>\n      <th>11489</th>\n      <td>melttemp</td>\n      <td>5528</td>\n      <td>-</td>\n      <td>4u7s_A:S74A</td>\n      <td>7.4</td>\n      <td>-</td>\n      <td>CD</td>\n      <td>Thermal</td>\n      <td>-0.5</td>\n      <td>-</td>\n      <td>-</td>\n      <td>PDB</td>\n      <td>1</td>\n    </tr>\n    <tr>\n      <th>11490</th>\n      <td>melttemp</td>\n      <td>5529</td>\n      <td>-</td>\n      <td>4u7s_A:Y98A</td>\n      <td>7.4</td>\n      <td>-</td>\n      <td>CD</td>\n      <td>Thermal</td>\n      <td>-9.5</td>\n      <td>-</td>\n      <td>-</td>\n      <td>PDB</td>\n      <td>1</td>\n    </tr>\n    <tr>\n      <th>11491</th>\n      <td>melttemp</td>\n      <td>5531</td>\n      <td>-</td>\n      <td>4u7s_A:Y59P</td>\n      <td>7.4</td>\n      <td>-</td>\n      <td>CD</td>\n      <td>Thermal</td>\n      <td>8.9</td>\n      <td>-</td>\n      <td>-</td>\n      <td>PDB</td>\n      <td>1</td>\n    </tr>\n    <tr>\n      <th>11492</th>\n      <td>melttemp</td>\n      <td>5532</td>\n      <td>-</td>\n      <td>4u7s_A:S74A</td>\n      <td>7.4</td>\n      <td>-</td>\n      <td>CD</td>\n      <td>Thermal</td>\n      <td>1.9</td>\n      <td>-</td>\n      <td>-</td>\n      <td>PDB</td>\n      <td>1</td>\n    </tr>\n    <tr>\n      <th>11493</th>\n      <td>melttemp</td>\n      <td>5533</td>\n      <td>-</td>\n      <td>4u7s_A:Y98A</td>\n      <td>7.4</td>\n      <td>-</td>\n      <td>CD</td>\n      <td>Thermal</td>\n      <td>-8.0</td>\n      <td>-</td>\n      <td>-</td>\n      <td>PDB</td>\n      <td>1</td>\n    </tr>\n    <tr>\n      <th>11494</th>\n      <td>melttemp</td>\n      <td>5534</td>\n      <td>-</td>\n      <td>1i3u_A:L20I</td>\n      <td>7.4</td>\n      <td>-</td>\n      <td>CD</td>\n      <td>Thermal</td>\n      <td>-14.2</td>\n      <td>-</td>\n      <td>-</td>\n      <td>PDB</td>\n      <td>1</td>\n    </tr>\n    <tr>\n      <th>11495</th>\n      <td>melttemp</td>\n      <td>5535</td>\n      <td>-</td>\n      <td>1i3u_A:R38K</td>\n      <td>7.4</td>\n      <td>-</td>\n      <td>CD</td>\n      <td>Thermal</td>\n      <td>-42.8</td>\n      <td>-</td>\n      <td>-</td>\n      <td>PDB</td>\n      <td>1</td>\n    </tr>\n    <tr>\n      <th>11496</th>\n      <td>melttemp</td>\n      <td>5536</td>\n      <td>-</td>\n      <td>1u0q_A:D86E</td>\n      <td>7.4</td>\n      <td>-</td>\n      <td>CD</td>\n      <td>Thermal</td>\n      <td>-7.3</td>\n      <td>-</td>\n      <td>-</td>\n      <td>PDB</td>\n      <td>1</td>\n    </tr>\n    <tr>\n      <th>11497</th>\n      <td>melttemp</td>\n      <td>5539</td>\n      <td>-</td>\n      <td>1g9e_A:M83A</td>\n      <td>7.4</td>\n      <td>-</td>\n      <td>CD</td>\n      <td>Thermal</td>\n      <td>-5.9</td>\n      <td>-</td>\n      <td>-</td>\n      <td>PDB</td>\n      <td>1</td>\n    </tr>\n    <tr>\n      <th>11498</th>\n      <td>melttemp</td>\n      <td>5540</td>\n      <td>-</td>\n      <td>1g9e_A:L86A</td>\n      <td>7.4</td>\n      <td>-</td>\n      <td>CD</td>\n      <td>Thermal</td>\n      <td>-6.6</td>\n      <td>-</td>\n      <td>-</td>\n      <td>PDB</td>\n      <td>1</td>\n    </tr>\n  </tbody>\n</table>\n</div>"
     },
     "execution_count": 40,
     "metadata": {},
     "output_type": "execute_result"
    }
   ],
   "source": [
    "df.loc[df.UniProt_ID == '-']"
   ]
  },
  {
   "cell_type": "code",
   "execution_count": 41,
   "metadata": {
    "tags": []
   },
   "outputs": [
    {
     "data": {
      "text/plain": "['1yyx_A:W7M',\n '1yyx_A:I98A',\n '1yyx_A:Y105A',\n '1yyx_A:I98V 1yyx_A:N102A',\n '1yyx_A:I98L 1yyx_A:N102D 1yyx_A:G106R',\n '1yyx_A:I98V 1yyx_A:N102G',\n '1yyx_A:I98K 1yyx_A:N102I 1yyx_A:G106L',\n '1b28_A:M31A',\n '1b28_A:Y36A',\n '1b28_A:L40A',\n '1lve_A:S97T',\n '1lve_A:Y96P',\n '1lve_A:S29N',\n '1lve_A:I106L',\n '1lve_A:Y96Q',\n '1pga_A:M1A',\n '1pga_A:M1D',\n '1pga_A:M1E',\n '1pga_A:M1F',\n '1pga_A:M1G',\n '1pga_A:M1H',\n '1pga_A:M1I',\n '1pga_A:M1K',\n '1pga_A:M1L',\n '1pga_A:M1N',\n '1pga_A:M1P',\n '1pga_A:M1Q',\n '1pga_A:M1R',\n '1pga_A:M1S',\n '1pga_A:M1T',\n '1pga_A:M1V',\n '1pga_A:M1Y',\n '2imm_A:F32Y',\n '2imm_A:L106I',\n '2imm_A:P43S',\n '3b9v_A:W47A',\n '3b9v_A:W47V',\n '3b9v_A:W47L',\n '3b9v_A:W47E',\n '3b9v_A:W47T',\n '3b9v_A:W47L 3b9v_A:V37S',\n '3b9v_A:W47L 3b9v_A:W103R',\n '3b9v_A:G35H',\n '3b9v_A:R39Q',\n '3b9v_A:E45L',\n '3b9v_A:S50R',\n '3b9v_A:W47L 3b9v_A:G35H',\n '3b9v_A:W47L 3b9v_A:R39Q',\n '3b9v_A:W47L 3b9v_A:E45L',\n '3b9v_A:W47L 3b9v_A:S50R',\n '3b9v_A:W47T 3b9v_A:G35H',\n '3b9v_A:W47T 3b9v_A:R39Q',\n '3b9v_A:W47T 3b9v_A:E45L',\n '3b9v_A:W47T 3b9v_A:S50R',\n '4fng_A:L364M',\n '4fng_A:E530K',\n '4fng_A:G554D',\n '4U2D_A:L110Q,4U2D_A:C137Y,4U2D_A:D145N',\n '3na9_H:V34H',\n '3na9_H:V34I 3na9_H:G35S',\n '3na9_H:F50R',\n '3na9_H:A60S 3na9_H:Q66H',\n '3na9_H:V34I 3na9_H:G35S 3na9_H:E95Q',\n '3na9_H:V34I 3na9_H:G35S 3na9_H:F50R 3na9_H:A60S 3na9_H:Q66H',\n '3na9_H:V34I 3na9_H:G35S 3na9_H:F50R 3na9_H:E95Q 3na9_H:A60S 3na9_H:Q66H',\n '3na9_H:V34I 3na9_H:G35S 3na9_H:E95Q',\n '3na9_H:V34I 3na9_H:G35S 3na9_H:F50R 3na9_H:E95Q 3na9_H:A60S 3na9_H:Q66H',\n '3na9_H:V34I 3na9_H:G35S 3na9_H:E95Q 3na9_L:S95P',\n '1mhp_L:A25V',\n '1mhp_L:V29S',\n '1mhp_L:V29T',\n '1mhp_L:M32F',\n '1mhp_L:A25F 1mhp_L:M32I',\n '1mhp_L:A25H 1mhp_L:M32T',\n '1mhp_L:V29F 1mhp_L:Y70V',\n '1mhp_L:V29F 1mhp_L:M32I 1mhp_L:Y70F',\n '1mhp_L:A25S 1mhp_L:Y70F',\n '1mhp_L:V29I 1mhp_L:M32L',\n '1mhp_L:M32L 1mhp_L:Y70F',\n '1mhp_L:V29I 1mhp_L:M32L 1mhp_L:Y70F',\n '1mhp_L:A25S 1mhp_L:V29L 1mhp_L:M32L 1mhp_L:Y70F',\n '1mhp_H:M34H',\n '1mhp_H:F29W 1mhp_H:M34A',\n '1mhp_H:F29W 1mhp_H:M34F',\n '1mhp_H:A24S 1mhp_H:F29H 1mhp_H:M34F',\n '1mhp_H:A24F 1mhp_H:F29M 1mhp_H:M34F',\n '1mhp_H:A24V',\n '1mhp_H:F29L',\n '1mhp_H:M34V',\n '1mhp_H:M34I',\n '4u7s_A:C22A 4u7s_A:C99V',\n '4u7s_A:C22A 4u7s_A:C99V',\n '4u7s_A:Y59P',\n '4u7s_A:S74A',\n '4u7s_A:Y98A',\n '4u7s_A:Y59P',\n '4u7s_A:S74A',\n '4u7s_A:Y98A',\n '1i3u_A:L20I',\n '1i3u_A:R38K',\n '1u0q_A:D86E',\n '1g9e_A:M83A',\n '1g9e_A:L86A',\n '6U07_A:S117G',\n '6u07_A:K138A',\n '6u07_A:K138N']"
     },
     "execution_count": 41,
     "metadata": {},
     "output_type": "execute_result"
    }
   ],
   "source": [
    "amino_acids = list('ARNDCQEGHILKMFPSTWYV')\n",
    "[m for m in df.MUTATION if ':' in m]"
   ]
  },
  {
   "cell_type": "code",
   "execution_count": 42,
   "metadata": {},
   "outputs": [
    {
     "data": {
      "text/plain": "['1yyx_A:W7M',\n '1yyx_A:I98A',\n '1yyx_A:Y105A',\n '1yyx_A:I98V 1yyx_A:N102A',\n '1yyx_A:I98L 1yyx_A:N102D 1yyx_A:G106R',\n '1yyx_A:I98V 1yyx_A:N102G',\n '1yyx_A:I98K 1yyx_A:N102I 1yyx_A:G106L',\n '1b28_A:M31A',\n '1b28_A:Y36A',\n '1b28_A:L40A',\n '1lve_A:S97T',\n '1lve_A:Y96P',\n '1lve_A:S29N',\n '1lve_A:I106L',\n '1lve_A:Y96Q',\n '1pga_A:M1A',\n '1pga_A:M1D',\n '1pga_A:M1E',\n '1pga_A:M1F',\n '1pga_A:M1G',\n '1pga_A:M1H',\n '1pga_A:M1I',\n '1pga_A:M1K',\n '1pga_A:M1L',\n '1pga_A:M1N',\n '1pga_A:M1P',\n '1pga_A:M1Q',\n '1pga_A:M1R',\n '1pga_A:M1S',\n '1pga_A:M1T',\n '1pga_A:M1V',\n '1pga_A:M1Y',\n '2imm_A:F32Y',\n '2imm_A:L106I',\n '2imm_A:P43S',\n '3b9v_A:W47A',\n '3b9v_A:W47V',\n '3b9v_A:W47L',\n '3b9v_A:W47E',\n '3b9v_A:W47T',\n '3b9v_A:W47L 3b9v_A:V37S',\n '3b9v_A:W47L 3b9v_A:W103R',\n '3b9v_A:G35H',\n '3b9v_A:R39Q',\n '3b9v_A:E45L',\n '3b9v_A:S50R',\n '3b9v_A:W47L 3b9v_A:G35H',\n '3b9v_A:W47L 3b9v_A:R39Q',\n '3b9v_A:W47L 3b9v_A:E45L',\n '3b9v_A:W47L 3b9v_A:S50R',\n '3b9v_A:W47T 3b9v_A:G35H',\n '3b9v_A:W47T 3b9v_A:R39Q',\n '3b9v_A:W47T 3b9v_A:E45L',\n '3b9v_A:W47T 3b9v_A:S50R',\n '4fng_A:L364M',\n '4fng_A:E530K',\n '4fng_A:G554D',\n '4U2D_A:L110Q,4U2D_A:C137Y,4U2D_A:D145N',\n '3na9_H:V34H',\n '3na9_H:V34I 3na9_H:G35S',\n '3na9_H:F50R',\n '3na9_H:A60S 3na9_H:Q66H',\n '3na9_H:V34I 3na9_H:G35S 3na9_H:E95Q',\n '3na9_H:V34I 3na9_H:G35S 3na9_H:F50R 3na9_H:A60S 3na9_H:Q66H',\n '3na9_H:V34I 3na9_H:G35S 3na9_H:F50R 3na9_H:E95Q 3na9_H:A60S 3na9_H:Q66H',\n '3na9_H:V34I 3na9_H:G35S 3na9_H:E95Q',\n '3na9_H:V34I 3na9_H:G35S 3na9_H:F50R 3na9_H:E95Q 3na9_H:A60S 3na9_H:Q66H',\n '3na9_H:V34I 3na9_H:G35S 3na9_H:E95Q 3na9_L:S95P',\n '1mhp_L:A25V',\n '1mhp_L:V29S',\n '1mhp_L:V29T',\n '1mhp_L:M32F',\n '1mhp_L:A25F 1mhp_L:M32I',\n '1mhp_L:A25H 1mhp_L:M32T',\n '1mhp_L:V29F 1mhp_L:Y70V',\n '1mhp_L:V29F 1mhp_L:M32I 1mhp_L:Y70F',\n '1mhp_L:A25S 1mhp_L:Y70F',\n '1mhp_L:V29I 1mhp_L:M32L',\n '1mhp_L:M32L 1mhp_L:Y70F',\n '1mhp_L:V29I 1mhp_L:M32L 1mhp_L:Y70F',\n '1mhp_L:A25S 1mhp_L:V29L 1mhp_L:M32L 1mhp_L:Y70F',\n '1mhp_H:M34H',\n '1mhp_H:F29W 1mhp_H:M34A',\n '1mhp_H:F29W 1mhp_H:M34F',\n '1mhp_H:A24S 1mhp_H:F29H 1mhp_H:M34F',\n '1mhp_H:A24F 1mhp_H:F29M 1mhp_H:M34F',\n '1mhp_H:A24V',\n '1mhp_H:F29L',\n '1mhp_H:M34V',\n '1mhp_H:M34I',\n '4u7s_A:C22A 4u7s_A:C99V',\n '4u7s_A:C22A 4u7s_A:C99V',\n '4u7s_A:Y59P',\n '4u7s_A:S74A',\n '4u7s_A:Y98A',\n '4u7s_A:Y59P',\n '4u7s_A:S74A',\n '4u7s_A:Y98A',\n '1i3u_A:L20I',\n '1i3u_A:R38K',\n '1u0q_A:D86E',\n '1g9e_A:M83A',\n '1g9e_A:L86A',\n '6U07_A:S117G',\n '6u07_A:K138A',\n '6u07_A:K138N']"
     },
     "execution_count": 42,
     "metadata": {},
     "output_type": "execute_result"
    }
   ],
   "source": [
    "amino_acids = list('ARNDCQEGHILKMFPSTWYV')\n",
    "[m for m in df.MUTATION if m[0] not in amino_acids]"
   ]
  },
  {
   "cell_type": "code",
   "execution_count": 42,
   "metadata": {},
   "outputs": [],
   "source": []
  },
  {
   "cell_type": "markdown",
   "metadata": {},
   "source": [
    "---\n",
    "### Counting numbers of mutations per line (= not per UniProt ID)"
   ]
  },
  {
   "cell_type": "code",
   "execution_count": 51,
   "metadata": {},
   "outputs": [],
   "source": [
    "def adjust_lightness(color, amount=0.5):\n",
    "    import matplotlib.colors as mc\n",
    "    import colorsys\n",
    "    try:\n",
    "        c = mc.cnames[color]\n",
    "    except:\n",
    "        c = color\n",
    "    c = colorsys.rgb_to_hls(*mc.to_rgb(c))\n",
    "    return colorsys.hls_to_rgb(c[0], max(0, min(1, amount * c[1])), c[2])"
   ]
  },
  {
   "cell_type": "code",
   "execution_count": 52,
   "metadata": {},
   "outputs": [
    {
     "data": {
      "text/plain": "<Figure size 1080x360 with 3 Axes>",
      "image/png": "[encoded data removed]"
     },
     "metadata": {},
     "output_type": "display_data"
    },
    {
     "data": {
      "text/plain": "<Figure size 1080x360 with 3 Axes>",
      "image/png": "[encoded data removed]"
     },
     "metadata": {},
     "output_type": "display_data"
    }
   ],
   "source": [
    "sns.set(style='white')\n",
    "sns.set_theme(style=\"ticks\")\n",
    "cmap = sns.cubehelix_palette(3, start=2.8, rot=-.2, as_cmap=False)\n",
    "cmap[-1] = adjust_lightness(cmap[-1], 2)\n",
    "order =['melttemp', 'delta_g_h2o', 'delta_g']\n",
    "\n",
    "for log in [True, False]:  \n",
    "    g = sns.FacetGrid(data=df, col='delta', hue='delta', height=5, margin_titles=True, palette=cmap, \n",
    "                      col_order=order, hue_order=order[::-1])\n",
    "\n",
    "    g.map_dataframe(sns.histplot, x='MUT_COUNT', log_scale=(False, log), discrete=True)\n",
    "    g.set_axis_labels('mutation count','count frequency')\n",
    "    g.set_titles(col_template='{col_name}')\n",
    "\n",
    "\n",
    "    g.savefig(wd / 'plots' / 'barplot%s.png' % ('_log' if log else ''), dpi=300)"
   ]
  },
  {
   "cell_type": "code",
   "execution_count": 68,
   "outputs": [
    {
     "data": {
      "text/plain": "<Figure size 823.68x187.2 with 1 Axes>",
      "image/png": "[encoded data removed]"
     },
     "metadata": {},
     "output_type": "display_data"
    }
   ],
   "source": [
    "cdf = df.groupby(['MUT_COUNT', 'delta'])['MUT_COUNT'].count().reset_index(name='freq')\n",
    "\n",
    "sns.set_theme(style=\"whitegrid\")\n",
    "cmap = sns.cubehelix_palette(3, start=2.8, rot=-.2, as_cmap=False)\n",
    "cmap[-1] = adjust_lightness(cmap[-1], 2)\n",
    "\n",
    "g = sns.relplot(\n",
    "    data=cdf, alpha=.9,\n",
    "    x=\"MUT_COUNT\", y=\"delta\", \n",
    "    size=\"freq\", hue=\"delta\", \n",
    "    palette=cmap,\n",
    "    sizes=(10, 1900),\n",
    "    height=2.6, aspect=4.4,\n",
    "    legend=False,\n",
    ")\n",
    "\n",
    "g.ax.xaxis.grid(True, \"major\", linewidth=1)\n",
    "g.ax.yaxis.grid(True, \"major\", linewidth=.25)\n",
    "g.ax.set_ylim(-1, 3)\n",
    "g.despine(left=True, bottom=True)\n",
    "g.set_axis_labels('mutation count per record, frequency as area', '')\n",
    "#g.ax.set_yticklabels(['a','b','c'])\n",
    "g.savefig(wd / 'plots' / 'dotplot.png', dpi=300)\n"
   ],
   "metadata": {
    "collapsed": false,
    "pycharm": {
     "name": "#%%\n"
    }
   }
  },
  {
   "cell_type": "markdown",
   "metadata": {},
   "source": [
    "---\n",
    "### Comparing dataset sizes and share of redundant sequences"
   ]
  },
  {
   "cell_type": "code",
   "execution_count": 376,
   "metadata": {},
   "outputs": [
    {
     "data": {
      "text/plain": [
       "[['rep_seq', 'melttemp', 204],\n",
       " ['rep_seq', 'delta_g', 74],\n",
       " ['rep_seq', 'delta_g_h2o', 147],\n",
       " ['full', 'delta_g', 89],\n",
       " ['full', 'melttemp', 255],\n",
       " ['full', 'delta_g_h2o', 174]]"
      ]
     },
     "execution_count": 376,
     "metadata": {},
     "output_type": "execute_result"
    }
   ],
   "source": [
    "records = [list(fasta) + [len(d)]  for fasta, d in seq_data.items()]\n",
    "records"
   ]
  },
  {
   "cell_type": "code",
   "execution_count": 416,
   "metadata": {},
   "outputs": [
    {
     "data": {
      "text/html": [
       "<div>\n",
       "<style scoped>\n",
       "    .dataframe tbody tr th:only-of-type {\n",
       "        vertical-align: middle;\n",
       "    }\n",
       "\n",
       "    .dataframe tbody tr th {\n",
       "        vertical-align: top;\n",
       "    }\n",
       "\n",
       "    .dataframe thead th {\n",
       "        text-align: right;\n",
       "    }\n",
       "</style>\n",
       "<table border=\"1\" class=\"dataframe\">\n",
       "  <thead>\n",
       "    <tr style=\"text-align: right;\">\n",
       "      <th></th>\n",
       "      <th>set</th>\n",
       "      <th>measure</th>\n",
       "      <th>size</th>\n",
       "    </tr>\n",
       "  </thead>\n",
       "  <tbody>\n",
       "    <tr>\n",
       "      <th>0</th>\n",
       "      <td>rep_seq</td>\n",
       "      <td>melttemp</td>\n",
       "      <td>204</td>\n",
       "    </tr>\n",
       "    <tr>\n",
       "      <th>1</th>\n",
       "      <td>rep_seq</td>\n",
       "      <td>delta_g</td>\n",
       "      <td>74</td>\n",
       "    </tr>\n",
       "    <tr>\n",
       "      <th>2</th>\n",
       "      <td>rep_seq</td>\n",
       "      <td>delta_g_h2o</td>\n",
       "      <td>147</td>\n",
       "    </tr>\n",
       "    <tr>\n",
       "      <th>3</th>\n",
       "      <td>full</td>\n",
       "      <td>delta_g</td>\n",
       "      <td>89</td>\n",
       "    </tr>\n",
       "    <tr>\n",
       "      <th>4</th>\n",
       "      <td>full</td>\n",
       "      <td>melttemp</td>\n",
       "      <td>255</td>\n",
       "    </tr>\n",
       "    <tr>\n",
       "      <th>5</th>\n",
       "      <td>full</td>\n",
       "      <td>delta_g_h2o</td>\n",
       "      <td>174</td>\n",
       "    </tr>\n",
       "  </tbody>\n",
       "</table>\n",
       "</div>"
      ],
      "text/plain": [
       "       set      measure  size\n",
       "0  rep_seq     melttemp   204\n",
       "1  rep_seq      delta_g    74\n",
       "2  rep_seq  delta_g_h2o   147\n",
       "3     full      delta_g    89\n",
       "4     full     melttemp   255\n",
       "5     full  delta_g_h2o   174"
      ]
     },
     "execution_count": 416,
     "metadata": {},
     "output_type": "execute_result"
    }
   ],
   "source": [
    "dt = pd.DataFrame.from_records(records, columns=['set', 'measure', 'size'])\n",
    "dt"
   ]
  },
  {
   "cell_type": "code",
   "execution_count": 417,
   "metadata": {},
   "outputs": [
    {
     "data": {
      "text/html": [
       "<div>\n",
       "<style scoped>\n",
       "    .dataframe tbody tr th:only-of-type {\n",
       "        vertical-align: middle;\n",
       "    }\n",
       "\n",
       "    .dataframe tbody tr th {\n",
       "        vertical-align: top;\n",
       "    }\n",
       "\n",
       "    .dataframe thead th {\n",
       "        text-align: right;\n",
       "    }\n",
       "</style>\n",
       "<table border=\"1\" class=\"dataframe\">\n",
       "  <thead>\n",
       "    <tr style=\"text-align: right;\">\n",
       "      <th></th>\n",
       "      <th>redundant</th>\n",
       "      <th>unique</th>\n",
       "    </tr>\n",
       "    <tr>\n",
       "      <th>measure</th>\n",
       "      <th></th>\n",
       "      <th></th>\n",
       "    </tr>\n",
       "  </thead>\n",
       "  <tbody>\n",
       "    <tr>\n",
       "      <th>melttemp</th>\n",
       "      <td>51</td>\n",
       "      <td>204</td>\n",
       "    </tr>\n",
       "    <tr>\n",
       "      <th>delta_g_h2o</th>\n",
       "      <td>27</td>\n",
       "      <td>147</td>\n",
       "    </tr>\n",
       "    <tr>\n",
       "      <th>delta_g</th>\n",
       "      <td>15</td>\n",
       "      <td>74</td>\n",
       "    </tr>\n",
       "  </tbody>\n",
       "</table>\n",
       "</div>"
      ],
      "text/plain": [
       "             redundant  unique\n",
       "measure                       \n",
       "melttemp            51     204\n",
       "delta_g_h2o         27     147\n",
       "delta_g             15      74"
      ]
     },
     "execution_count": 417,
     "metadata": {},
     "output_type": "execute_result"
    }
   ],
   "source": [
    "dt2 = dt.pivot(index='set', columns='measure', values='size').transpose()\n",
    "dt2.full -= dt2.rep_seq\n",
    "dt2.columns = ['redundant', 'unique']\n",
    "dt2 = dt2.reindex(order)\n",
    "avg = (sum(dt2.redundant) + sum(dt2.unique)) // 3\n",
    "dt2"
   ]
  },
  {
   "cell_type": "code",
   "execution_count": null,
   "metadata": {},
   "outputs": [],
   "source": []
  },
  {
   "cell_type": "code",
   "execution_count": 418,
   "metadata": {},
   "outputs": [
    {
     "data": {
      "image/png": "[encoded data removed]",
      "text/plain": [
       "<Figure size 648x216 with 3 Axes>"
      ]
     },
     "metadata": {},
     "output_type": "display_data"
    }
   ],
   "source": [
    "import numpy as np\n",
    "cmap = sns.cubehelix_palette(3, start=2.8, rot=-.2, as_cmap=False)[::-1]\n",
    "cmap[0] = adjust_lightness(cmap[0], 4)\n",
    "vir = sns.color_palette('viridis', 2, as_cmap=False)\n",
    "\n",
    "fig, ax = plt.subplots(1,3, figsize=(9,3))\n",
    "\n",
    "ax = ax.flatten()\n",
    "for i, cat in enumerate(dt2.index):\n",
    "    dt2.loc[cat].plot.pie(ax=ax[i],\n",
    "                          autopct='%1.f%%', counterclock=False,\n",
    "                          labels=['redundant', 'unique'] if cat == 'melttemp' else ['', ''], \n",
    "                          startangle=0, \n",
    "                          radius=np.sqrt(sum(dt2.loc[cat]) / avg), \n",
    "                          colors=['lightgray', cmap[i]])\n",
    "    ax[i].set_ylabel('')\n",
    "    ax[i].set_title(cat, fontweight='bold', y=1.1)\n",
    "\n",
    "#fig.suptitle('relative dataset size for different measurements and share of homologous samples')\n",
    "fig.tight_layout()\n",
    "fig.savefig('pies.png', dpi=300)"
   ]
  },
  {
   "cell_type": "code",
   "execution_count": null,
   "metadata": {},
   "outputs": [],
   "source": []
  },
  {
   "cell_type": "markdown",
   "metadata": {},
   "source": [
    "---\n",
    "### Annotation Frequency / occurences per UniProt ID"
   ]
  },
  {
   "cell_type": "code",
   "execution_count": 419,
   "metadata": {},
   "outputs": [
    {
     "data": {
      "text/html": [
       "<div>\n",
       "<style scoped>\n",
       "    .dataframe tbody tr th:only-of-type {\n",
       "        vertical-align: middle;\n",
       "    }\n",
       "\n",
       "    .dataframe tbody tr th {\n",
       "        vertical-align: top;\n",
       "    }\n",
       "\n",
       "    .dataframe thead th {\n",
       "        text-align: right;\n",
       "    }\n",
       "</style>\n",
       "<table border=\"1\" class=\"dataframe\">\n",
       "  <thead>\n",
       "    <tr style=\"text-align: right;\">\n",
       "      <th></th>\n",
       "      <th>delta</th>\n",
       "      <th>level_1</th>\n",
       "      <th>UniProt_ID</th>\n",
       "      <th>MUTATION</th>\n",
       "      <th>pH</th>\n",
       "      <th>T_(C)</th>\n",
       "      <th>MEASURE</th>\n",
       "      <th>METHOD</th>\n",
       "      <th>∆Tm_(C)</th>\n",
       "      <th>∆∆G_(kcal/mol)</th>\n",
       "      <th>∆∆G_H2O_(kcal/mol)</th>\n",
       "      <th>SOURCE</th>\n",
       "      <th>MUT_COUNT</th>\n",
       "    </tr>\n",
       "  </thead>\n",
       "  <tbody>\n",
       "    <tr>\n",
       "      <th>0</th>\n",
       "      <td>delta_g_h2o</td>\n",
       "      <td>0</td>\n",
       "      <td>P03051</td>\n",
       "      <td>C38A C52V</td>\n",
       "      <td>6.3</td>\n",
       "      <td>-</td>\n",
       "      <td>CD</td>\n",
       "      <td>Urea</td>\n",
       "      <td>-</td>\n",
       "      <td>-</td>\n",
       "      <td>-5</td>\n",
       "      <td>UniProt and PDB</td>\n",
       "      <td>2</td>\n",
       "    </tr>\n",
       "    <tr>\n",
       "      <th>1</th>\n",
       "      <td>delta_g_h2o</td>\n",
       "      <td>1</td>\n",
       "      <td>P03051</td>\n",
       "      <td>C38A C52A</td>\n",
       "      <td>6.3</td>\n",
       "      <td>-</td>\n",
       "      <td>CD</td>\n",
       "      <td>Urea</td>\n",
       "      <td>-</td>\n",
       "      <td>-</td>\n",
       "      <td>-8.3</td>\n",
       "      <td>UniProt and PDB</td>\n",
       "      <td>2</td>\n",
       "    </tr>\n",
       "    <tr>\n",
       "      <th>2</th>\n",
       "      <td>delta_g_h2o</td>\n",
       "      <td>2</td>\n",
       "      <td>P11532</td>\n",
       "      <td>K18N</td>\n",
       "      <td>7.0</td>\n",
       "      <td>-</td>\n",
       "      <td>CD</td>\n",
       "      <td>Urea</td>\n",
       "      <td>-</td>\n",
       "      <td>-</td>\n",
       "      <td>-3.7</td>\n",
       "      <td>UniProt and PDB</td>\n",
       "      <td>1</td>\n",
       "    </tr>\n",
       "    <tr>\n",
       "      <th>3</th>\n",
       "      <td>delta_g_h2o</td>\n",
       "      <td>3</td>\n",
       "      <td>P11532</td>\n",
       "      <td>K18N</td>\n",
       "      <td>7.0</td>\n",
       "      <td>-</td>\n",
       "      <td>Fluorescence</td>\n",
       "      <td>Urea</td>\n",
       "      <td>-</td>\n",
       "      <td>-</td>\n",
       "      <td>-3.7</td>\n",
       "      <td>UniProt and PDB</td>\n",
       "      <td>1</td>\n",
       "    </tr>\n",
       "    <tr>\n",
       "      <th>4</th>\n",
       "      <td>delta_g_h2o</td>\n",
       "      <td>4</td>\n",
       "      <td>Q8TZE8</td>\n",
       "      <td>W301F</td>\n",
       "      <td>8.0</td>\n",
       "      <td>60</td>\n",
       "      <td>Fluorescence</td>\n",
       "      <td>GdnHCl</td>\n",
       "      <td>-</td>\n",
       "      <td>-</td>\n",
       "      <td>3.98</td>\n",
       "      <td>UniProt and PDB</td>\n",
       "      <td>1</td>\n",
       "    </tr>\n",
       "    <tr>\n",
       "      <th>...</th>\n",
       "      <td>...</td>\n",
       "      <td>...</td>\n",
       "      <td>...</td>\n",
       "      <td>...</td>\n",
       "      <td>...</td>\n",
       "      <td>...</td>\n",
       "      <td>...</td>\n",
       "      <td>...</td>\n",
       "      <td>...</td>\n",
       "      <td>...</td>\n",
       "      <td>...</td>\n",
       "      <td>...</td>\n",
       "      <td>...</td>\n",
       "    </tr>\n",
       "    <tr>\n",
       "      <th>15513</th>\n",
       "      <td>delta_g</td>\n",
       "      <td>3177</td>\n",
       "      <td>P04637</td>\n",
       "      <td>R175H</td>\n",
       "      <td>7.2</td>\n",
       "      <td>10</td>\n",
       "      <td>Fluorescence</td>\n",
       "      <td>Urea</td>\n",
       "      <td>-</td>\n",
       "      <td>-3.01</td>\n",
       "      <td>-3.01</td>\n",
       "      <td>UniProt and PDB</td>\n",
       "      <td>1</td>\n",
       "    </tr>\n",
       "    <tr>\n",
       "      <th>15514</th>\n",
       "      <td>delta_g</td>\n",
       "      <td>3178</td>\n",
       "      <td>P04637</td>\n",
       "      <td>C242S</td>\n",
       "      <td>7.2</td>\n",
       "      <td>10</td>\n",
       "      <td>Fluorescence</td>\n",
       "      <td>Urea</td>\n",
       "      <td>-</td>\n",
       "      <td>-2.94</td>\n",
       "      <td>-2.94</td>\n",
       "      <td>UniProt and PDB</td>\n",
       "      <td>1</td>\n",
       "    </tr>\n",
       "    <tr>\n",
       "      <th>15515</th>\n",
       "      <td>delta_g</td>\n",
       "      <td>3179</td>\n",
       "      <td>P04637</td>\n",
       "      <td>R248Q</td>\n",
       "      <td>7.2</td>\n",
       "      <td>10</td>\n",
       "      <td>Fluorescence</td>\n",
       "      <td>Urea</td>\n",
       "      <td>-</td>\n",
       "      <td>-1.94</td>\n",
       "      <td>-1.94</td>\n",
       "      <td>UniProt and PDB</td>\n",
       "      <td>1</td>\n",
       "    </tr>\n",
       "    <tr>\n",
       "      <th>15516</th>\n",
       "      <td>delta_g</td>\n",
       "      <td>3180</td>\n",
       "      <td>P04637</td>\n",
       "      <td>R249S</td>\n",
       "      <td>7.2</td>\n",
       "      <td>10</td>\n",
       "      <td>Fluorescence</td>\n",
       "      <td>Urea</td>\n",
       "      <td>-</td>\n",
       "      <td>-1.95</td>\n",
       "      <td>-1.95</td>\n",
       "      <td>UniProt and PDB</td>\n",
       "      <td>1</td>\n",
       "    </tr>\n",
       "    <tr>\n",
       "      <th>15517</th>\n",
       "      <td>delta_g</td>\n",
       "      <td>3181</td>\n",
       "      <td>P04637</td>\n",
       "      <td>R273H</td>\n",
       "      <td>7.2</td>\n",
       "      <td>10</td>\n",
       "      <td>Fluorescence</td>\n",
       "      <td>Urea</td>\n",
       "      <td>-</td>\n",
       "      <td>-0.35</td>\n",
       "      <td>-0.35</td>\n",
       "      <td>UniProt and PDB</td>\n",
       "      <td>1</td>\n",
       "    </tr>\n",
       "  </tbody>\n",
       "</table>\n",
       "<p>15518 rows × 13 columns</p>\n",
       "</div>"
      ],
      "text/plain": [
       "             delta  level_1 UniProt_ID   MUTATION   pH T_(C)       MEASURE  \\\n",
       "0      delta_g_h2o        0     P03051  C38A C52V  6.3     -            CD   \n",
       "1      delta_g_h2o        1     P03051  C38A C52A  6.3     -            CD   \n",
       "2      delta_g_h2o        2     P11532       K18N  7.0     -            CD   \n",
       "3      delta_g_h2o        3     P11532       K18N  7.0     -  Fluorescence   \n",
       "4      delta_g_h2o        4     Q8TZE8      W301F  8.0    60  Fluorescence   \n",
       "...            ...      ...        ...        ...  ...   ...           ...   \n",
       "15513      delta_g     3177     P04637      R175H  7.2    10  Fluorescence   \n",
       "15514      delta_g     3178     P04637      C242S  7.2    10  Fluorescence   \n",
       "15515      delta_g     3179     P04637      R248Q  7.2    10  Fluorescence   \n",
       "15516      delta_g     3180     P04637      R249S  7.2    10  Fluorescence   \n",
       "15517      delta_g     3181     P04637      R273H  7.2    10  Fluorescence   \n",
       "\n",
       "       METHOD ∆Tm_(C) ∆∆G_(kcal/mol) ∆∆G_H2O_(kcal/mol)           SOURCE  \\\n",
       "0        Urea       -              -                 -5  UniProt and PDB   \n",
       "1        Urea       -              -               -8.3  UniProt and PDB   \n",
       "2        Urea       -              -               -3.7  UniProt and PDB   \n",
       "3        Urea       -              -               -3.7  UniProt and PDB   \n",
       "4      GdnHCl       -              -               3.98  UniProt and PDB   \n",
       "...       ...     ...            ...                ...              ...   \n",
       "15513    Urea       -          -3.01              -3.01  UniProt and PDB   \n",
       "15514    Urea       -          -2.94              -2.94  UniProt and PDB   \n",
       "15515    Urea       -          -1.94              -1.94  UniProt and PDB   \n",
       "15516    Urea       -          -1.95              -1.95  UniProt and PDB   \n",
       "15517    Urea       -          -0.35              -0.35  UniProt and PDB   \n",
       "\n",
       "       MUT_COUNT  \n",
       "0              2  \n",
       "1              2  \n",
       "2              1  \n",
       "3              1  \n",
       "4              1  \n",
       "...          ...  \n",
       "15513          1  \n",
       "15514          1  \n",
       "15515          1  \n",
       "15516          1  \n",
       "15517          1  \n",
       "\n",
       "[15518 rows x 13 columns]"
      ]
     },
     "execution_count": 419,
     "metadata": {},
     "output_type": "execute_result"
    }
   ],
   "source": [
    "df"
   ]
  },
  {
   "cell_type": "code",
   "execution_count": 420,
   "metadata": {},
   "outputs": [
    {
     "data": {
      "text/plain": [
       "(3, 520, 256)"
      ]
     },
     "execution_count": 420,
     "metadata": {},
     "output_type": "execute_result"
    }
   ],
   "source": [
    "uniprot = dict()\n",
    "for row in df.itertuples():\n",
    "    if row.delta not in uniprot:\n",
    "        condition_dict = dict()\n",
    "        uniprot[row.delta] = condition_dict\n",
    "    else:\n",
    "        condition_dict = uniprot[row.delta]\n",
    "    if row.UniProt_ID in condition_dict:\n",
    "        condition_dict[row.UniProt_ID] |= set(row.MUTATION.strip().split(' '))\n",
    "    else:\n",
    "        condition_dict[row.UniProt_ID] = set(row.MUTATION.strip().split(' '))\n",
    "len(uniprot), sum(len(v) for v in uniprot.values()), max(len(v) for v in uniprot.values())"
   ]
  },
  {
   "cell_type": "code",
   "execution_count": 421,
   "metadata": {},
   "outputs": [],
   "source": [
    "for cond, cdict in uniprot.items():\n",
    "    for _id, idict in cdict.items():\n",
    "        cdict[_id] = len(idict)\n",
    "#uniprot"
   ]
  },
  {
   "cell_type": "code",
   "execution_count": 422,
   "metadata": {},
   "outputs": [
    {
     "data": {
      "text/html": [
       "<div>\n",
       "<style scoped>\n",
       "    .dataframe tbody tr th:only-of-type {\n",
       "        vertical-align: middle;\n",
       "    }\n",
       "\n",
       "    .dataframe tbody tr th {\n",
       "        vertical-align: top;\n",
       "    }\n",
       "\n",
       "    .dataframe thead th {\n",
       "        text-align: right;\n",
       "    }\n",
       "</style>\n",
       "<table border=\"1\" class=\"dataframe\">\n",
       "  <thead>\n",
       "    <tr style=\"text-align: right;\">\n",
       "      <th></th>\n",
       "      <th>delta</th>\n",
       "      <th>n_mutations</th>\n",
       "    </tr>\n",
       "    <tr>\n",
       "      <th>uniprot</th>\n",
       "      <th></th>\n",
       "      <th></th>\n",
       "    </tr>\n",
       "  </thead>\n",
       "  <tbody>\n",
       "    <tr>\n",
       "      <th>P0ACJ8</th>\n",
       "      <td>delta_g</td>\n",
       "      <td>2</td>\n",
       "    </tr>\n",
       "    <tr>\n",
       "      <th>P04637</th>\n",
       "      <td>delta_g</td>\n",
       "      <td>5</td>\n",
       "    </tr>\n",
       "    <tr>\n",
       "      <th>P00952</th>\n",
       "      <td>delta_g</td>\n",
       "      <td>0</td>\n",
       "    </tr>\n",
       "    <tr>\n",
       "      <th>P08921</th>\n",
       "      <td>delta_g</td>\n",
       "      <td>0</td>\n",
       "    </tr>\n",
       "    <tr>\n",
       "      <th>P24821</th>\n",
       "      <td>delta_g</td>\n",
       "      <td>5</td>\n",
       "    </tr>\n",
       "    <tr>\n",
       "      <th>...</th>\n",
       "      <td>...</td>\n",
       "      <td>...</td>\n",
       "    </tr>\n",
       "    <tr>\n",
       "      <th>P24297</th>\n",
       "      <td>melttemp</td>\n",
       "      <td>4</td>\n",
       "    </tr>\n",
       "    <tr>\n",
       "      <th>Q7SIG1</th>\n",
       "      <td>melttemp</td>\n",
       "      <td>1</td>\n",
       "    </tr>\n",
       "    <tr>\n",
       "      <th>P53779</th>\n",
       "      <td>melttemp</td>\n",
       "      <td>3</td>\n",
       "    </tr>\n",
       "    <tr>\n",
       "      <th>P02730</th>\n",
       "      <td>melttemp</td>\n",
       "      <td>4</td>\n",
       "    </tr>\n",
       "    <tr>\n",
       "      <th>P25440</th>\n",
       "      <td>melttemp</td>\n",
       "      <td>9</td>\n",
       "    </tr>\n",
       "  </tbody>\n",
       "</table>\n",
       "<p>1017 rows × 2 columns</p>\n",
       "</div>"
      ],
      "text/plain": [
       "            delta n_mutations\n",
       "uniprot                      \n",
       "P0ACJ8    delta_g           2\n",
       "P04637    delta_g           5\n",
       "P00952    delta_g           0\n",
       "P08921    delta_g           0\n",
       "P24821    delta_g           5\n",
       "...           ...         ...\n",
       "P24297   melttemp           4\n",
       "Q7SIG1   melttemp           1\n",
       "P53779   melttemp           3\n",
       "P02730   melttemp           4\n",
       "P25440   melttemp           9\n",
       "\n",
       "[1017 rows x 2 columns]"
      ]
     },
     "execution_count": 422,
     "metadata": {},
     "output_type": "execute_result"
    }
   ],
   "source": [
    "adf = pd.DataFrame.from_dict(uniprot, orient='index', dtype=int).fillna(0).convert_dtypes(convert_integer=True).transpose()\n",
    "adf = adf.reset_index().rename(columns={'index': 'uniprot'})\\\n",
    ".melt(id_vars='uniprot').set_index('uniprot')\\\n",
    "    .rename(columns={'variable': 'delta', 'value': 'n_mutations'})\\\n",
    "    .sort_values(by='delta', ascending=True)\n",
    "adf"
   ]
  },
  {
   "cell_type": "code",
   "execution_count": 423,
   "metadata": {
    "tags": []
   },
   "outputs": [
    {
     "name": "stderr",
     "output_type": "stream",
     "text": [
      "<ipython-input-423-4cdc466e1bc4>:28: UserWarning: FixedFormatter should only be used together with FixedLocator\n",
      "  g.ax.set_xticklabels([toggle_label_on_size(l, 80) for l in g.ax.get_xticklabels()], rotation=90, fontsize=5)\n"
     ]
    },
    {
     "data": {
      "image/png": "[encoded data removed]",
      "text/plain": [
       "<Figure size 1008x144 with 1 Axes>"
      ]
     },
     "metadata": {},
     "output_type": "display_data"
    }
   ],
   "source": [
    "\n",
    "def toggle_label_on_size(lab, min_size):\n",
    "    uniprot = lab.get_text()\n",
    "    if max(adf.at[uniprot, 'n_mutations']) > min_size:\n",
    "        return uniprot\n",
    "    else:\n",
    "        return ''\n",
    "\n",
    "\n",
    "sns.set_theme(style=\"white\")\n",
    "cmap = sns.cubehelix_palette(3, start=2.8, rot=-.2, as_cmap=False)\n",
    "cmap[-1] = adjust_lightness(cmap[-1], 2)\n",
    "cmap[0] = adjust_lightness(cmap[0], .9)\n",
    "\n",
    "\n",
    "g = sns.relplot(\n",
    "    data=adf, alpha=.7,\n",
    "    x=\"uniprot\", y=\"delta\",\n",
    "    size=\"n_mutations\", hue=\"delta\", \n",
    "    palette=cmap,\n",
    "    sizes=(0, 600),\n",
    "    height=2, aspect=7,\n",
    "    legend=False,\n",
    ")\n",
    "\n",
    "g.set(ylabel='', xlabel='number of unique mutations listed per UniProt ID')  #, xticklabels=[])\n",
    "g.ax.xaxis.tick_top()\n",
    "g.ax.tick_params(top=False)\n",
    "g.ax.set_xticklabels([toggle_label_on_size(l, 80) for l in g.ax.get_xticklabels()], rotation=90, fontsize=5)\n",
    "g.ax.set_ylim(-0.4, 2.4)\n",
    "g.ax.set_xlim(-1, 339)\n",
    "g.despine(left=True, bottom=True)\n",
    "g.tight_layout()\n",
    "g.savefig('dotplot_nmuts.png', dpi=300)"
   ]
  },
  {
   "cell_type": "code",
   "execution_count": 428,
   "metadata": {},
   "outputs": [
    {
     "data": {
      "text/html": [
       "<div>\n",
       "<style scoped>\n",
       "    .dataframe tbody tr th:only-of-type {\n",
       "        vertical-align: middle;\n",
       "    }\n",
       "\n",
       "    .dataframe tbody tr th {\n",
       "        vertical-align: top;\n",
       "    }\n",
       "\n",
       "    .dataframe thead th {\n",
       "        text-align: right;\n",
       "    }\n",
       "</style>\n",
       "<table border=\"1\" class=\"dataframe\">\n",
       "  <thead>\n",
       "    <tr style=\"text-align: right;\">\n",
       "      <th></th>\n",
       "      <th>delta</th>\n",
       "      <th>n_mutations</th>\n",
       "      <th>len</th>\n",
       "    </tr>\n",
       "    <tr>\n",
       "      <th>uniprot</th>\n",
       "      <th></th>\n",
       "      <th></th>\n",
       "      <th></th>\n",
       "    </tr>\n",
       "  </thead>\n",
       "  <tbody>\n",
       "    <tr>\n",
       "      <th>P0ACJ8</th>\n",
       "      <td>delta_g</td>\n",
       "      <td>2</td>\n",
       "      <td>210</td>\n",
       "    </tr>\n",
       "    <tr>\n",
       "      <th>P04637</th>\n",
       "      <td>delta_g</td>\n",
       "      <td>5</td>\n",
       "      <td>393</td>\n",
       "    </tr>\n",
       "    <tr>\n",
       "      <th>P00952</th>\n",
       "      <td>delta_g</td>\n",
       "      <td>0</td>\n",
       "      <td>0</td>\n",
       "    </tr>\n",
       "    <tr>\n",
       "      <th>P08921</th>\n",
       "      <td>delta_g</td>\n",
       "      <td>0</td>\n",
       "      <td>0</td>\n",
       "    </tr>\n",
       "    <tr>\n",
       "      <th>P24821</th>\n",
       "      <td>delta_g</td>\n",
       "      <td>5</td>\n",
       "      <td>2201</td>\n",
       "    </tr>\n",
       "    <tr>\n",
       "      <th>...</th>\n",
       "      <td>...</td>\n",
       "      <td>...</td>\n",
       "      <td>...</td>\n",
       "    </tr>\n",
       "    <tr>\n",
       "      <th>P24297</th>\n",
       "      <td>melttemp</td>\n",
       "      <td>4</td>\n",
       "      <td>54</td>\n",
       "    </tr>\n",
       "    <tr>\n",
       "      <th>Q7SIG1</th>\n",
       "      <td>melttemp</td>\n",
       "      <td>1</td>\n",
       "      <td>310</td>\n",
       "    </tr>\n",
       "    <tr>\n",
       "      <th>P53779</th>\n",
       "      <td>melttemp</td>\n",
       "      <td>3</td>\n",
       "      <td>464</td>\n",
       "    </tr>\n",
       "    <tr>\n",
       "      <th>P02730</th>\n",
       "      <td>melttemp</td>\n",
       "      <td>4</td>\n",
       "      <td>911</td>\n",
       "    </tr>\n",
       "    <tr>\n",
       "      <th>P25440</th>\n",
       "      <td>melttemp</td>\n",
       "      <td>9</td>\n",
       "      <td>801</td>\n",
       "    </tr>\n",
       "  </tbody>\n",
       "</table>\n",
       "<p>1017 rows × 3 columns</p>\n",
       "</div>"
      ],
      "text/plain": [
       "            delta n_mutations   len\n",
       "uniprot                            \n",
       "P0ACJ8    delta_g           2   210\n",
       "P04637    delta_g           5   393\n",
       "P00952    delta_g           0     0\n",
       "P08921    delta_g           0     0\n",
       "P24821    delta_g           5  2201\n",
       "...           ...         ...   ...\n",
       "P24297   melttemp           4    54\n",
       "Q7SIG1   melttemp           1   310\n",
       "P53779   melttemp           3   464\n",
       "P02730   melttemp           4   911\n",
       "P25440   melttemp           9   801\n",
       "\n",
       "[1017 rows x 3 columns]"
      ]
     },
     "execution_count": 428,
     "metadata": {},
     "output_type": "execute_result"
    }
   ],
   "source": [
    "# also bind the sequence length to the adf DataFrame\n",
    "def get_len(uniprot_id, measure):\n",
    "    if uniprot_id in seq_data[('full', measure)]:\n",
    "        return len(seq_data[('full', measure)][uniprot_id])\n",
    "    else:\n",
    "        try:\n",
    "            return len(seq_data[('rep_seq', measure)][uniprot_id])\n",
    "        except KeyError:\n",
    "            return 0\n",
    "adf"
   ]
  },
  {
   "cell_type": "code",
   "execution_count": 429,
   "metadata": {},
   "outputs": [
    {
     "data": {
      "text/html": [
       "<div>\n",
       "<style scoped>\n",
       "    .dataframe tbody tr th:only-of-type {\n",
       "        vertical-align: middle;\n",
       "    }\n",
       "\n",
       "    .dataframe tbody tr th {\n",
       "        vertical-align: top;\n",
       "    }\n",
       "\n",
       "    .dataframe thead th {\n",
       "        text-align: right;\n",
       "    }\n",
       "</style>\n",
       "<table border=\"1\" class=\"dataframe\">\n",
       "  <thead>\n",
       "    <tr style=\"text-align: right;\">\n",
       "      <th></th>\n",
       "      <th>delta</th>\n",
       "      <th>n_mutations</th>\n",
       "      <th>len</th>\n",
       "    </tr>\n",
       "    <tr>\n",
       "      <th>uniprot</th>\n",
       "      <th></th>\n",
       "      <th></th>\n",
       "      <th></th>\n",
       "    </tr>\n",
       "  </thead>\n",
       "  <tbody>\n",
       "    <tr>\n",
       "      <th>P0ACJ8</th>\n",
       "      <td>delta_g</td>\n",
       "      <td>2</td>\n",
       "      <td>210</td>\n",
       "    </tr>\n",
       "    <tr>\n",
       "      <th>P04637</th>\n",
       "      <td>delta_g</td>\n",
       "      <td>5</td>\n",
       "      <td>393</td>\n",
       "    </tr>\n",
       "    <tr>\n",
       "      <th>P00952</th>\n",
       "      <td>delta_g</td>\n",
       "      <td>0</td>\n",
       "      <td>0</td>\n",
       "    </tr>\n",
       "    <tr>\n",
       "      <th>P08921</th>\n",
       "      <td>delta_g</td>\n",
       "      <td>0</td>\n",
       "      <td>0</td>\n",
       "    </tr>\n",
       "    <tr>\n",
       "      <th>P24821</th>\n",
       "      <td>delta_g</td>\n",
       "      <td>5</td>\n",
       "      <td>2201</td>\n",
       "    </tr>\n",
       "    <tr>\n",
       "      <th>...</th>\n",
       "      <td>...</td>\n",
       "      <td>...</td>\n",
       "      <td>...</td>\n",
       "    </tr>\n",
       "    <tr>\n",
       "      <th>P24297</th>\n",
       "      <td>melttemp</td>\n",
       "      <td>4</td>\n",
       "      <td>54</td>\n",
       "    </tr>\n",
       "    <tr>\n",
       "      <th>Q7SIG1</th>\n",
       "      <td>melttemp</td>\n",
       "      <td>1</td>\n",
       "      <td>310</td>\n",
       "    </tr>\n",
       "    <tr>\n",
       "      <th>P53779</th>\n",
       "      <td>melttemp</td>\n",
       "      <td>3</td>\n",
       "      <td>464</td>\n",
       "    </tr>\n",
       "    <tr>\n",
       "      <th>P02730</th>\n",
       "      <td>melttemp</td>\n",
       "      <td>4</td>\n",
       "      <td>911</td>\n",
       "    </tr>\n",
       "    <tr>\n",
       "      <th>P25440</th>\n",
       "      <td>melttemp</td>\n",
       "      <td>9</td>\n",
       "      <td>801</td>\n",
       "    </tr>\n",
       "  </tbody>\n",
       "</table>\n",
       "<p>1017 rows × 3 columns</p>\n",
       "</div>"
      ],
      "text/plain": [
       "            delta n_mutations   len\n",
       "uniprot                            \n",
       "P0ACJ8    delta_g           2   210\n",
       "P04637    delta_g           5   393\n",
       "P00952    delta_g           0     0\n",
       "P08921    delta_g           0     0\n",
       "P24821    delta_g           5  2201\n",
       "...           ...         ...   ...\n",
       "P24297   melttemp           4    54\n",
       "Q7SIG1   melttemp           1   310\n",
       "P53779   melttemp           3   464\n",
       "P02730   melttemp           4   911\n",
       "P25440   melttemp           9   801\n",
       "\n",
       "[1017 rows x 3 columns]"
      ]
     },
     "execution_count": 429,
     "metadata": {},
     "output_type": "execute_result"
    }
   ],
   "source": [
    "adf['len'] = [get_len(i, d) for i, d in zip(adf.index, adf.delta)]\n",
    "adf"
   ]
  },
  {
   "cell_type": "code",
   "execution_count": 430,
   "metadata": {},
   "outputs": [
    {
     "data": {
      "text/plain": [
       "801"
      ]
     },
     "execution_count": 430,
     "metadata": {},
     "output_type": "execute_result"
    }
   ],
   "source": [
    "max(adf.at['P25440','len'])\n"
   ]
  },
  {
   "cell_type": "code",
   "execution_count": 431,
   "metadata": {},
   "outputs": [
    {
     "name": "stderr",
     "output_type": "stream",
     "text": [
      "<ipython-input-431-98a3a462729a>:29: UserWarning: FixedFormatter should only be used together with FixedLocator\n",
      "  g.ax.set_xticklabels([toggle_label_on_size(l, 960) for l in g.ax.get_xticklabels()], rotation=90, fontsize=5)\n"
     ]
    },
    {
     "data": {
      "image/png": "[encoded data removed]",
      "text/plain": [
       "<Figure size 1008x144 with 1 Axes>"
      ]
     },
     "metadata": {},
     "output_type": "display_data"
    }
   ],
   "source": [
    "#%matplotlib widget\n",
    "\n",
    "def toggle_label_on_size(lab, min_size):\n",
    "    uniprot = lab.get_text()\n",
    "    if max(adf.at[uniprot, 'len']) > min_size:\n",
    "        return uniprot\n",
    "    else:\n",
    "        return ''\n",
    "\n",
    "sns.set_theme(style=\"white\")\n",
    "cmap = sns.cubehelix_palette(3, start=2.8, rot=-.2, as_cmap=False)\n",
    "cmap[-1] = adjust_lightness(cmap[-1], 2)\n",
    "cmap[0] = adjust_lightness(cmap[0], .9)\n",
    "\n",
    "g = sns.relplot(\n",
    "    data=adf, alpha=.7,\n",
    "    x=\"uniprot\", y=\"delta\",\n",
    "    size=\"len\", hue=\"delta\", \n",
    "    palette=cmap,\n",
    "    sizes=(0, 600),\n",
    "    height=2, aspect=7,\n",
    "    legend=False,\n",
    ")\n",
    "# insert code chunk below here\n",
    "\n",
    "g.set(ylabel='', xlabel='sequence lengths')\n",
    "g.ax.xaxis.tick_top()\n",
    "g.ax.tick_params(top=False)\n",
    "g.ax.set_xticklabels([toggle_label_on_size(l, 960) for l in g.ax.get_xticklabels()], rotation=90, fontsize=5)\n",
    "g.ax.set_ylim(-0.2, 2.2)\n",
    "g.ax.set_xlim(-1, 339)\n",
    "g.despine(left=True, bottom=True)\n",
    "g.tight_layout()\n",
    "g.savefig('dotplot_nmuts_seqLen.png', dpi=300)"
   ]
  },
  {
   "cell_type": "code",
   "execution_count": 41,
   "metadata": {},
   "outputs": [],
   "source": [
    "annot = g.ax.annotate(\"\", xy=(1,1), xytext=(1,1),textcoords=\"offset points\",\n",
    "                    bbox=dict(boxstyle=\"round\", fc=\"w\"),\n",
    "                    arrowprops=dict(arrowstyle=\"->\"))\n",
    "annot.set_visible(False)\n",
    "\n",
    "def update_annot(ind):\n",
    "    print(ind)\n",
    "\n",
    "    pos = sc.get_offsets()[ind[\"ind\"][0]]\n",
    "    annot.xy = pos\n",
    "    text = \"{}, {}\".format(\" \".join(list(map(str,ind[\"ind\"]))), \n",
    "                           \" \".join([names[n] for n in ind[\"ind\"]]))\n",
    "    annot.set_text(text)\n",
    "    annot.get_bbox_patch().set_facecolor(cmap(norm(c[ind[\"ind\"][0]])))\n",
    "    annot.get_bbox_patch().set_alpha(0.4)\n",
    "\n",
    "\n",
    "def hover(event):\n",
    "    print(event)\n",
    "    vis = annot.get_visible()\n",
    "    if event.inaxes == ax:\n",
    "        cont, ind = sc.contains(event)\n",
    "        if cont:\n",
    "            update_annot(ind)\n",
    "            annot.set_visible(True)\n",
    "            fig.canvas.draw_idle()\n",
    "        else:\n",
    "            if vis:\n",
    "                annot.set_visible(False)\n",
    "                fig.canvas.draw_idle()"
   ]
  },
  {
   "cell_type": "code",
   "execution_count": 432,
   "metadata": {},
   "outputs": [
    {
     "data": {
      "text/html": [
       "<div>\n",
       "<style scoped>\n",
       "    .dataframe tbody tr th:only-of-type {\n",
       "        vertical-align: middle;\n",
       "    }\n",
       "\n",
       "    .dataframe tbody tr th {\n",
       "        vertical-align: top;\n",
       "    }\n",
       "\n",
       "    .dataframe thead th {\n",
       "        text-align: right;\n",
       "    }\n",
       "</style>\n",
       "<table border=\"1\" class=\"dataframe\">\n",
       "  <thead>\n",
       "    <tr style=\"text-align: right;\">\n",
       "      <th></th>\n",
       "      <th>delta</th>\n",
       "      <th>level_1</th>\n",
       "      <th>UniProt_ID</th>\n",
       "      <th>MUTATION</th>\n",
       "      <th>pH</th>\n",
       "      <th>T_(C)</th>\n",
       "      <th>MEASURE</th>\n",
       "      <th>METHOD</th>\n",
       "      <th>∆Tm_(C)</th>\n",
       "      <th>∆∆G_(kcal/mol)</th>\n",
       "      <th>∆∆G_H2O_(kcal/mol)</th>\n",
       "      <th>SOURCE</th>\n",
       "      <th>MUT_COUNT</th>\n",
       "    </tr>\n",
       "  </thead>\n",
       "  <tbody>\n",
       "    <tr>\n",
       "      <th>0</th>\n",
       "      <td>delta_g_h2o</td>\n",
       "      <td>0</td>\n",
       "      <td>P03051</td>\n",
       "      <td>C38A C52V</td>\n",
       "      <td>6.3</td>\n",
       "      <td>-</td>\n",
       "      <td>CD</td>\n",
       "      <td>Urea</td>\n",
       "      <td>-</td>\n",
       "      <td>-</td>\n",
       "      <td>-5</td>\n",
       "      <td>UniProt and PDB</td>\n",
       "      <td>2</td>\n",
       "    </tr>\n",
       "    <tr>\n",
       "      <th>1</th>\n",
       "      <td>delta_g_h2o</td>\n",
       "      <td>1</td>\n",
       "      <td>P03051</td>\n",
       "      <td>C38A C52A</td>\n",
       "      <td>6.3</td>\n",
       "      <td>-</td>\n",
       "      <td>CD</td>\n",
       "      <td>Urea</td>\n",
       "      <td>-</td>\n",
       "      <td>-</td>\n",
       "      <td>-8.3</td>\n",
       "      <td>UniProt and PDB</td>\n",
       "      <td>2</td>\n",
       "    </tr>\n",
       "    <tr>\n",
       "      <th>2</th>\n",
       "      <td>delta_g_h2o</td>\n",
       "      <td>2</td>\n",
       "      <td>P11532</td>\n",
       "      <td>K18N</td>\n",
       "      <td>7.0</td>\n",
       "      <td>-</td>\n",
       "      <td>CD</td>\n",
       "      <td>Urea</td>\n",
       "      <td>-</td>\n",
       "      <td>-</td>\n",
       "      <td>-3.7</td>\n",
       "      <td>UniProt and PDB</td>\n",
       "      <td>1</td>\n",
       "    </tr>\n",
       "    <tr>\n",
       "      <th>3</th>\n",
       "      <td>delta_g_h2o</td>\n",
       "      <td>3</td>\n",
       "      <td>P11532</td>\n",
       "      <td>K18N</td>\n",
       "      <td>7.0</td>\n",
       "      <td>-</td>\n",
       "      <td>Fluorescence</td>\n",
       "      <td>Urea</td>\n",
       "      <td>-</td>\n",
       "      <td>-</td>\n",
       "      <td>-3.7</td>\n",
       "      <td>UniProt and PDB</td>\n",
       "      <td>1</td>\n",
       "    </tr>\n",
       "    <tr>\n",
       "      <th>4</th>\n",
       "      <td>delta_g_h2o</td>\n",
       "      <td>4</td>\n",
       "      <td>Q8TZE8</td>\n",
       "      <td>W301F</td>\n",
       "      <td>8.0</td>\n",
       "      <td>60</td>\n",
       "      <td>Fluorescence</td>\n",
       "      <td>GdnHCl</td>\n",
       "      <td>-</td>\n",
       "      <td>-</td>\n",
       "      <td>3.98</td>\n",
       "      <td>UniProt and PDB</td>\n",
       "      <td>1</td>\n",
       "    </tr>\n",
       "    <tr>\n",
       "      <th>...</th>\n",
       "      <td>...</td>\n",
       "      <td>...</td>\n",
       "      <td>...</td>\n",
       "      <td>...</td>\n",
       "      <td>...</td>\n",
       "      <td>...</td>\n",
       "      <td>...</td>\n",
       "      <td>...</td>\n",
       "      <td>...</td>\n",
       "      <td>...</td>\n",
       "      <td>...</td>\n",
       "      <td>...</td>\n",
       "      <td>...</td>\n",
       "    </tr>\n",
       "    <tr>\n",
       "      <th>15513</th>\n",
       "      <td>delta_g</td>\n",
       "      <td>3177</td>\n",
       "      <td>P04637</td>\n",
       "      <td>R175H</td>\n",
       "      <td>7.2</td>\n",
       "      <td>10</td>\n",
       "      <td>Fluorescence</td>\n",
       "      <td>Urea</td>\n",
       "      <td>-</td>\n",
       "      <td>-3.01</td>\n",
       "      <td>-3.01</td>\n",
       "      <td>UniProt and PDB</td>\n",
       "      <td>1</td>\n",
       "    </tr>\n",
       "    <tr>\n",
       "      <th>15514</th>\n",
       "      <td>delta_g</td>\n",
       "      <td>3178</td>\n",
       "      <td>P04637</td>\n",
       "      <td>C242S</td>\n",
       "      <td>7.2</td>\n",
       "      <td>10</td>\n",
       "      <td>Fluorescence</td>\n",
       "      <td>Urea</td>\n",
       "      <td>-</td>\n",
       "      <td>-2.94</td>\n",
       "      <td>-2.94</td>\n",
       "      <td>UniProt and PDB</td>\n",
       "      <td>1</td>\n",
       "    </tr>\n",
       "    <tr>\n",
       "      <th>15515</th>\n",
       "      <td>delta_g</td>\n",
       "      <td>3179</td>\n",
       "      <td>P04637</td>\n",
       "      <td>R248Q</td>\n",
       "      <td>7.2</td>\n",
       "      <td>10</td>\n",
       "      <td>Fluorescence</td>\n",
       "      <td>Urea</td>\n",
       "      <td>-</td>\n",
       "      <td>-1.94</td>\n",
       "      <td>-1.94</td>\n",
       "      <td>UniProt and PDB</td>\n",
       "      <td>1</td>\n",
       "    </tr>\n",
       "    <tr>\n",
       "      <th>15516</th>\n",
       "      <td>delta_g</td>\n",
       "      <td>3180</td>\n",
       "      <td>P04637</td>\n",
       "      <td>R249S</td>\n",
       "      <td>7.2</td>\n",
       "      <td>10</td>\n",
       "      <td>Fluorescence</td>\n",
       "      <td>Urea</td>\n",
       "      <td>-</td>\n",
       "      <td>-1.95</td>\n",
       "      <td>-1.95</td>\n",
       "      <td>UniProt and PDB</td>\n",
       "      <td>1</td>\n",
       "    </tr>\n",
       "    <tr>\n",
       "      <th>15517</th>\n",
       "      <td>delta_g</td>\n",
       "      <td>3181</td>\n",
       "      <td>P04637</td>\n",
       "      <td>R273H</td>\n",
       "      <td>7.2</td>\n",
       "      <td>10</td>\n",
       "      <td>Fluorescence</td>\n",
       "      <td>Urea</td>\n",
       "      <td>-</td>\n",
       "      <td>-0.35</td>\n",
       "      <td>-0.35</td>\n",
       "      <td>UniProt and PDB</td>\n",
       "      <td>1</td>\n",
       "    </tr>\n",
       "  </tbody>\n",
       "</table>\n",
       "<p>15518 rows × 13 columns</p>\n",
       "</div>"
      ],
      "text/plain": [
       "             delta  level_1 UniProt_ID   MUTATION   pH T_(C)       MEASURE  \\\n",
       "0      delta_g_h2o        0     P03051  C38A C52V  6.3     -            CD   \n",
       "1      delta_g_h2o        1     P03051  C38A C52A  6.3     -            CD   \n",
       "2      delta_g_h2o        2     P11532       K18N  7.0     -            CD   \n",
       "3      delta_g_h2o        3     P11532       K18N  7.0     -  Fluorescence   \n",
       "4      delta_g_h2o        4     Q8TZE8      W301F  8.0    60  Fluorescence   \n",
       "...            ...      ...        ...        ...  ...   ...           ...   \n",
       "15513      delta_g     3177     P04637      R175H  7.2    10  Fluorescence   \n",
       "15514      delta_g     3178     P04637      C242S  7.2    10  Fluorescence   \n",
       "15515      delta_g     3179     P04637      R248Q  7.2    10  Fluorescence   \n",
       "15516      delta_g     3180     P04637      R249S  7.2    10  Fluorescence   \n",
       "15517      delta_g     3181     P04637      R273H  7.2    10  Fluorescence   \n",
       "\n",
       "       METHOD ∆Tm_(C) ∆∆G_(kcal/mol) ∆∆G_H2O_(kcal/mol)           SOURCE  \\\n",
       "0        Urea       -              -                 -5  UniProt and PDB   \n",
       "1        Urea       -              -               -8.3  UniProt and PDB   \n",
       "2        Urea       -              -               -3.7  UniProt and PDB   \n",
       "3        Urea       -              -               -3.7  UniProt and PDB   \n",
       "4      GdnHCl       -              -               3.98  UniProt and PDB   \n",
       "...       ...     ...            ...                ...              ...   \n",
       "15513    Urea       -          -3.01              -3.01  UniProt and PDB   \n",
       "15514    Urea       -          -2.94              -2.94  UniProt and PDB   \n",
       "15515    Urea       -          -1.94              -1.94  UniProt and PDB   \n",
       "15516    Urea       -          -1.95              -1.95  UniProt and PDB   \n",
       "15517    Urea       -          -0.35              -0.35  UniProt and PDB   \n",
       "\n",
       "       MUT_COUNT  \n",
       "0              2  \n",
       "1              2  \n",
       "2              1  \n",
       "3              1  \n",
       "4              1  \n",
       "...          ...  \n",
       "15513          1  \n",
       "15514          1  \n",
       "15515          1  \n",
       "15516          1  \n",
       "15517          1  \n",
       "\n",
       "[15518 rows x 13 columns]"
      ]
     },
     "execution_count": 432,
     "metadata": {},
     "output_type": "execute_result"
    }
   ],
   "source": [
    "df"
   ]
  },
  {
   "cell_type": "markdown",
   "metadata": {},
   "source": [
    "---\n",
    "### pH distribution"
   ]
  },
  {
   "cell_type": "code",
   "execution_count": 433,
   "metadata": {},
   "outputs": [
    {
     "data": {
      "image/png": "[encoded data removed]",
      "text/plain": [
       "<Figure size 1080x360 with 3 Axes>"
      ]
     },
     "metadata": {},
     "output_type": "display_data"
    }
   ],
   "source": [
    "sns.set(style='white')\n",
    "sns.set_theme(style=\"ticks\")\n",
    "cmap = sns.cubehelix_palette(3, start=2.8, rot=-.2, as_cmap=False)\n",
    "cmap[-1] = adjust_lightness(cmap[-1], 2)\n",
    "order =['melttemp', 'delta_g_h2o', 'delta_g']\n",
    "\n",
    "\n",
    "g = sns.FacetGrid(data=df, col='delta', hue='delta', height=5, margin_titles=True, palette=cmap, \n",
    "                  col_order=order, hue_order=order[::-1])\n",
    "\n",
    "g.map_dataframe(sns.histplot, x='pH', log_scale=False, discrete=True)\n",
    "g.set_axis_labels('pH','pH frequency')\n",
    "g.set_titles(col_template='{col_name}')\n",
    "\n",
    "g.tight_layout()\n",
    "g.savefig('pH_barplot.png', dpi=300)"
   ]
  },
  {
   "cell_type": "markdown",
   "metadata": {},
   "source": [
    "---\n",
    "### temperature distribution"
   ]
  },
  {
   "cell_type": "code",
   "execution_count": 434,
   "metadata": {},
   "outputs": [
    {
     "name": "stdout",
     "output_type": "stream",
     "text": [
      "[-100.0, -15.0, 0.0, 4.0, 5.0, 10.0, 14.0, 15.0, 16.0, 20.0, 20.15, 21.5, 22.0, 23.0, 24.0, 25.0, 25.15, 25.2, 25.8, 27.0, 28.0, 28.5, 30.0, 35.0, 37.0, 38.5, 38.6, 38.75, 38.8, 39.0, 39.5, 39.6, 39.8, 40.0, 40.2, 40.4, 40.7, 40.75, 40.8, 40.9, 41.0, 41.4, 41.47, 41.9, 42.0, 42.7, 43.2, 43.4, 44.0, 44.2, 44.3, 45.0, 45.8, 45.9, 46.0, 46.16, 46.2, 46.5, 46.6, 47.0, 47.2, 47.3, 47.8, 47.9, 48.0, 48.4, 48.6, 49.0, 49.2, 49.8, 50.0, 50.1, 50.2, 50.4, 50.6, 50.8, 50.9, 51.1, 51.2, 51.4, 51.5, 51.55, 51.6, 51.65, 51.68, 51.7, 51.76, 51.8, 52.0, 52.1, 52.2, 52.5, 52.6, 52.7, 53.0, 53.08, 53.1, 53.36, 53.4, 53.42, 53.56, 53.6, 54.1, 54.6, 55.0, 55.6, 56.2, 57.0, 57.1, 57.5, 57.8, 58.0, 58.8, 59.0, 60.0, 61.0, 61.1, 61.4, 61.6, 61.7, 61.8, 61.9, 62.2, 62.4, 62.6, 62.8, 62.9, 63.0, 63.2, 63.3, 63.4, 63.6, 63.9, 64.3, 64.5, 64.6, 64.7, 64.88, 64.89, 64.9, 65.0, 65.09, 65.1, 65.15, 65.2, 65.3, 65.4, 65.5, 65.6, 65.7, 66.0, 66.1, 66.2, 66.3, 66.4, 66.48, 66.51, 66.7, 67.2, 68.8, 69.0, 69.5, 70.0, 72.6, 73.6, 74.0, 74.3, 75.0, 76.5, 77.6, 80.7, 82.2, 82.21, 83.0, 85.32, 88.4, 88.9, 89.8, 105.0, 107.0, 133.6]\n"
     ]
    },
    {
     "data": {
      "text/html": [
       "<div>\n",
       "<style scoped>\n",
       "    .dataframe tbody tr th:only-of-type {\n",
       "        vertical-align: middle;\n",
       "    }\n",
       "\n",
       "    .dataframe tbody tr th {\n",
       "        vertical-align: top;\n",
       "    }\n",
       "\n",
       "    .dataframe thead th {\n",
       "        text-align: right;\n",
       "    }\n",
       "</style>\n",
       "<table border=\"1\" class=\"dataframe\">\n",
       "  <thead>\n",
       "    <tr style=\"text-align: right;\">\n",
       "      <th></th>\n",
       "      <th>delta</th>\n",
       "      <th>level_1</th>\n",
       "      <th>UniProt_ID</th>\n",
       "      <th>MUTATION</th>\n",
       "      <th>pH</th>\n",
       "      <th>T_(C)</th>\n",
       "      <th>MEASURE</th>\n",
       "      <th>METHOD</th>\n",
       "      <th>∆Tm_(C)</th>\n",
       "      <th>∆∆G_(kcal/mol)</th>\n",
       "      <th>∆∆G_H2O_(kcal/mol)</th>\n",
       "      <th>SOURCE</th>\n",
       "      <th>MUT_COUNT</th>\n",
       "      <th>temp</th>\n",
       "    </tr>\n",
       "  </thead>\n",
       "  <tbody>\n",
       "    <tr>\n",
       "      <th>15517</th>\n",
       "      <td>delta_g</td>\n",
       "      <td>3181</td>\n",
       "      <td>P04637</td>\n",
       "      <td>R273H</td>\n",
       "      <td>7.20</td>\n",
       "      <td>10</td>\n",
       "      <td>Fluorescence</td>\n",
       "      <td>Urea</td>\n",
       "      <td>-</td>\n",
       "      <td>-0.35</td>\n",
       "      <td>-0.35</td>\n",
       "      <td>UniProt and PDB</td>\n",
       "      <td>1</td>\n",
       "      <td>10.0</td>\n",
       "    </tr>\n",
       "    <tr>\n",
       "      <th>13541</th>\n",
       "      <td>delta_g</td>\n",
       "      <td>993</td>\n",
       "      <td>P61626</td>\n",
       "      <td>G145A</td>\n",
       "      <td>2.70</td>\n",
       "      <td>64.9</td>\n",
       "      <td>DSC</td>\n",
       "      <td>Thermal</td>\n",
       "      <td>-</td>\n",
       "      <td>-0.55</td>\n",
       "      <td>-</td>\n",
       "      <td>UniProt</td>\n",
       "      <td>1</td>\n",
       "      <td>64.9</td>\n",
       "    </tr>\n",
       "    <tr>\n",
       "      <th>13540</th>\n",
       "      <td>delta_g</td>\n",
       "      <td>992</td>\n",
       "      <td>P61626</td>\n",
       "      <td>G123A</td>\n",
       "      <td>2.70</td>\n",
       "      <td>64.9</td>\n",
       "      <td>DSC</td>\n",
       "      <td>Thermal</td>\n",
       "      <td>-</td>\n",
       "      <td>-0.62</td>\n",
       "      <td>-</td>\n",
       "      <td>UniProt</td>\n",
       "      <td>1</td>\n",
       "      <td>64.9</td>\n",
       "    </tr>\n",
       "    <tr>\n",
       "      <th>13539</th>\n",
       "      <td>delta_g</td>\n",
       "      <td>991</td>\n",
       "      <td>P61626</td>\n",
       "      <td>G90A</td>\n",
       "      <td>2.70</td>\n",
       "      <td>64.9</td>\n",
       "      <td>DSC</td>\n",
       "      <td>Thermal</td>\n",
       "      <td>-</td>\n",
       "      <td>-0.36</td>\n",
       "      <td>-</td>\n",
       "      <td>UniProt</td>\n",
       "      <td>1</td>\n",
       "      <td>64.9</td>\n",
       "    </tr>\n",
       "    <tr>\n",
       "      <th>13538</th>\n",
       "      <td>delta_g</td>\n",
       "      <td>990</td>\n",
       "      <td>P61626</td>\n",
       "      <td>G86A</td>\n",
       "      <td>2.70</td>\n",
       "      <td>64.9</td>\n",
       "      <td>DSC</td>\n",
       "      <td>Thermal</td>\n",
       "      <td>-</td>\n",
       "      <td>-0.12</td>\n",
       "      <td>-</td>\n",
       "      <td>UniProt</td>\n",
       "      <td>1</td>\n",
       "      <td>64.9</td>\n",
       "    </tr>\n",
       "    <tr>\n",
       "      <th>...</th>\n",
       "      <td>...</td>\n",
       "      <td>...</td>\n",
       "      <td>...</td>\n",
       "      <td>...</td>\n",
       "      <td>...</td>\n",
       "      <td>...</td>\n",
       "      <td>...</td>\n",
       "      <td>...</td>\n",
       "      <td>...</td>\n",
       "      <td>...</td>\n",
       "      <td>...</td>\n",
       "      <td>...</td>\n",
       "      <td>...</td>\n",
       "      <td>...</td>\n",
       "    </tr>\n",
       "    <tr>\n",
       "      <th>9186</th>\n",
       "      <td>melttemp</td>\n",
       "      <td>3212</td>\n",
       "      <td>P61626</td>\n",
       "      <td>I124V</td>\n",
       "      <td>2.70</td>\n",
       "      <td>-100</td>\n",
       "      <td>DSC</td>\n",
       "      <td>Thermal</td>\n",
       "      <td>-5.6</td>\n",
       "      <td>-</td>\n",
       "      <td>-</td>\n",
       "      <td>UniProt</td>\n",
       "      <td>1</td>\n",
       "      <td>-100.0</td>\n",
       "    </tr>\n",
       "    <tr>\n",
       "      <th>9187</th>\n",
       "      <td>melttemp</td>\n",
       "      <td>3213</td>\n",
       "      <td>P61626</td>\n",
       "      <td>V111A</td>\n",
       "      <td>2.70</td>\n",
       "      <td>-100</td>\n",
       "      <td>DSC</td>\n",
       "      <td>Thermal</td>\n",
       "      <td>-4.0</td>\n",
       "      <td>-</td>\n",
       "      <td>-</td>\n",
       "      <td>UniProt</td>\n",
       "      <td>1</td>\n",
       "      <td>-100.0</td>\n",
       "    </tr>\n",
       "    <tr>\n",
       "      <th>9188</th>\n",
       "      <td>melttemp</td>\n",
       "      <td>3214</td>\n",
       "      <td>P61626</td>\n",
       "      <td>V139A</td>\n",
       "      <td>3.14</td>\n",
       "      <td>-100</td>\n",
       "      <td>DSC</td>\n",
       "      <td>Thermal</td>\n",
       "      <td>-7.7</td>\n",
       "      <td>-</td>\n",
       "      <td>-</td>\n",
       "      <td>UniProt</td>\n",
       "      <td>1</td>\n",
       "      <td>-100.0</td>\n",
       "    </tr>\n",
       "    <tr>\n",
       "      <th>9190</th>\n",
       "      <td>melttemp</td>\n",
       "      <td>3216</td>\n",
       "      <td>P61626</td>\n",
       "      <td>Y38F</td>\n",
       "      <td>2.70</td>\n",
       "      <td>-100</td>\n",
       "      <td>DSC</td>\n",
       "      <td>Thermal</td>\n",
       "      <td>-1.5</td>\n",
       "      <td>-</td>\n",
       "      <td>-</td>\n",
       "      <td>UniProt</td>\n",
       "      <td>1</td>\n",
       "      <td>-100.0</td>\n",
       "    </tr>\n",
       "    <tr>\n",
       "      <th>7758</th>\n",
       "      <td>melttemp</td>\n",
       "      <td>1749</td>\n",
       "      <td>P32081</td>\n",
       "      <td>E3R A46K S48R</td>\n",
       "      <td>7.00</td>\n",
       "      <td>-100</td>\n",
       "      <td>CD</td>\n",
       "      <td>Thermal</td>\n",
       "      <td>20.7</td>\n",
       "      <td>-</td>\n",
       "      <td>-</td>\n",
       "      <td>UniProt and PDB</td>\n",
       "      <td>3</td>\n",
       "      <td>-100.0</td>\n",
       "    </tr>\n",
       "  </tbody>\n",
       "</table>\n",
       "<p>15518 rows × 14 columns</p>\n",
       "</div>"
      ],
      "text/plain": [
       "          delta  level_1 UniProt_ID       MUTATION    pH T_(C)       MEASURE  \\\n",
       "15517   delta_g     3181     P04637          R273H  7.20    10  Fluorescence   \n",
       "13541   delta_g      993     P61626          G145A  2.70  64.9           DSC   \n",
       "13540   delta_g      992     P61626          G123A  2.70  64.9           DSC   \n",
       "13539   delta_g      991     P61626           G90A  2.70  64.9           DSC   \n",
       "13538   delta_g      990     P61626           G86A  2.70  64.9           DSC   \n",
       "...         ...      ...        ...            ...   ...   ...           ...   \n",
       "9186   melttemp     3212     P61626          I124V  2.70  -100           DSC   \n",
       "9187   melttemp     3213     P61626          V111A  2.70  -100           DSC   \n",
       "9188   melttemp     3214     P61626          V139A  3.14  -100           DSC   \n",
       "9190   melttemp     3216     P61626           Y38F  2.70  -100           DSC   \n",
       "7758   melttemp     1749     P32081  E3R A46K S48R  7.00  -100            CD   \n",
       "\n",
       "        METHOD ∆Tm_(C) ∆∆G_(kcal/mol) ∆∆G_H2O_(kcal/mol)           SOURCE  \\\n",
       "15517     Urea       -          -0.35              -0.35  UniProt and PDB   \n",
       "13541  Thermal       -          -0.55                  -          UniProt   \n",
       "13540  Thermal       -          -0.62                  -          UniProt   \n",
       "13539  Thermal       -          -0.36                  -          UniProt   \n",
       "13538  Thermal       -          -0.12                  -          UniProt   \n",
       "...        ...     ...            ...                ...              ...   \n",
       "9186   Thermal    -5.6              -                  -          UniProt   \n",
       "9187   Thermal    -4.0              -                  -          UniProt   \n",
       "9188   Thermal    -7.7              -                  -          UniProt   \n",
       "9190   Thermal    -1.5              -                  -          UniProt   \n",
       "7758   Thermal    20.7              -                  -  UniProt and PDB   \n",
       "\n",
       "       MUT_COUNT   temp  \n",
       "15517          1   10.0  \n",
       "13541          1   64.9  \n",
       "13540          1   64.9  \n",
       "13539          1   64.9  \n",
       "13538          1   64.9  \n",
       "...          ...    ...  \n",
       "9186           1 -100.0  \n",
       "9187           1 -100.0  \n",
       "9188           1 -100.0  \n",
       "9190           1 -100.0  \n",
       "7758           3 -100.0  \n",
       "\n",
       "[15518 rows x 14 columns]"
      ]
     },
     "execution_count": 434,
     "metadata": {},
     "output_type": "execute_result"
    }
   ],
   "source": [
    "df.at[df['T_(C)'] == '-', 'T_(C)'] = -100\n",
    "df['temp'] = df['T_(C)'].astype(float)\n",
    "df = df.sort_values(by='delta', ascending=True)\n",
    "print(sorted(df.temp.unique()))\n",
    "df"
   ]
  },
  {
   "cell_type": "code",
   "execution_count": 435,
   "metadata": {},
   "outputs": [
    {
     "data": {
      "image/png": "[encoded data removed]",
      "text/plain": [
       "<Figure size 720x216 with 1 Axes>"
      ]
     },
     "metadata": {},
     "output_type": "display_data"
    }
   ],
   "source": [
    "sns.set(style='white')\n",
    "sns.set_theme(style=\"ticks\")\n",
    "cmap = sns.cubehelix_palette(3, start=2.8, rot=-.2, as_cmap=False)\n",
    "cmap[-1] = adjust_lightness(cmap[-1], 2)\n",
    "order =['melttemp', 'delta_g_h2o', 'delta_g']\n",
    "\n",
    "\n",
    "fig, ax = plt.subplots(1,1, figsize=(10,3))\n",
    "f = sns.stripplot(data=df, hue='delta', x='temp', y='delta', \n",
    "                  alpha=.3, palette=cmap, order=order[::-1], \n",
    "                  marker='D', jitter=.4)\n",
    "\n",
    "f.set(ylabel='', xlabel='experiment T[°C]')\n",
    "plt.legend([], [], frameon=False)\n",
    "ax.set_ylim(-0.8, 2.8)\n",
    "ax.set_xlim(-17, 135)\n",
    "fig.tight_layout()\n",
    "\n",
    "fig.savefig('temp_stripplot.png', dpi=300)"
   ]
  },
  {
   "cell_type": "code",
   "execution_count": null,
   "metadata": {},
   "outputs": [],
   "source": []
  },
  {
   "cell_type": "markdown",
   "metadata": {},
   "source": [
    "---\n",
    "### substitution matrix"
   ]
  },
  {
   "cell_type": "code",
   "execution_count": 440,
   "metadata": {},
   "outputs": [
    {
     "name": "stdout",
     "output_type": "stream",
     "text": [
      "K1943 ['R191A', 'K1943'] '3' is not in list\n",
      "I3) ['I3)'] ')' is not in list\n",
      "I3) ['I3)'] ')' is not in list\n",
      "L33) ['L33)'] ')' is not in list\n",
      "I24) ['I24)'] ')' is not in list\n",
      "I3) ['I3)'] ')' is not in list\n",
      "I3) ['I3)'] ')' is not in list\n",
      "E93) ['E82E', 'Q47K', 'E63K', 'Q84K', 'S89K', 'E93)'] ')' is not in list\n",
      "D94) ['H66E', 'S89K', 'M91K', 'D94)'] ')' is not in list\n",
      "D139) ['D139)'] ')' is not in list\n",
      "D140) ['N135H', 'D140)'] ')' is not in list\n",
      "D139) ['N135H', 'D139)'] ')' is not in list\n",
      "D140) ['N135H', 'D140)'] ')' is not in list\n",
      "D139) ['N135H', 'D139)'] ')' is not in list\n",
      "D139) ['N135H', 'D139)'] ')' is not in list\n",
      "D140) ['D140)'] ')' is not in list\n",
      "D139) ['D139)'] ')' is not in list\n",
      "D140) ['D140)'] ')' is not in list\n",
      "D139) ['N135H', 'D139)'] ')' is not in list\n",
      "D140) ['N135H', 'D140)'] ')' is not in list\n",
      "G443) ['G443)'] ')' is not in list\n",
      "G291) ['G291)'] ')' is not in list\n",
      "N235) ['N235)'] ')' is not in list\n",
      "G130) ['G130)'] ')' is not in list\n",
      "D140) ['N135H', 'D140)'] ')' is not in list\n",
      "D139) ['N135H', 'D139)'] ')' is not in list\n",
      "D139) ['N135H', 'D139)'] ')' is not in list\n",
      "I30) ['I30)'] ')' is not in list\n",
      "A1819) ['A1819)'] ')' is not in list\n",
      "K1833) ['K1833)'] ')' is not in list\n",
      "K1833) ['K1833)'] ')' is not in list\n",
      "Q1847) ['Q1847)'] ')' is not in list\n",
      "A1865) ['A1865)'] ')' is not in list\n",
      "Q1847) ['Q1847)'] ')' is not in list\n",
      "Y1605) ['Y1605)'] ')' is not in list\n",
      "D140) ['D140)'] ')' is not in list\n",
      "D139) ['N135H', 'D139)'] ')' is not in list\n",
      "D139) ['N135H', 'D139)'] ')' is not in list\n",
      "D140) ['N135H', 'D140)'] ')' is not in list\n",
      "D139) ['N135H', 'D139)'] ')' is not in list\n",
      "D140) ['N135H', 'D140)'] ')' is not in list\n",
      "D139) ['D139)'] ')' is not in list\n",
      "D140) ['D140)'] ')' is not in list\n",
      "D139) ['N135H', 'D139)'] ')' is not in list\n",
      "D139) ['N135H', 'D139)'] ')' is not in list\n",
      "D140) ['N135H', 'D140)'] ')' is not in list\n",
      "D139) ['N135H', 'D139)'] ')' is not in list\n",
      "D140) ['N135H', 'D140)'] ')' is not in list\n",
      "D139) ['D139)'] ')' is not in list\n",
      "G443) ['G443)'] ')' is not in list\n",
      "N235) ['N235)'] ')' is not in list\n",
      "G130) ['G130)'] ')' is not in list\n",
      "I30) ['I30)'] ')' is not in list\n",
      "I24) ['I24)'] ')' is not in list\n",
      "L33) ['L33)'] ')' is not in list\n",
      "L33) ['I24V', 'L33)'] ')' is not in list\n",
      "L33) ['W4Y', 'I24V', 'L33)'] ')' is not in list\n",
      "Y43) ['Y43)'] ')' is not in list\n",
      "Y43) ['Y43)'] ')' is not in list\n",
      "D94) ['H66E', 'S89K', 'M91K', 'D94)'] ')' is not in list\n",
      "E93) ['E82E', 'Q47K', 'E63K', 'Q84K', 'S89K', 'E93)'] ')' is not in list\n",
      "T890) ['L820K', 'D850K', 'T890)'] ')' is not in list\n",
      "I3) ['I3)'] ')' is not in list\n",
      "I3) ['I3)'] ')' is not in list\n",
      "I3) ['I3)'] ')' is not in list\n",
      "I3) ['I3)'] ')' is not in list\n",
      "A1222 ['A1222', 'V138I'] '2' is not in list\n",
      "I340 ['P11L', 'I340', 'M', 'A368T'] '0' is not in list\n",
      "M ['P11L', 'I340', 'M', 'A368T'] slice step cannot be zero\n",
      "W278X ['W278X'] 'X' is not in list\n",
      "D3033 ['D3033', 'F380A', 'T304A', 'F375A'] '3' is not in list\n",
      "S461) ['S461)'] ')' is not in list\n",
      "['K1943', 'I3)', 'I3)', 'L33)', 'I24)', 'I3)', 'I3)', 'E93)', 'D94)', 'D139)', 'D140)', 'D139)', 'D140)', 'D139)', 'D139)', 'D140)', 'D139)', 'D140)', 'D139)', 'D140)', 'G443)', 'G291)', 'N235)', 'G130)', 'D140)', 'D139)', 'D139)', 'I30)', 'A1819)', 'K1833)', 'K1833)', 'Q1847)', 'A1865)', 'Q1847)', 'Y1605)', 'D140)', 'D139)', 'D139)', 'D140)', 'D139)', 'D140)', 'D139)', 'D140)', 'D139)', 'D139)', 'D140)', 'D139)', 'D140)', 'D139)', 'G443)', 'N235)', 'G130)', 'I30)', 'I24)', 'L33)', 'L33)', 'L33)', 'Y43)', 'Y43)', 'D94)', 'E93)', 'T890)', 'I3)', 'I3)', 'I3)', 'I3)', 'A1222', 'I340', 'M', 'W278X', 'D3033', 'S461)']\n"
     ]
    }
   ],
   "source": [
    "amino_acids = list('ARNDCQEGHILKMFPSTWYV')\n",
    "matrix = np.zeros((20,20))\n",
    "errors = list()\n",
    "\n",
    "for mstr in df.MUTATION:\n",
    "    ms = mstr.split(' ')\n",
    "    for m in ms:\n",
    "        if m == '':\n",
    "            continue\n",
    "        m = m.split(':')[-1]\n",
    "        try:\n",
    "            x,y = [amino_acids.index(c) for c in m[0::len(m)-1]]\n",
    "            matrix[y,x] += 1\n",
    "            matrix[x,y] += 1\n",
    "        except ValueError as ve:\n",
    "            errors.append(m)\n",
    "            print(m, ms, ve)\n",
    "matrix = np.flipud(matrix)\n",
    "print(errors)"
   ]
  },
  {
   "cell_type": "code",
   "execution_count": 442,
   "metadata": {},
   "outputs": [
    {
     "data": {
      "image/png": "[encoded data removed]",
      "text/plain": [
       "<Figure size 360x360 with 1 Axes>"
      ]
     },
     "metadata": {},
     "output_type": "display_data"
    }
   ],
   "source": [
    "sns.set_theme(style=\"whitegrid\")\n",
    "f, ax = plt.subplots(figsize=(5,5))\n",
    "\n",
    "mask = np.zeros_like(matrix)\n",
    "mask[np.triu_indices_from(mask)] = True\n",
    "\n",
    "g = sns.heatmap(matrix, mask=np.flipud(mask), square=True, \n",
    "                alpha=0,\n",
    "                linewidths=.5, linecolor='black',\n",
    "                xticklabels=amino_acids,\n",
    "                yticklabels=amino_acids[::-1],\n",
    "                cbar=False,\n",
    "               )\n",
    "\n",
    "for edge, spine in ax.spines.items():\n",
    "    spine.set_visible(True)          \n",
    "\n",
    "m = pd.DataFrame(matrix)\n",
    "for i, c in enumerate(m.columns):\n",
    "    for j, v in enumerate(m[c]):\n",
    "        if i + j < 20:\n",
    "            continue\n",
    "        ax.text(i + 0.5, j + 0.5, '+', size=v/10, ha='center', va='center')\n",
    "f.tight_layout()\n",
    "f.savefig('mut_freq.png', dpi=300)"
   ]
  },
  {
   "cell_type": "code",
   "execution_count": null,
   "metadata": {},
   "outputs": [],
   "source": []
  }
 ],
 "metadata": {
  "kernelspec": {
   "display_name": "Python 3",
   "language": "python",
   "name": "python3"
  },
  "language_info": {
   "codemirror_mode": {
    "name": "ipython",
    "version": 3
   },
   "file_extension": ".py",
   "mimetype": "text/x-python",
   "name": "python",
   "nbconvert_exporter": "python",
   "pygments_lexer": "ipython3",
   "version": "3.9.2"
  }
 },
 "nbformat": 4,
 "nbformat_minor": 4
}