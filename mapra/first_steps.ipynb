{
 "cells": [
  {
   "cell_type": "code",
   "execution_count": 2,
   "metadata": {},
   "outputs": [
    {
     "name": "stdout",
     "output_type": "stream",
     "text": [
      "/home/quirin/anaconda3/envs/skl/bin/python\r\n"
     ]
    }
   ],
   "source": [
    "# check which kernel we are using\n",
    "!which python"
   ]
  },
  {
   "cell_type": "markdown",
   "metadata": {},
   "source": [
    "## First steps"
   ]
  },
  {
   "cell_type": "markdown",
   "metadata": {},
   "source": [
    "When it is online, [ProThermDB](https://web.iitm.ac.in/bioinfo2/prothermdb/index.html) can be scraped as a `31.526×42` table of `38.8MB` as a `.TSV` table if you (*e.g.*) request all entries matching `pH = 0:14`. \n",
    "[MPTherm](https://www.iitm.ac.in/bioinfo/mptherm/search.php) is smaller, containing `7202(×42)` records. It returns the entire database for `Organism = ' '`.\n",
    "\n",
    "Maria prepared two datasets (*$\\rightarrow$ full set* and *$\\rightarrow$ redundancy-reduced set*) for three different measurements already: "
   ]
  },
  {
   "cell_type": "markdown",
   "metadata": {},
   "source": [
    "> $\\Delta T_{m}$: change in melting temperature\n",
    ">\n",
    "> $\\Delta\\Delta G$: change in Gibbs Free energy of the protein, i.e. energy necessary to unfold the structure. \n",
    ">> \"*If ddG is positive, the mutated protein is less stable than the wild type, which means a higher likelihood of a loss of function in the mutant; conversely, a negative ddG suggests that the structure is more stable pointing to the possibility of overstabilisation, i.e. preventing biologically relevant conformational changes.*\" Zaucha et al. 2020\n",
    ">>\n",
    ">> $-1.0 \\leq \\Delta\\Delta G \\leq 1.0$ are 'neutral' variants, which only subtly perturb the protein structure\n",
    ">>\n",
    ">> $[kcal/mol]$\n",
    ">\n",
    "> $\\Delta\\Delta G_{H_{2}O}$: change in Free Energy for unfolding in water"
   ]
  },
  {
   "cell_type": "markdown",
   "metadata": {},
   "source": [
    "I got six `.FASTA` files (two per measurement and three per dataset) with protein sequence data and header annotations in canonical UniPort format, as well as three per-measurement `.TSV` files of annotations."
   ]
  },
  {
   "cell_type": "markdown",
   "metadata": {},
   "source": [
    "First, try BioPython and RegEx parsing of `.FASTA` headers."
   ]
  },
  {
   "cell_type": "code",
   "execution_count": 3,
   "metadata": {},
   "outputs": [],
   "source": [
    "from Bio import SeqIO\n",
    "from pathlib import Path\n",
    "import re\n",
    "import pandas as pd\n",
    "import seaborn as sns\n",
    "import matplotlib as mpl\n",
    "import matplotlib.pyplot as plt\n",
    "import matplotlib.colors as mc\n",
    "import colorsys\n",
    "import numpy as np"
   ]
  },
  {
   "cell_type": "code",
   "execution_count": 4,
   "metadata": {
    "tags": []
   },
   "outputs": [
    {
     "name": "stdout",
     "output_type": "stream",
     "text": [
      "P02625\n"
     ]
    },
    {
     "data": {
      "text/plain": "Seq('MSMTDLLSAEDIKKAIGAFTAADSFDHKKFFQMVGLKKKSADDVKKVFHILDKD...AES')"
     },
     "execution_count": 4,
     "metadata": {},
     "output_type": "execute_result"
    }
   ],
   "source": [
    "wd = Path('.').resolve().parent\n",
    "for fasta in wd.rglob('*.fasta'):\n",
    "    for record in SeqIO.parse(fasta, 'fasta'):\n",
    "#        pass\n",
    "        print(record.description)\n",
    "        break\n",
    "    break\n",
    "    \n",
    "record.seq"
   ]
  },
  {
   "cell_type": "code",
   "execution_count": 5,
   "metadata": {},
   "outputs": [
    {
     "name": "stdout",
     "output_type": "stream",
     "text": [
      "../all_sequences_prothermdb.fasta\r\n",
      "../reduced_set/uniprot_prothermdb_melttemp_rep_seq.fasta\r\n",
      "../reduced_set/uniprot_prothermdb_delta_g_rep_seq.fasta\r\n",
      "../reduced_set/uniprot_prothermdb_delta_g_h2o_rep_seq.fasta\r\n",
      "../full_set/uniprot_prothermdb_delta_g.fasta\r\n",
      "../full_set/uniprot_prothermdb_melttemp.fasta\r\n",
      "../full_set/uniprot_prothermdb_delta_g_h2o.fasta\r\n"
     ]
    }
   ],
   "source": [
    "!find .. -name '*.fasta'"
   ]
  },
  {
   "cell_type": "code",
   "execution_count": 6,
   "metadata": {},
   "outputs": [
    {
     "name": "stdout",
     "output_type": "stream",
     "text": [
      ">P02625\r\n",
      ">P02625_27A\r\n",
      ">P02625_22P_81S\r\n",
      ">P02625_81S\r\n",
      ">P02625_22P_27P\r\n",
      ">P02625_27P\r\n",
      ">P02625_22P\r\n",
      ">P02625_22A_27A\r\n",
      ">P00711\r\n",
      ">P00711_51Y\r\n"
     ]
    }
   ],
   "source": [
    "!cat ../**/*.fasta | grep \">\" > headers.txt\n",
    "!head headers.txt"
   ]
  },
  {
   "cell_type": "code",
   "execution_count": 6,
   "metadata": {},
   "outputs": [],
   "source": []
  },
  {
   "cell_type": "markdown",
   "metadata": {},
   "source": [
    "Testing the RegEx at https://regex101.com/r/wnT73m/3"
   ]
  },
  {
   "cell_type": "code",
   "execution_count": 6,
   "metadata": {},
   "outputs": [],
   "source": []
  },
  {
   "cell_type": "code",
   "execution_count": 7,
   "metadata": {},
   "outputs": [
    {
     "data": {
      "text/plain": "re.compile(r'(?P<db>(?:sp|tr))\\|(?P<accession>.+?)\\|(?P<name>\\S+?) (?P<full_name>.+?) OS=(?P<organism>.+?) OX=(?P<taxon_id>.+?) (GN=(?P<gene>.+?) )?PE=(?P<evidence_level>.+?) SV=(?P<version>.+?)$',\nre.UNICODE)"
     },
     "execution_count": 7,
     "metadata": {},
     "output_type": "execute_result"
    }
   ],
   "source": [
    "regex = re.compile('(?P<db>(?:sp|tr))\\|(?P<accession>.+?)\\|(?P<name>\\S+?) (?P<full_name>.+?) OS=(?P<organism>.+?) OX=(?P<taxon_id>.+?) (GN=(?P<gene>.+?) )?PE=(?P<evidence_level>.+?) SV=(?P<version>.+?)$')\n",
    "regex"
   ]
  },
  {
   "cell_type": "code",
   "execution_count": 27,
   "metadata": {},
   "outputs": [
    {
     "name": "stdout",
     "output_type": "stream",
     "text": [
      "P02689\n",
      "None\n"
     ]
    }
   ],
   "source": [
    "i = 0\n",
    "for fasta in wd.rglob('*.fasta'):\n",
    "    if i == 0:\n",
    "        i = 1\n",
    "        continue\n",
    "    for record in SeqIO.parse(fasta, 'fasta'):\n",
    "        break\n",
    "    break\n",
    "    \n",
    "print(record.description)\n",
    "m = regex.match(record.description)\n",
    "print(m)"
   ]
  },
  {
   "cell_type": "code",
   "execution_count": 26,
   "metadata": {},
   "outputs": [
    {
     "ename": "AttributeError",
     "evalue": "'NoneType' object has no attribute 'groupdict'",
     "output_type": "error",
     "traceback": [
      "\u001B[0;31m---------------------------------------------------------------------------\u001B[0m",
      "\u001B[0;31mAttributeError\u001B[0m                            Traceback (most recent call last)",
      "\u001B[0;32m<ipython-input-26-1359e6b1ce94>\u001B[0m in \u001B[0;36m<module>\u001B[0;34m\u001B[0m\n\u001B[0;32m----> 1\u001B[0;31m \u001B[0mm\u001B[0m\u001B[0;34m.\u001B[0m\u001B[0mgroupdict\u001B[0m\u001B[0;34m(\u001B[0m\u001B[0;34m)\u001B[0m\u001B[0;34m\u001B[0m\u001B[0;34m\u001B[0m\u001B[0m\n\u001B[0m\u001B[1;32m      2\u001B[0m \u001B[0;34m\u001B[0m\u001B[0m\n",
      "\u001B[0;31mAttributeError\u001B[0m: 'NoneType' object has no attribute 'groupdict'"
     ]
    }
   ],
   "source": [
    "m.groupdict()"
   ]
  },
  {
   "cell_type": "code",
   "execution_count": 10,
   "metadata": {},
   "outputs": [
    {
     "ename": "AttributeError",
     "evalue": "'NoneType' object has no attribute 'groupdict'",
     "output_type": "error",
     "traceback": [
      "\u001B[0;31m---------------------------------------------------------------------------\u001B[0m",
      "\u001B[0;31mAttributeError\u001B[0m                            Traceback (most recent call last)",
      "\u001B[0;32m<ipython-input-10-48b69453178b>\u001B[0m in \u001B[0;36m<module>\u001B[0;34m\u001B[0m\n\u001B[0;32m----> 1\u001B[0;31m \u001B[0mrecord\u001B[0m\u001B[0;34m.\u001B[0m\u001B[0mannotations\u001B[0m \u001B[0;34m=\u001B[0m \u001B[0mm\u001B[0m\u001B[0;34m.\u001B[0m\u001B[0mgroupdict\u001B[0m\u001B[0;34m(\u001B[0m\u001B[0;34m)\u001B[0m\u001B[0;34m\u001B[0m\u001B[0;34m\u001B[0m\u001B[0m\n\u001B[0m\u001B[1;32m      2\u001B[0m \u001B[0mprint\u001B[0m\u001B[0;34m(\u001B[0m\u001B[0mrecord\u001B[0m\u001B[0;34m)\u001B[0m\u001B[0;34m\u001B[0m\u001B[0;34m\u001B[0m\u001B[0m\n\u001B[1;32m      3\u001B[0m \u001B[0mdir\u001B[0m\u001B[0;34m(\u001B[0m\u001B[0mrecord\u001B[0m\u001B[0;34m.\u001B[0m\u001B[0mseq\u001B[0m\u001B[0;34m)\u001B[0m\u001B[0;34m\u001B[0m\u001B[0;34m\u001B[0m\u001B[0m\n\u001B[1;32m      4\u001B[0m \u001B[0;34m\u001B[0m\u001B[0m\n",
      "\u001B[0;31mAttributeError\u001B[0m: 'NoneType' object has no attribute 'groupdict'"
     ]
    }
   ],
   "source": [
    "record.annotations = m.groupdict()\n",
    "print(record)\n",
    "dir(record.seq)"
   ]
  },
  {
   "cell_type": "code",
   "execution_count": 10,
   "metadata": {},
   "outputs": [],
   "source": []
  },
  {
   "cell_type": "markdown",
   "metadata": {},
   "source": [
    "Try out path regex here https://regex101.com/r/zjRWrx/1"
   ]
  },
  {
   "cell_type": "code",
   "execution_count": 11,
   "metadata": {},
   "outputs": [
    {
     "data": {
      "text/plain": "re.compile(r'.*?_prothermdb_(?P<measure>.+?)(?:(?:_)?(?P<dataset>rep_seq|a?)?\\.fasta|\\.tsv)',\nre.UNICODE)"
     },
     "execution_count": 11,
     "metadata": {},
     "output_type": "execute_result"
    }
   ],
   "source": [
    "path_regex = re.compile(r'.*?_prothermdb_(?P<measure>.+?)(?:(?:_)?(?P<dataset>rep_seq|a?)?\\.fasta|\\.tsv)')\n",
    "path_regex"
   ]
  },
  {
   "cell_type": "code",
   "execution_count": 12,
   "metadata": {},
   "outputs": [
    {
     "ename": "AssertionError",
     "evalue": "",
     "output_type": "error",
     "traceback": [
      "\u001B[0;31m---------------------------------------------------------------------------\u001B[0m",
      "\u001B[0;31mAssertionError\u001B[0m                            Traceback (most recent call last)",
      "\u001B[0;32m<ipython-input-12-cf76b7efeee1>\u001B[0m in \u001B[0;36m<module>\u001B[0;34m\u001B[0m\n\u001B[1;32m      2\u001B[0m     \u001B[0;32mfor\u001B[0m \u001B[0mfile\u001B[0m \u001B[0;32min\u001B[0m \u001B[0mwd\u001B[0m\u001B[0;34m.\u001B[0m\u001B[0mrglob\u001B[0m\u001B[0;34m(\u001B[0m\u001B[0;34m'*.%s'\u001B[0m \u001B[0;34m%\u001B[0m \u001B[0mext\u001B[0m\u001B[0;34m)\u001B[0m\u001B[0;34m:\u001B[0m\u001B[0;34m\u001B[0m\u001B[0;34m\u001B[0m\u001B[0m\n\u001B[1;32m      3\u001B[0m         \u001B[0mmatch\u001B[0m \u001B[0;34m=\u001B[0m \u001B[0mpath_regex\u001B[0m\u001B[0;34m.\u001B[0m\u001B[0mmatch\u001B[0m\u001B[0;34m(\u001B[0m\u001B[0mfile\u001B[0m\u001B[0;34m.\u001B[0m\u001B[0mname\u001B[0m\u001B[0;34m)\u001B[0m\u001B[0;34m\u001B[0m\u001B[0;34m\u001B[0m\u001B[0m\n\u001B[0;32m----> 4\u001B[0;31m         \u001B[0;32massert\u001B[0m \u001B[0mmatch\u001B[0m\u001B[0;34m\u001B[0m\u001B[0;34m\u001B[0m\u001B[0m\n\u001B[0m\u001B[1;32m      5\u001B[0m         \u001B[0mprint\u001B[0m\u001B[0;34m(\u001B[0m\u001B[0mmatch\u001B[0m\u001B[0;34m.\u001B[0m\u001B[0mgroupdict\u001B[0m\u001B[0;34m(\u001B[0m\u001B[0;34m)\u001B[0m\u001B[0;34m)\u001B[0m\u001B[0;34m\u001B[0m\u001B[0;34m\u001B[0m\u001B[0m\n\u001B[1;32m      6\u001B[0m \u001B[0;34m\u001B[0m\u001B[0m\n",
      "\u001B[0;31mAssertionError\u001B[0m: "
     ]
    }
   ],
   "source": [
    "\n",
    "for ext in ['fasta', 'tsv']:\n",
    "    for file in wd.rglob('*.%s' % ext):\n",
    "        match = path_regex.match(file.name)\n",
    "        assert match\n",
    "        print(match.groupdict())\n"
   ]
  },
  {
   "cell_type": "code",
   "execution_count": 12,
   "metadata": {},
   "outputs": [],
   "source": []
  },
  {
   "cell_type": "code",
   "execution_count": 13,
   "metadata": {},
   "outputs": [
    {
     "ename": "AttributeError",
     "evalue": "'NoneType' object has no attribute 'groupdict'",
     "output_type": "error",
     "traceback": [
      "\u001B[0;31m---------------------------------------------------------------------------\u001B[0m",
      "\u001B[0;31mAttributeError\u001B[0m                            Traceback (most recent call last)",
      "\u001B[0;32m<ipython-input-13-9608ee2905e0>\u001B[0m in \u001B[0;36m<module>\u001B[0;34m\u001B[0m\n\u001B[1;32m      2\u001B[0m \u001B[0;34m\u001B[0m\u001B[0m\n\u001B[1;32m      3\u001B[0m \u001B[0;32mfor\u001B[0m \u001B[0mfasta\u001B[0m \u001B[0;32min\u001B[0m \u001B[0mwd\u001B[0m\u001B[0;34m.\u001B[0m\u001B[0mrglob\u001B[0m\u001B[0;34m(\u001B[0m\u001B[0;34m'*.fasta'\u001B[0m\u001B[0;34m)\u001B[0m\u001B[0;34m:\u001B[0m\u001B[0;34m\u001B[0m\u001B[0;34m\u001B[0m\u001B[0m\n\u001B[0;32m----> 4\u001B[0;31m     \u001B[0mgd\u001B[0m \u001B[0;34m=\u001B[0m \u001B[0mpath_regex\u001B[0m\u001B[0;34m.\u001B[0m\u001B[0mmatch\u001B[0m\u001B[0;34m(\u001B[0m\u001B[0mfasta\u001B[0m\u001B[0;34m.\u001B[0m\u001B[0mname\u001B[0m\u001B[0;34m)\u001B[0m\u001B[0;34m.\u001B[0m\u001B[0mgroupdict\u001B[0m\u001B[0;34m(\u001B[0m\u001B[0;34m)\u001B[0m\u001B[0;34m\u001B[0m\u001B[0;34m\u001B[0m\u001B[0m\n\u001B[0m\u001B[1;32m      5\u001B[0m     \u001B[0;32massert\u001B[0m \u001B[0mgd\u001B[0m\u001B[0;34m\u001B[0m\u001B[0;34m\u001B[0m\u001B[0m\n\u001B[1;32m      6\u001B[0m     \u001B[0mkey\u001B[0m \u001B[0;34m=\u001B[0m \u001B[0;34m'full'\u001B[0m \u001B[0;32mif\u001B[0m \u001B[0;32mnot\u001B[0m \u001B[0mgd\u001B[0m\u001B[0;34m[\u001B[0m\u001B[0;34m'dataset'\u001B[0m\u001B[0;34m]\u001B[0m \u001B[0;32melse\u001B[0m \u001B[0mgd\u001B[0m\u001B[0;34m[\u001B[0m\u001B[0;34m'dataset'\u001B[0m\u001B[0;34m]\u001B[0m \u001B[0;34m,\u001B[0m \u001B[0mgd\u001B[0m\u001B[0;34m[\u001B[0m\u001B[0;34m'measure'\u001B[0m\u001B[0;34m]\u001B[0m\u001B[0;34m\u001B[0m\u001B[0;34m\u001B[0m\u001B[0m\n",
      "\u001B[0;31mAttributeError\u001B[0m: 'NoneType' object has no attribute 'groupdict'"
     ]
    }
   ],
   "source": [
    "seq_data = dict()\n",
    "\n",
    "for fasta in wd.rglob('*.fasta'):\n",
    "    gd = path_regex.match(fasta.name).groupdict()\n",
    "    assert gd\n",
    "    key = 'full' if not gd['dataset'] else gd['dataset'] , gd['measure']\n",
    "    \n",
    "    seq_data[key] = dict()\n",
    "    for record in SeqIO.parse(fasta, 'fasta'):\n",
    "        m = regex.match(record.description)\n",
    "        assert m\n",
    "        record.annotations = m.groupdict()\n",
    "        record.id = record.annotations['accession']  # use the UniProt accession as id, as in ProtTherm\n",
    "        \n",
    "        assert record.id not in seq_data[key], '%s already observed\\n' % record.id\n",
    "        seq_data[key][record.id] = record"
   ]
  },
  {
   "cell_type": "code",
   "execution_count": 14,
   "metadata": {},
   "outputs": [
    {
     "data": {
      "text/plain": "{}"
     },
     "execution_count": 14,
     "metadata": {},
     "output_type": "execute_result"
    }
   ],
   "source": [
    "{str(fasta): len(d) for fasta, d in seq_data.items()}"
   ]
  },
  {
   "cell_type": "code",
   "execution_count": 15,
   "metadata": {},
   "outputs": [
    {
     "data": {
      "text/plain": "[]"
     },
     "execution_count": 15,
     "metadata": {},
     "output_type": "execute_result"
    }
   ],
   "source": [
    "keys = sorted(seq_data.keys())\n",
    "keys"
   ]
  },
  {
   "cell_type": "markdown",
   "metadata": {},
   "source": [
    "Let's check whether the sequence data contains mutations"
   ]
  },
  {
   "cell_type": "code",
   "execution_count": 16,
   "metadata": {},
   "outputs": [
    {
     "ename": "IndexError",
     "evalue": "list index out of range",
     "output_type": "error",
     "traceback": [
      "\u001B[0;31m---------------------------------------------------------------------------\u001B[0m",
      "\u001B[0;31mIndexError\u001B[0m                                Traceback (most recent call last)",
      "\u001B[0;32m<ipython-input-16-5bfb21e64779>\u001B[0m in \u001B[0;36m<module>\u001B[0;34m\u001B[0m\n\u001B[1;32m      1\u001B[0m \u001B[0;32mfor\u001B[0m \u001B[0mi\u001B[0m\u001B[0;34m,\u001B[0m \u001B[0mj\u001B[0m \u001B[0;32min\u001B[0m \u001B[0mzip\u001B[0m\u001B[0;34m(\u001B[0m\u001B[0;34m[\u001B[0m\u001B[0;36m0\u001B[0m\u001B[0;34m,\u001B[0m\u001B[0;36m1\u001B[0m\u001B[0;34m,\u001B[0m\u001B[0;36m2\u001B[0m\u001B[0;34m]\u001B[0m\u001B[0;34m,\u001B[0m \u001B[0;34m[\u001B[0m\u001B[0;36m3\u001B[0m\u001B[0;34m,\u001B[0m\u001B[0;36m4\u001B[0m\u001B[0;34m,\u001B[0m\u001B[0;36m5\u001B[0m\u001B[0;34m]\u001B[0m\u001B[0;34m)\u001B[0m\u001B[0;34m:\u001B[0m\u001B[0;34m\u001B[0m\u001B[0;34m\u001B[0m\u001B[0m\n\u001B[0;32m----> 2\u001B[0;31m     \u001B[0mfull\u001B[0m \u001B[0;34m=\u001B[0m \u001B[0mseq_data\u001B[0m\u001B[0;34m[\u001B[0m\u001B[0mkeys\u001B[0m\u001B[0;34m[\u001B[0m\u001B[0mi\u001B[0m\u001B[0;34m]\u001B[0m\u001B[0;34m]\u001B[0m\u001B[0;34m\u001B[0m\u001B[0;34m\u001B[0m\u001B[0m\n\u001B[0m\u001B[1;32m      3\u001B[0m     \u001B[0mpartial\u001B[0m \u001B[0;34m=\u001B[0m \u001B[0mseq_data\u001B[0m\u001B[0;34m[\u001B[0m\u001B[0mkeys\u001B[0m\u001B[0;34m[\u001B[0m\u001B[0mj\u001B[0m\u001B[0;34m]\u001B[0m\u001B[0;34m]\u001B[0m\u001B[0;34m\u001B[0m\u001B[0;34m\u001B[0m\u001B[0m\n\u001B[1;32m      4\u001B[0m     \u001B[0mshared\u001B[0m \u001B[0;34m=\u001B[0m \u001B[0mset\u001B[0m\u001B[0;34m(\u001B[0m\u001B[0mfull\u001B[0m\u001B[0;34m.\u001B[0m\u001B[0mkeys\u001B[0m\u001B[0;34m(\u001B[0m\u001B[0;34m)\u001B[0m\u001B[0;34m)\u001B[0m\u001B[0;34m.\u001B[0m\u001B[0mintersection\u001B[0m\u001B[0;34m(\u001B[0m\u001B[0mset\u001B[0m\u001B[0;34m(\u001B[0m\u001B[0mpartial\u001B[0m\u001B[0;34m.\u001B[0m\u001B[0mkeys\u001B[0m\u001B[0;34m(\u001B[0m\u001B[0;34m)\u001B[0m\u001B[0;34m)\u001B[0m\u001B[0;34m)\u001B[0m\u001B[0;34m\u001B[0m\u001B[0;34m\u001B[0m\u001B[0m\n\u001B[1;32m      5\u001B[0m     \u001B[0;32massert\u001B[0m \u001B[0mall\u001B[0m\u001B[0;34m(\u001B[0m\u001B[0mfull\u001B[0m\u001B[0;34m[\u001B[0m\u001B[0m_id\u001B[0m\u001B[0;34m]\u001B[0m\u001B[0;34m.\u001B[0m\u001B[0mseq\u001B[0m \u001B[0;34m==\u001B[0m \u001B[0mpartial\u001B[0m\u001B[0;34m[\u001B[0m\u001B[0m_id\u001B[0m\u001B[0;34m]\u001B[0m\u001B[0;34m.\u001B[0m\u001B[0mseq\u001B[0m \u001B[0;32mfor\u001B[0m \u001B[0m_id\u001B[0m \u001B[0;32min\u001B[0m \u001B[0mshared\u001B[0m\u001B[0;34m)\u001B[0m\u001B[0;34m\u001B[0m\u001B[0;34m\u001B[0m\u001B[0m\n",
      "\u001B[0;31mIndexError\u001B[0m: list index out of range"
     ]
    }
   ],
   "source": [
    "for i, j in zip([0,1,2], [3,4,5]):\n",
    "    full = seq_data[keys[i]]\n",
    "    partial = seq_data[keys[j]]\n",
    "    shared = set(full.keys()).intersection(set(partial.keys()))\n",
    "    assert all(full[_id].seq == partial[_id].seq for _id in shared)"
   ]
  },
  {
   "cell_type": "markdown",
   "metadata": {},
   "source": [
    "All the given `.FASTA` sequences are identical across conditions, *i.e.* do not contain mutations."
   ]
  },
  {
   "cell_type": "code",
   "execution_count": null,
   "metadata": {},
   "outputs": [],
   "source": [
    "dfs = {path_regex.match(tsv.name).groupdict()['measure']:\n",
    "           pd.read_csv(tsv, sep='\\t') for tsv in wd.rglob('*.tsv')}\n",
    "dfs.keys()"
   ]
  },
  {
   "cell_type": "code",
   "execution_count": null,
   "metadata": {},
   "outputs": [],
   "source": [
    "# run this cell until KeyError: 'popitem(): dictionary is empty' to ensure all dataframes are ok\n",
    "path, df = dfs.popitem()\n",
    "df"
   ]
  },
  {
   "cell_type": "code",
   "execution_count": null,
   "metadata": {},
   "outputs": [],
   "source": [
    "path"
   ]
  },
  {
   "cell_type": "code",
   "execution_count": null,
   "metadata": {},
   "outputs": [],
   "source": [
    "dfs = dict()\n",
    "dfs = {path_regex.match(tsv.name).groupdict()['measure']:\n",
    "           pd.read_csv(tsv, sep='\\t') for tsv in wd.rglob('*.tsv')}\n",
    "\n",
    "cols = lambda i: list(dfs[list(dfs.keys())[i]].columns)\n",
    "assert cols(0) == cols(1) and cols(1) == cols(2), 'the dataframe colums are not identical'\n",
    "\n",
    "conditions = list(dfs.keys())\n",
    "for c in conditions:\n",
    "    # pop to avoid pandas warnings\n",
    "    df = dfs.pop(c)\n",
    "    # filter out rows with undetermined '-' or 'wild-type' mutation\n",
    "    df = df.loc[(df.MUTATION != '-') & (df.MUTATION != 'wild-type')]\n",
    "    # split the mutation column'R191A K1943'\n",
    "    df[['MUTATION', 'SOURCE']] = df.MUTATION.str.rstrip(')').str.split(' \\(Based on ', expand=True)\n",
    "\n",
    "    #print(df.loc[(df.SOURCE != 'UniProt') & (df.SOURCE != 'UniProt and PDB')])\n",
    "    #break\n",
    "    #df.loc[df.MUTATION.str.contains(':')\n",
    "    \n",
    "    # count mutations\n",
    "    df['MUT_COUNT'] = df.MUTATION.str.strip().str.count(' ')+1\n",
    "    dfs[c] = df\n",
    "df = pd.concat(dfs.values(), keys=dfs.keys()).reset_index().rename(columns={'level_0': 'delta'})\n",
    "df.loc[df.MUTATION.str.contains(':')]  # df.SOURCE == 'PDB']\n",
    "df.loc[df.UniProt_ID == '-']\n",
    "df"
   ]
  },
  {
   "cell_type": "code",
   "execution_count": null,
   "metadata": {},
   "outputs": [],
   "source": [
    "print(df.SOURCE.unique())\n",
    "df.loc[df.SOURCE == 'PDB']"
   ]
  },
  {
   "cell_type": "code",
   "execution_count": null,
   "metadata": {},
   "outputs": [],
   "source": [
    "df.loc[df.UniProt_ID == '-']"
   ]
  },
  {
   "cell_type": "code",
   "execution_count": null,
   "metadata": {
    "tags": []
   },
   "outputs": [],
   "source": [
    "amino_acids = list('ARNDCQEGHILKMFPSTWYV')\n",
    "[m for m in df.MUTATION if ':' in m]"
   ]
  },
  {
   "cell_type": "code",
   "execution_count": null,
   "metadata": {},
   "outputs": [],
   "source": [
    "amino_acids = list('ARNDCQEGHILKMFPSTWYV')\n",
    "[m for m in df.MUTATION if m[0] not in amino_acids]"
   ]
  },
  {
   "cell_type": "code",
   "execution_count": null,
   "metadata": {},
   "outputs": [],
   "source": []
  },
  {
   "cell_type": "markdown",
   "metadata": {},
   "source": [
    "---\n",
    "### Counting numbers of mutations per line (= not per UniProt ID)"
   ]
  },
  {
   "cell_type": "code",
   "execution_count": null,
   "metadata": {},
   "outputs": [],
   "source": [
    "def adjust_lightness(color, amount=0.5):\n",
    "    import matplotlib.colors as mc\n",
    "    import colorsys\n",
    "    try:\n",
    "        c = mc.cnames[color]\n",
    "    except:\n",
    "        c = color\n",
    "    c = colorsys.rgb_to_hls(*mc.to_rgb(c))\n",
    "    return colorsys.hls_to_rgb(c[0], max(0, min(1, amount * c[1])), c[2])"
   ]
  },
  {
   "cell_type": "code",
   "execution_count": null,
   "metadata": {},
   "outputs": [],
   "source": [
    "sns.set(style='white')\n",
    "sns.set_theme(style=\"ticks\")\n",
    "cmap = sns.cubehelix_palette(3, start=2.8, rot=-.2, as_cmap=False)\n",
    "cmap[-1] = adjust_lightness(cmap[-1], 2)\n",
    "order =['melttemp', 'delta_g_h2o', 'delta_g']\n",
    "\n",
    "for log in [True, False]:  \n",
    "    g = sns.FacetGrid(data=df, col='delta', hue='delta', height=5, margin_titles=True, palette=cmap, \n",
    "                      col_order=order, hue_order=order[::-1])\n",
    "\n",
    "    g.map_dataframe(sns.histplot, x='MUT_COUNT', log_scale=(False, log), discrete=True)\n",
    "    g.set_axis_labels('mutation count','count frequency')\n",
    "    g.set_titles(col_template='{col_name}')\n",
    "\n",
    "\n",
    "    g.savefig(wd / 'plots' / 'barplot%s.png' % ('_log' if log else ''), dpi=300)"
   ]
  },
  {
   "cell_type": "code",
   "execution_count": null,
   "outputs": [],
   "source": [
    "cdf = df.groupby(['MUT_COUNT', 'delta'])['MUT_COUNT'].count().reset_index(name='freq')\n",
    "\n",
    "sns.set_theme(style=\"whitegrid\")\n",
    "cmap = sns.cubehelix_palette(3, start=2.8, rot=-.2, as_cmap=False)\n",
    "cmap[-1] = adjust_lightness(cmap[-1], 2)\n",
    "\n",
    "g = sns.relplot(\n",
    "    data=cdf, alpha=.9,\n",
    "    x=\"MUT_COUNT\", y=\"delta\", \n",
    "    size=\"freq\", hue=\"delta\", \n",
    "    palette=cmap,\n",
    "    sizes=(10, 1900),\n",
    "    height=2.6, aspect=4.4,\n",
    "    legend=False,\n",
    ")\n",
    "\n",
    "g.ax.xaxis.grid(True, \"major\", linewidth=1)\n",
    "g.ax.yaxis.grid(True, \"major\", linewidth=.25)\n",
    "g.ax.set_ylim(-1, 3)\n",
    "g.despine(left=True, bottom=True)\n",
    "g.set_axis_labels('mutation count per record, frequency as area', '')\n",
    "#g.ax.set_yticklabels(['a','b','c'])\n",
    "g.savefig(wd / 'plots' / 'dotplot.png', dpi=300)\n"
   ],
   "metadata": {
    "collapsed": false,
    "pycharm": {
     "name": "#%%\n"
    }
   }
  },
  {
   "cell_type": "markdown",
   "metadata": {},
   "source": [
    "---\n",
    "### Comparing dataset sizes and share of redundant sequences"
   ]
  },
  {
   "cell_type": "code",
   "execution_count": null,
   "metadata": {},
   "outputs": [],
   "source": [
    "records = [list(fasta) + [len(d)]  for fasta, d in seq_data.items()]\n",
    "records"
   ]
  },
  {
   "cell_type": "code",
   "execution_count": null,
   "metadata": {},
   "outputs": [],
   "source": [
    "dt = pd.DataFrame.from_records(records, columns=['set', 'measure', 'size'])\n",
    "dt"
   ]
  },
  {
   "cell_type": "code",
   "execution_count": null,
   "metadata": {},
   "outputs": [],
   "source": [
    "dt2 = dt.pivot(index='set', columns='measure', values='size').transpose()\n",
    "dt2.full -= dt2.rep_seq\n",
    "dt2.columns = ['redundant', 'unique']\n",
    "dt2 = dt2.reindex(order)\n",
    "avg = (sum(dt2.redundant) + sum(dt2.unique)) // 3\n",
    "dt2"
   ]
  },
  {
   "cell_type": "code",
   "execution_count": null,
   "metadata": {},
   "outputs": [],
   "source": []
  },
  {
   "cell_type": "code",
   "execution_count": null,
   "metadata": {},
   "outputs": [],
   "source": [
    "import numpy as np\n",
    "cmap = sns.cubehelix_palette(3, start=2.8, rot=-.2, as_cmap=False)[::-1]\n",
    "cmap[0] = adjust_lightness(cmap[0], 4)\n",
    "vir = sns.color_palette('viridis', 2, as_cmap=False)\n",
    "\n",
    "fig, ax = plt.subplots(1,3, figsize=(9,3))\n",
    "\n",
    "ax = ax.flatten()\n",
    "for i, cat in enumerate(dt2.index):\n",
    "    dt2.loc[cat].plot.pie(ax=ax[i],\n",
    "                          autopct='%1.f%%', counterclock=False,\n",
    "                          labels=['redundant', 'unique'] if cat == 'melttemp' else ['', ''], \n",
    "                          startangle=0, \n",
    "                          radius=np.sqrt(sum(dt2.loc[cat]) / avg), \n",
    "                          colors=['lightgray', cmap[i]])\n",
    "    ax[i].set_ylabel('')\n",
    "    ax[i].set_title(cat, fontweight='bold', y=1.1)\n",
    "\n",
    "#fig.suptitle('relative dataset size for different measurements and share of homologous samples')\n",
    "fig.tight_layout()\n",
    "fig.savefig('pies.png', dpi=300)"
   ]
  },
  {
   "cell_type": "code",
   "execution_count": null,
   "metadata": {},
   "outputs": [],
   "source": []
  },
  {
   "cell_type": "markdown",
   "metadata": {},
   "source": [
    "---\n",
    "### Annotation Frequency / occurences per UniProt ID"
   ]
  },
  {
   "cell_type": "code",
   "execution_count": null,
   "metadata": {},
   "outputs": [],
   "source": [
    "df"
   ]
  },
  {
   "cell_type": "code",
   "execution_count": null,
   "metadata": {},
   "outputs": [],
   "source": [
    "uniprot = dict()\n",
    "for row in df.itertuples():\n",
    "    if row.delta not in uniprot:\n",
    "        condition_dict = dict()\n",
    "        uniprot[row.delta] = condition_dict\n",
    "    else:\n",
    "        condition_dict = uniprot[row.delta]\n",
    "    if row.UniProt_ID in condition_dict:\n",
    "        condition_dict[row.UniProt_ID] |= set(row.MUTATION.strip().split(' '))\n",
    "    else:\n",
    "        condition_dict[row.UniProt_ID] = set(row.MUTATION.strip().split(' '))\n",
    "len(uniprot), sum(len(v) for v in uniprot.values()), max(len(v) for v in uniprot.values())"
   ]
  },
  {
   "cell_type": "code",
   "execution_count": null,
   "metadata": {},
   "outputs": [],
   "source": [
    "for cond, cdict in uniprot.items():\n",
    "    for _id, idict in cdict.items():\n",
    "        cdict[_id] = len(idict)\n",
    "#uniprot"
   ]
  },
  {
   "cell_type": "code",
   "execution_count": null,
   "metadata": {},
   "outputs": [],
   "source": [
    "adf = pd.DataFrame.from_dict(uniprot, orient='index', dtype=int).fillna(0).convert_dtypes(convert_integer=True).transpose()\n",
    "adf = adf.reset_index().rename(columns={'index': 'uniprot'})\\\n",
    ".melt(id_vars='uniprot').set_index('uniprot')\\\n",
    "    .rename(columns={'variable': 'delta', 'value': 'n_mutations'})\\\n",
    "    .sort_values(by='delta', ascending=True)\n",
    "adf"
   ]
  },
  {
   "cell_type": "code",
   "execution_count": null,
   "metadata": {
    "tags": []
   },
   "outputs": [],
   "source": [
    "\n",
    "def toggle_label_on_size(lab, min_size):\n",
    "    uniprot = lab.get_text()\n",
    "    if max(adf.at[uniprot, 'n_mutations']) > min_size:\n",
    "        return uniprot\n",
    "    else:\n",
    "        return ''\n",
    "\n",
    "\n",
    "sns.set_theme(style=\"white\")\n",
    "cmap = sns.cubehelix_palette(3, start=2.8, rot=-.2, as_cmap=False)\n",
    "cmap[-1] = adjust_lightness(cmap[-1], 2)\n",
    "cmap[0] = adjust_lightness(cmap[0], .9)\n",
    "\n",
    "\n",
    "g = sns.relplot(\n",
    "    data=adf, alpha=.7,\n",
    "    x=\"uniprot\", y=\"delta\",\n",
    "    size=\"n_mutations\", hue=\"delta\", \n",
    "    palette=cmap,\n",
    "    sizes=(0, 600),\n",
    "    height=2, aspect=7,\n",
    "    legend=False,\n",
    ")\n",
    "\n",
    "g.set(ylabel='', xlabel='number of unique mutations listed per UniProt ID')  #, xticklabels=[])\n",
    "g.ax.xaxis.tick_top()\n",
    "g.ax.tick_params(top=False)\n",
    "g.ax.set_xticklabels([toggle_label_on_size(l, 80) for l in g.ax.get_xticklabels()], rotation=90, fontsize=5)\n",
    "g.ax.set_ylim(-0.4, 2.4)\n",
    "g.ax.set_xlim(-1, 339)\n",
    "g.despine(left=True, bottom=True)\n",
    "g.tight_layout()\n",
    "g.savefig('dotplot_nmuts.png', dpi=300)"
   ]
  },
  {
   "cell_type": "code",
   "execution_count": null,
   "metadata": {},
   "outputs": [],
   "source": [
    "# also bind the sequence length to the adf DataFrame\n",
    "def get_len(uniprot_id, measure):\n",
    "    if uniprot_id in seq_data[('full', measure)]:\n",
    "        return len(seq_data[('full', measure)][uniprot_id])\n",
    "    else:\n",
    "        try:\n",
    "            return len(seq_data[('rep_seq', measure)][uniprot_id])\n",
    "        except KeyError:\n",
    "            return 0\n",
    "adf"
   ]
  },
  {
   "cell_type": "code",
   "execution_count": null,
   "metadata": {},
   "outputs": [],
   "source": [
    "adf['len'] = [get_len(i, d) for i, d in zip(adf.index, adf.delta)]\n",
    "adf"
   ]
  },
  {
   "cell_type": "code",
   "execution_count": null,
   "metadata": {},
   "outputs": [],
   "source": [
    "max(adf.at['P25440','len'])\n"
   ]
  },
  {
   "cell_type": "code",
   "execution_count": null,
   "metadata": {},
   "outputs": [],
   "source": [
    "#%matplotlib widget\n",
    "\n",
    "def toggle_label_on_size(lab, min_size):\n",
    "    uniprot = lab.get_text()\n",
    "    if max(adf.at[uniprot, 'len']) > min_size:\n",
    "        return uniprot\n",
    "    else:\n",
    "        return ''\n",
    "\n",
    "sns.set_theme(style=\"white\")\n",
    "cmap = sns.cubehelix_palette(3, start=2.8, rot=-.2, as_cmap=False)\n",
    "cmap[-1] = adjust_lightness(cmap[-1], 2)\n",
    "cmap[0] = adjust_lightness(cmap[0], .9)\n",
    "\n",
    "g = sns.relplot(\n",
    "    data=adf, alpha=.7,\n",
    "    x=\"uniprot\", y=\"delta\",\n",
    "    size=\"len\", hue=\"delta\", \n",
    "    palette=cmap,\n",
    "    sizes=(0, 600),\n",
    "    height=2, aspect=7,\n",
    "    legend=False,\n",
    ")\n",
    "# insert code chunk below here\n",
    "\n",
    "g.set(ylabel='', xlabel='sequence lengths')\n",
    "g.ax.xaxis.tick_top()\n",
    "g.ax.tick_params(top=False)\n",
    "g.ax.set_xticklabels([toggle_label_on_size(l, 960) for l in g.ax.get_xticklabels()], rotation=90, fontsize=5)\n",
    "g.ax.set_ylim(-0.2, 2.2)\n",
    "g.ax.set_xlim(-1, 339)\n",
    "g.despine(left=True, bottom=True)\n",
    "g.tight_layout()\n",
    "g.savefig('dotplot_nmuts_seqLen.png', dpi=300)"
   ]
  },
  {
   "cell_type": "code",
   "execution_count": null,
   "metadata": {},
   "outputs": [],
   "source": [
    "annot = g.ax.annotate(\"\", xy=(1,1), xytext=(1,1),textcoords=\"offset points\",\n",
    "                    bbox=dict(boxstyle=\"round\", fc=\"w\"),\n",
    "                    arrowprops=dict(arrowstyle=\"->\"))\n",
    "annot.set_visible(False)\n",
    "\n",
    "def update_annot(ind):\n",
    "    print(ind)\n",
    "\n",
    "    pos = sc.get_offsets()[ind[\"ind\"][0]]\n",
    "    annot.xy = pos\n",
    "    text = \"{}, {}\".format(\" \".join(list(map(str,ind[\"ind\"]))), \n",
    "                           \" \".join([names[n] for n in ind[\"ind\"]]))\n",
    "    annot.set_text(text)\n",
    "    annot.get_bbox_patch().set_facecolor(cmap(norm(c[ind[\"ind\"][0]])))\n",
    "    annot.get_bbox_patch().set_alpha(0.4)\n",
    "\n",
    "\n",
    "def hover(event):\n",
    "    print(event)\n",
    "    vis = annot.get_visible()\n",
    "    if event.inaxes == ax:\n",
    "        cont, ind = sc.contains(event)\n",
    "        if cont:\n",
    "            update_annot(ind)\n",
    "            annot.set_visible(True)\n",
    "            fig.canvas.draw_idle()\n",
    "        else:\n",
    "            if vis:\n",
    "                annot.set_visible(False)\n",
    "                fig.canvas.draw_idle()"
   ]
  },
  {
   "cell_type": "code",
   "execution_count": null,
   "metadata": {},
   "outputs": [],
   "source": [
    "df"
   ]
  },
  {
   "cell_type": "markdown",
   "metadata": {},
   "source": [
    "---\n",
    "### pH distribution"
   ]
  },
  {
   "cell_type": "code",
   "execution_count": null,
   "metadata": {},
   "outputs": [],
   "source": [
    "sns.set(style='white')\n",
    "sns.set_theme(style=\"ticks\")\n",
    "cmap = sns.cubehelix_palette(3, start=2.8, rot=-.2, as_cmap=False)\n",
    "cmap[-1] = adjust_lightness(cmap[-1], 2)\n",
    "order =['melttemp', 'delta_g_h2o', 'delta_g']\n",
    "\n",
    "\n",
    "g = sns.FacetGrid(data=df, col='delta', hue='delta', height=5, margin_titles=True, palette=cmap, \n",
    "                  col_order=order, hue_order=order[::-1])\n",
    "\n",
    "g.map_dataframe(sns.histplot, x='pH', log_scale=False, discrete=True)\n",
    "g.set_axis_labels('pH','pH frequency')\n",
    "g.set_titles(col_template='{col_name}')\n",
    "\n",
    "g.tight_layout()\n",
    "g.savefig('pH_barplot.png', dpi=300)"
   ]
  },
  {
   "cell_type": "markdown",
   "metadata": {},
   "source": [
    "---\n",
    "### temperature distribution"
   ]
  },
  {
   "cell_type": "code",
   "execution_count": null,
   "metadata": {},
   "outputs": [],
   "source": [
    "df.at[df['T_(C)'] == '-', 'T_(C)'] = -100\n",
    "df['temp'] = df['T_(C)'].astype(float)\n",
    "df = df.sort_values(by='delta', ascending=True)\n",
    "print(sorted(df.temp.unique()))\n",
    "df"
   ]
  },
  {
   "cell_type": "code",
   "execution_count": null,
   "metadata": {},
   "outputs": [],
   "source": [
    "sns.set(style='white')\n",
    "sns.set_theme(style=\"ticks\")\n",
    "cmap = sns.cubehelix_palette(3, start=2.8, rot=-.2, as_cmap=False)\n",
    "cmap[-1] = adjust_lightness(cmap[-1], 2)\n",
    "order =['melttemp', 'delta_g_h2o', 'delta_g']\n",
    "\n",
    "\n",
    "fig, ax = plt.subplots(1,1, figsize=(10,3))\n",
    "f = sns.stripplot(data=df, hue='delta', x='temp', y='delta', \n",
    "                  alpha=.3, palette=cmap, order=order[::-1], \n",
    "                  marker='D', jitter=.4)\n",
    "\n",
    "f.set(ylabel='', xlabel='experiment T[°C]')\n",
    "plt.legend([], [], frameon=False)\n",
    "ax.set_ylim(-0.8, 2.8)\n",
    "ax.set_xlim(-17, 135)\n",
    "fig.tight_layout()\n",
    "\n",
    "fig.savefig('temp_stripplot.png', dpi=300)"
   ]
  },
  {
   "cell_type": "code",
   "execution_count": null,
   "metadata": {},
   "outputs": [],
   "source": []
  },
  {
   "cell_type": "markdown",
   "metadata": {},
   "source": [
    "---\n",
    "### substitution matrix"
   ]
  },
  {
   "cell_type": "code",
   "execution_count": 30,
   "metadata": {},
   "outputs": [],
   "source": [
    "import importlib\n",
    "from pathlib import Path\n",
    "import seaborn as sns\n",
    "import numpy as np\n",
    "import pandas as pd\n",
    "\n",
    "from mapra import prep"
   ]
  },
  {
   "cell_type": "code",
   "execution_count": 31,
   "outputs": [
    {
     "name": "stdout",
     "output_type": "stream",
     "text": [
      "/home/quirin/PYTHON/mapra\n"
     ]
    },
    {
     "name": "stderr",
     "output_type": "stream",
     "text": [
      "/home/quirin/PYTHON/mapra/mapra/prep.py:20: RuntimeWarning: unexpected FASTA filename: /home/quirin/PYTHON/mapra/all_sequences_prothermdb.fasta\n",
      "  warnings.warn('unexpected FASTA filename: ' + str(fasta), RuntimeWarning)\n"
     ]
    },
    {
     "data": {
      "text/plain": "       UniProt_ID           MUTATION   pH       MEASURE   METHOD  MUT_COUNT  \\\n0      A0A060GYS1               H22R  7.5  fluorescence  Thermal          1   \n1      A0A060GYS1              P224R  7.5  fluorescence  Thermal          1   \n2      A0A410ZNC6              A341S  7.5  Fluorescence  Thermal          1   \n3      A0A410ZNC6              F184L  7.5  Fluorescence  Thermal          1   \n4      A0A410ZNC6  F184L P250L A341S  7.5  Fluorescence  Thermal          3   \n...           ...                ...  ...           ...      ...        ...   \n14593      R9S082               W15F  7.8            CD     Urea          1   \n14594      R9S082               W15F  7.8            CD     Urea          1   \n14595      R9S082                W8F  7.8            CD     Urea          1   \n14596      R9S082                W8F  7.8            CD     Urea          1   \n14597      R9S082                W8F  7.8            CD     Urea          1   \n\n       DELTA  dtemp  ddg  h2o      DATASET  LENGTH  REPEATS  \n0      dtemp    9.9  NaN  NaN  reduced_set     333        1  \n1      dtemp    2.3  NaN  NaN  reduced_set     333        1  \n2      dtemp    3.6  NaN  NaN  reduced_set     458        1  \n3      dtemp    1.0  NaN  NaN  reduced_set     458        1  \n4      dtemp    5.6  NaN  NaN  reduced_set     458        1  \n...      ...    ...  ...  ...          ...     ...      ...  \n14593    h2o    NaN  NaN -0.6  reduced_set     154        3  \n14594    h2o    NaN  NaN -1.1  reduced_set     154        3  \n14595    h2o    NaN  NaN -0.9  reduced_set     154        3  \n14596    h2o    NaN  NaN -1.1  reduced_set     154        3  \n14597    h2o    NaN  NaN  0.1  reduced_set     154        3  \n\n[14598 rows x 13 columns]",
      "text/html": "<div>\n<style scoped>\n    .dataframe tbody tr th:only-of-type {\n        vertical-align: middle;\n    }\n\n    .dataframe tbody tr th {\n        vertical-align: top;\n    }\n\n    .dataframe thead th {\n        text-align: right;\n    }\n</style>\n<table border=\"1\" class=\"dataframe\">\n  <thead>\n    <tr style=\"text-align: right;\">\n      <th></th>\n      <th>UniProt_ID</th>\n      <th>MUTATION</th>\n      <th>pH</th>\n      <th>MEASURE</th>\n      <th>METHOD</th>\n      <th>MUT_COUNT</th>\n      <th>DELTA</th>\n      <th>dtemp</th>\n      <th>ddg</th>\n      <th>h2o</th>\n      <th>DATASET</th>\n      <th>LENGTH</th>\n      <th>REPEATS</th>\n    </tr>\n  </thead>\n  <tbody>\n    <tr>\n      <th>0</th>\n      <td>A0A060GYS1</td>\n      <td>H22R</td>\n      <td>7.5</td>\n      <td>fluorescence</td>\n      <td>Thermal</td>\n      <td>1</td>\n      <td>dtemp</td>\n      <td>9.9</td>\n      <td>NaN</td>\n      <td>NaN</td>\n      <td>reduced_set</td>\n      <td>333</td>\n      <td>1</td>\n    </tr>\n    <tr>\n      <th>1</th>\n      <td>A0A060GYS1</td>\n      <td>P224R</td>\n      <td>7.5</td>\n      <td>fluorescence</td>\n      <td>Thermal</td>\n      <td>1</td>\n      <td>dtemp</td>\n      <td>2.3</td>\n      <td>NaN</td>\n      <td>NaN</td>\n      <td>reduced_set</td>\n      <td>333</td>\n      <td>1</td>\n    </tr>\n    <tr>\n      <th>2</th>\n      <td>A0A410ZNC6</td>\n      <td>A341S</td>\n      <td>7.5</td>\n      <td>Fluorescence</td>\n      <td>Thermal</td>\n      <td>1</td>\n      <td>dtemp</td>\n      <td>3.6</td>\n      <td>NaN</td>\n      <td>NaN</td>\n      <td>reduced_set</td>\n      <td>458</td>\n      <td>1</td>\n    </tr>\n    <tr>\n      <th>3</th>\n      <td>A0A410ZNC6</td>\n      <td>F184L</td>\n      <td>7.5</td>\n      <td>Fluorescence</td>\n      <td>Thermal</td>\n      <td>1</td>\n      <td>dtemp</td>\n      <td>1.0</td>\n      <td>NaN</td>\n      <td>NaN</td>\n      <td>reduced_set</td>\n      <td>458</td>\n      <td>1</td>\n    </tr>\n    <tr>\n      <th>4</th>\n      <td>A0A410ZNC6</td>\n      <td>F184L P250L A341S</td>\n      <td>7.5</td>\n      <td>Fluorescence</td>\n      <td>Thermal</td>\n      <td>3</td>\n      <td>dtemp</td>\n      <td>5.6</td>\n      <td>NaN</td>\n      <td>NaN</td>\n      <td>reduced_set</td>\n      <td>458</td>\n      <td>1</td>\n    </tr>\n    <tr>\n      <th>...</th>\n      <td>...</td>\n      <td>...</td>\n      <td>...</td>\n      <td>...</td>\n      <td>...</td>\n      <td>...</td>\n      <td>...</td>\n      <td>...</td>\n      <td>...</td>\n      <td>...</td>\n      <td>...</td>\n      <td>...</td>\n      <td>...</td>\n    </tr>\n    <tr>\n      <th>14593</th>\n      <td>R9S082</td>\n      <td>W15F</td>\n      <td>7.8</td>\n      <td>CD</td>\n      <td>Urea</td>\n      <td>1</td>\n      <td>h2o</td>\n      <td>NaN</td>\n      <td>NaN</td>\n      <td>-0.6</td>\n      <td>reduced_set</td>\n      <td>154</td>\n      <td>3</td>\n    </tr>\n    <tr>\n      <th>14594</th>\n      <td>R9S082</td>\n      <td>W15F</td>\n      <td>7.8</td>\n      <td>CD</td>\n      <td>Urea</td>\n      <td>1</td>\n      <td>h2o</td>\n      <td>NaN</td>\n      <td>NaN</td>\n      <td>-1.1</td>\n      <td>reduced_set</td>\n      <td>154</td>\n      <td>3</td>\n    </tr>\n    <tr>\n      <th>14595</th>\n      <td>R9S082</td>\n      <td>W8F</td>\n      <td>7.8</td>\n      <td>CD</td>\n      <td>Urea</td>\n      <td>1</td>\n      <td>h2o</td>\n      <td>NaN</td>\n      <td>NaN</td>\n      <td>-0.9</td>\n      <td>reduced_set</td>\n      <td>154</td>\n      <td>3</td>\n    </tr>\n    <tr>\n      <th>14596</th>\n      <td>R9S082</td>\n      <td>W8F</td>\n      <td>7.8</td>\n      <td>CD</td>\n      <td>Urea</td>\n      <td>1</td>\n      <td>h2o</td>\n      <td>NaN</td>\n      <td>NaN</td>\n      <td>-1.1</td>\n      <td>reduced_set</td>\n      <td>154</td>\n      <td>3</td>\n    </tr>\n    <tr>\n      <th>14597</th>\n      <td>R9S082</td>\n      <td>W8F</td>\n      <td>7.8</td>\n      <td>CD</td>\n      <td>Urea</td>\n      <td>1</td>\n      <td>h2o</td>\n      <td>NaN</td>\n      <td>NaN</td>\n      <td>0.1</td>\n      <td>reduced_set</td>\n      <td>154</td>\n      <td>3</td>\n    </tr>\n  </tbody>\n</table>\n<p>14598 rows × 13 columns</p>\n</div>"
     },
     "execution_count": 31,
     "metadata": {},
     "output_type": "execute_result"
    }
   ],
   "source": [
    "importlib.reload(prep)\n",
    "\n",
    "# the directory to search\n",
    "wd = Path('.').resolve().parent\n",
    "print(wd)\n",
    "(wd / 'plots').mkdir(parents=True, exist_ok=True)\n",
    "\n",
    "data = prep.dataset(wd)\n",
    "df = data.dataframe\n",
    "df"
   ],
   "metadata": {
    "collapsed": false,
    "pycharm": {
     "name": "#%%\n"
    }
   }
  },
  {
   "cell_type": "code",
   "execution_count": 32,
   "outputs": [
    {
     "name": "stdout",
     "output_type": "stream",
     "text": [
      "[]\n"
     ]
    }
   ],
   "source": [
    "\n",
    "amino_acids = list('ARNDCQEGHILKMFPSTWYV')\n",
    "matrix = np.zeros((20,20))\n",
    "errors = list()\n",
    "\n",
    "for mstr in df.MUTATION:\n",
    "    ms = mstr.split(' ')\n",
    "    for m in ms:\n",
    "        if m == '':\n",
    "            continue\n",
    "        m = m.split(':')[-1]\n",
    "        try:\n",
    "            x,y = [amino_acids.index(c) for c in m[0::len(m)-1]]\n",
    "            matrix[y,x] += 1\n",
    "            matrix[x,y] += 1\n",
    "        except ValueError as ve:\n",
    "            errors.append(m)\n",
    "            print(m, ms, ve)\n",
    "matrix = np.flipud(matrix)\n",
    "print(errors)"
   ],
   "metadata": {
    "collapsed": false,
    "pycharm": {
     "name": "#%%\n"
    }
   }
  },
  {
   "cell_type": "code",
   "execution_count": 79,
   "metadata": {},
   "outputs": [
    {
     "data": {
      "text/plain": "<Figure size 360x360 with 1 Axes>",
      "image/png": "[encoded data removed]"
     },
     "metadata": {},
     "output_type": "display_data"
    }
   ],
   "source": [
    "sns.set_theme(style='white')\n",
    "f, ax = plt.subplots(figsize=(5,5))\n",
    "\n",
    "mask = np.zeros_like(matrix)\n",
    "mask[np.triu_indices_from(mask)] = True\n",
    "\n",
    "g = sns.heatmap(matrix, mask=np.fliplr(mask), square=True,\n",
    "                alpha=1, cmap='viridis',\n",
    "                linewidths=3, #linecolor='gray',\n",
    "                xticklabels=amino_acids,\n",
    "                yticklabels=amino_acids[::-1],\n",
    "                cbar=False,\n",
    "               )\n",
    "\n",
    "g.yaxis.tick_right()\n",
    "#g.yaxis.set_label_position('right')\n",
    "g.tick_params(right=False)\n",
    "\n",
    "# for edge, spine in ax.spines.items():\n",
    "#     spine.set_visible(True)\n",
    "\n",
    "# m = pd.DataFrame(matrix)\n",
    "# for i, c in enumerate(m.columns):\n",
    "#     for j, v in enumerate(m[c]):\n",
    "#         if i + j < 20:\n",
    "#             continue\n",
    "#         ax.text(i + 0.5, j + 0.5, '+', size=v/20, ha='center', va='center')\n",
    "f.tight_layout()\n",
    "f.savefig('mut_freq.png', dpi=300)"
   ]
  },
  {
   "cell_type": "code",
   "execution_count": null,
   "metadata": {},
   "outputs": [],
   "source": []
  }
 ],
 "metadata": {
  "kernelspec": {
   "display_name": "Python 3",
   "language": "python",
   "name": "python3"
  },
  "language_info": {
   "codemirror_mode": {
    "name": "ipython",
    "version": 3
   },
   "file_extension": ".py",
   "mimetype": "text/x-python",
   "name": "python",
   "nbconvert_exporter": "python",
   "pygments_lexer": "ipython3",
   "version": "3.9.2"
  }
 },
 "nbformat": 4,
 "nbformat_minor": 4
}