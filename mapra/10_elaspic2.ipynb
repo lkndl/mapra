{
 "cells": [
  {
   "cell_type": "code",
   "execution_count": 2,
   "metadata": {
    "collapsed": true
   },
   "outputs": [],
   "source": [
    "import pandas as pd\n",
    "import importlib\n",
    "from pathlib import Path"
   ]
  },
  {
   "cell_type": "code",
   "execution_count": 5,
   "outputs": [
    {
     "data": {
      "text/plain": "PosixPath('/home/quirin/PYTHON/mapra/elaspic2')"
     },
     "execution_count": 5,
     "metadata": {},
     "output_type": "execute_result"
    }
   ],
   "source": [
    "elaspic_wd = Path('.').resolve().parent / 'elaspic2'\n",
    "elaspic_wd"
   ],
   "metadata": {
    "collapsed": false,
    "pycharm": {
     "name": "#%%\n"
    }
   }
  },
  {
   "cell_type": "code",
   "execution_count": 8,
   "outputs": [
    {
     "data": {
      "text/plain": "[PosixPath('/home/quirin/PYTHON/mapra/elaspic2/dunham-2020-interface.parquet'),\n PosixPath('/home/quirin/PYTHON/mapra/elaspic2/dunham-2020-core.parquet'),\n PosixPath('/home/quirin/PYTHON/mapra/elaspic2/elaspic-training-set-interface.parquet'),\n PosixPath('/home/quirin/PYTHON/mapra/elaspic2/starr-2020-core.parquet'),\n PosixPath('/home/quirin/PYTHON/mapra/elaspic2/huang-2020-core.parquet'),\n PosixPath('/home/quirin/PYTHON/mapra/elaspic2/skempi-v2-interface.parquet'),\n PosixPath('/home/quirin/PYTHON/mapra/elaspic2/elaspic-training-set-core.parquet'),\n PosixPath('/home/quirin/PYTHON/mapra/elaspic2/starr-2020-interface.parquet'),\n PosixPath('/home/quirin/PYTHON/mapra/elaspic2/protherm-dagger-core.parquet'),\n PosixPath('/home/quirin/PYTHON/mapra/elaspic2/cagi5-frataxin-core.parquet'),\n PosixPath('/home/quirin/PYTHON/mapra/elaspic2/rocklin-2017-core.parquet')]"
     },
     "execution_count": 8,
     "metadata": {},
     "output_type": "execute_result"
    }
   ],
   "source": [
    "[file for file in elaspic_wd.rglob('*.parquet')]"
   ],
   "metadata": {
    "collapsed": false,
    "pycharm": {
     "name": "#%%\n"
    }
   }
  },
  {
   "cell_type": "code",
   "execution_count": 10,
   "outputs": [
    {
     "data": {
      "text/plain": "      unique_id               dataset  \\\n0    2994471656  protherm-dagger-core   \n1    3608158859  protherm-dagger-core   \n2    4162479423  protherm-dagger-core   \n3     939060876  protherm-dagger-core   \n4     261396109  protherm-dagger-core   \n..          ...                   ...   \n110   478667903  protherm-dagger-core   \n111   630707263  protherm-dagger-core   \n112  2199526352  protherm-dagger-core   \n113  1517321725  protherm-dagger-core   \n114   340553250  protherm-dagger-core   \n\n                                                name  \\\n0                                    protherm-1msi-A   \n1                    protherm-1cey-A|protherm-3chy-A   \n2                                    protherm-5azu-A   \n3    protherm-1ifb-A|protherm-1ifc-A|protherm-2ifb-A   \n4                                    protherm-1chk-A   \n..                                               ...   \n110                                  protherm-1oia-A   \n111                                  protherm-1sce-A   \n112                                  protherm-1shf-A   \n113                                  protherm-1ihb-A   \n114                                  protherm-1clw-A   \n\n                                      protein_sequence ligand_sequence  \\\n0    AAQASVVANQLIPINTALTLVMMRSEVVTPVGIPAEDIPRLVSMQV...            None   \n1    ADKELKFLVVDDFSTMRRIVRNLLKELGFNNVEEAEDGVDALNKLQ...            None   \n2    AECSVDIQGNDQMQFNTNAITVDKSCKQFTVNLSHPGNLPKNVMGH...            None   \n3    AFDGTWKVDRNENYEKFMEKMGINVVKRKLGAHDNLKLTITQEGNK...            None   \n4    AGAGLDDPHKKEIAMELVSSAENSSLDWKAQYKYIEDIGDGRGYTG...            None   \n..                                                 ...             ...   \n110  VPETRPNHTIYINNLNEKIKKDELKKSLYAIFSQFGQILDILVSRS...            None   \n111  VPRLLTASERERLEPFIDQIHYSPRYADDEYEYRHVMLPKAMLKAI...            None   \n112  VTLFVALYDYEARTEDDLSFHKGEKFQILNSSEGDWWEARSLTTGE...            None   \n113  WGNELASAAARGDLEQLTSLLQNNVNVNAQNGFGRTALQVMKLGNP...            None   \n114  YSIEADKKFKYSVKLSDYPTLQDAASAAVDGLLIDRDYNFYGGETV...            None   \n\n                                              mutation  \\\n0                 [D37A, D59N, E26A, R24A, R40A, R48A]   \n1    [A100G, A112G, A113G, A47G, A73G, A76G, A79G, ...   \n2    [A82G, F110A, F110S, F97A, H117G, H46G, I20A, ...   \n3    [F68A, F93A, W6Y, W82Y, L64A, L64G, A104C, G65...   \n4                                 [W101F, W227F, W28F]   \n..                                                 ...   \n110   [Y11F, Y11T, Y29F, Y29S, Y76D, Y76F, Y84F, Y84T]   \n111  [P15A, P24A, P39A, P47A, P53A, P2A, P85A, P85G...   \n112  [E24A, E24D, E24F, E24G, E24H, E24I, E24K, E24...   \n113                     [F33H, F67N, F78Q, F88N, R51V]   \n114   [E197V, G65R, G132R, G211D, R173K, R270S, T123I]   \n\n                                                effect effect_type  \\\n0           [0.905, -0.06, -0.02, -0.7, -0.69, -0.555]        -ΔΔG   \n1    [-1.0, -1.3, -0.8000000000000002, 0.2, -0.3, -...        -ΔΔG   \n2    [-2.03152868069, -5.019080305926667, -4.9, -2....        -ΔΔG   \n3    [1.38, -2.42, -0.93, 0.09, -2.07, -2.63, 2.025...        -ΔΔG   \n4            [-3.358333333335, -2.261666666665, -3.25]        -ΔΔG   \n..                                                 ...         ...   \n110   [-0.7, -1.3, -0.0, -2.3, -5.1, -0.0, -2.6, -2.9]        -ΔΔG   \n111  [-0.3, 0.23, -3.04, -2.57, -0.35, -0.2, 1.19, ...        -ΔΔG   \n112  [-1.27, 0.68, -1.63, -2.29, -0.99, -2.71, -0.9...        -ΔΔG   \n113                 [-1.24, 0.71, -0.46, -1.08, -0.32]        -ΔΔG   \n114       [-2.3, -2.1, -4.0, -0.4, -10.3, -17.4, -1.6]        -ΔΔG   \n\n                                     protein_structure  \n0    ATOM      1  N   ALA A   0      20.699  25.172...  \n1    ATOM      1  N   ALA A   2     -13.760   0.036...  \n2    ATOM      1  N   ALA A   1      -8.490  53.971...  \n3    ATOM      1  N   ALA A   1     -13.778   2.298...  \n4    ATOM      1  N   ALA A   1      35.057   4.428...  \n..                                                 ...  \n110  ATOM      1  N   VAL A   3      45.266  50.920...  \n111  ATOM      1  N   VAL A   6      -1.578   5.850...  \n112  ATOM      1  N   VAL A  84      29.568  35.735...  \n113  ATOM      1  N   TRP A   5      15.670  38.210...  \n114  ATOM      1  N   TYR A 113      48.731  44.862...  \n\n[115 rows x 9 columns]",
      "text/html": "<div>\n<style scoped>\n    .dataframe tbody tr th:only-of-type {\n        vertical-align: middle;\n    }\n\n    .dataframe tbody tr th {\n        vertical-align: top;\n    }\n\n    .dataframe thead th {\n        text-align: right;\n    }\n</style>\n<table border=\"1\" class=\"dataframe\">\n  <thead>\n    <tr style=\"text-align: right;\">\n      <th></th>\n      <th>unique_id</th>\n      <th>dataset</th>\n      <th>name</th>\n      <th>protein_sequence</th>\n      <th>ligand_sequence</th>\n      <th>mutation</th>\n      <th>effect</th>\n      <th>effect_type</th>\n      <th>protein_structure</th>\n    </tr>\n  </thead>\n  <tbody>\n    <tr>\n      <th>0</th>\n      <td>2994471656</td>\n      <td>protherm-dagger-core</td>\n      <td>protherm-1msi-A</td>\n      <td>AAQASVVANQLIPINTALTLVMMRSEVVTPVGIPAEDIPRLVSMQV...</td>\n      <td>None</td>\n      <td>[D37A, D59N, E26A, R24A, R40A, R48A]</td>\n      <td>[0.905, -0.06, -0.02, -0.7, -0.69, -0.555]</td>\n      <td>-ΔΔG</td>\n      <td>ATOM      1  N   ALA A   0      20.699  25.172...</td>\n    </tr>\n    <tr>\n      <th>1</th>\n      <td>3608158859</td>\n      <td>protherm-dagger-core</td>\n      <td>protherm-1cey-A|protherm-3chy-A</td>\n      <td>ADKELKFLVVDDFSTMRRIVRNLLKELGFNNVEEAEDGVDALNKLQ...</td>\n      <td>None</td>\n      <td>[A100G, A112G, A113G, A47G, A73G, A76G, A79G, ...</td>\n      <td>[-1.0, -1.3, -0.8000000000000002, 0.2, -0.3, -...</td>\n      <td>-ΔΔG</td>\n      <td>ATOM      1  N   ALA A   2     -13.760   0.036...</td>\n    </tr>\n    <tr>\n      <th>2</th>\n      <td>4162479423</td>\n      <td>protherm-dagger-core</td>\n      <td>protherm-5azu-A</td>\n      <td>AECSVDIQGNDQMQFNTNAITVDKSCKQFTVNLSHPGNLPKNVMGH...</td>\n      <td>None</td>\n      <td>[A82G, F110A, F110S, F97A, H117G, H46G, I20A, ...</td>\n      <td>[-2.03152868069, -5.019080305926667, -4.9, -2....</td>\n      <td>-ΔΔG</td>\n      <td>ATOM      1  N   ALA A   1      -8.490  53.971...</td>\n    </tr>\n    <tr>\n      <th>3</th>\n      <td>939060876</td>\n      <td>protherm-dagger-core</td>\n      <td>protherm-1ifb-A|protherm-1ifc-A|protherm-2ifb-A</td>\n      <td>AFDGTWKVDRNENYEKFMEKMGINVVKRKLGAHDNLKLTITQEGNK...</td>\n      <td>None</td>\n      <td>[F68A, F93A, W6Y, W82Y, L64A, L64G, A104C, G65...</td>\n      <td>[1.38, -2.42, -0.93, 0.09, -2.07, -2.63, 2.025...</td>\n      <td>-ΔΔG</td>\n      <td>ATOM      1  N   ALA A   1     -13.778   2.298...</td>\n    </tr>\n    <tr>\n      <th>4</th>\n      <td>261396109</td>\n      <td>protherm-dagger-core</td>\n      <td>protherm-1chk-A</td>\n      <td>AGAGLDDPHKKEIAMELVSSAENSSLDWKAQYKYIEDIGDGRGYTG...</td>\n      <td>None</td>\n      <td>[W101F, W227F, W28F]</td>\n      <td>[-3.358333333335, -2.261666666665, -3.25]</td>\n      <td>-ΔΔG</td>\n      <td>ATOM      1  N   ALA A   1      35.057   4.428...</td>\n    </tr>\n    <tr>\n      <th>...</th>\n      <td>...</td>\n      <td>...</td>\n      <td>...</td>\n      <td>...</td>\n      <td>...</td>\n      <td>...</td>\n      <td>...</td>\n      <td>...</td>\n      <td>...</td>\n    </tr>\n    <tr>\n      <th>110</th>\n      <td>478667903</td>\n      <td>protherm-dagger-core</td>\n      <td>protherm-1oia-A</td>\n      <td>VPETRPNHTIYINNLNEKIKKDELKKSLYAIFSQFGQILDILVSRS...</td>\n      <td>None</td>\n      <td>[Y11F, Y11T, Y29F, Y29S, Y76D, Y76F, Y84F, Y84T]</td>\n      <td>[-0.7, -1.3, -0.0, -2.3, -5.1, -0.0, -2.6, -2.9]</td>\n      <td>-ΔΔG</td>\n      <td>ATOM      1  N   VAL A   3      45.266  50.920...</td>\n    </tr>\n    <tr>\n      <th>111</th>\n      <td>630707263</td>\n      <td>protherm-dagger-core</td>\n      <td>protherm-1sce-A</td>\n      <td>VPRLLTASERERLEPFIDQIHYSPRYADDEYEYRHVMLPKAMLKAI...</td>\n      <td>None</td>\n      <td>[P15A, P24A, P39A, P47A, P53A, P2A, P85A, P85G...</td>\n      <td>[-0.3, 0.23, -3.04, -2.57, -0.35, -0.2, 1.19, ...</td>\n      <td>-ΔΔG</td>\n      <td>ATOM      1  N   VAL A   6      -1.578   5.850...</td>\n    </tr>\n    <tr>\n      <th>112</th>\n      <td>2199526352</td>\n      <td>protherm-dagger-core</td>\n      <td>protherm-1shf-A</td>\n      <td>VTLFVALYDYEARTEDDLSFHKGEKFQILNSSEGDWWEARSLTTGE...</td>\n      <td>None</td>\n      <td>[E24A, E24D, E24F, E24G, E24H, E24I, E24K, E24...</td>\n      <td>[-1.27, 0.68, -1.63, -2.29, -0.99, -2.71, -0.9...</td>\n      <td>-ΔΔG</td>\n      <td>ATOM      1  N   VAL A  84      29.568  35.735...</td>\n    </tr>\n    <tr>\n      <th>113</th>\n      <td>1517321725</td>\n      <td>protherm-dagger-core</td>\n      <td>protherm-1ihb-A</td>\n      <td>WGNELASAAARGDLEQLTSLLQNNVNVNAQNGFGRTALQVMKLGNP...</td>\n      <td>None</td>\n      <td>[F33H, F67N, F78Q, F88N, R51V]</td>\n      <td>[-1.24, 0.71, -0.46, -1.08, -0.32]</td>\n      <td>-ΔΔG</td>\n      <td>ATOM      1  N   TRP A   5      15.670  38.210...</td>\n    </tr>\n    <tr>\n      <th>114</th>\n      <td>340553250</td>\n      <td>protherm-dagger-core</td>\n      <td>protherm-1clw-A</td>\n      <td>YSIEADKKFKYSVKLSDYPTLQDAASAAVDGLLIDRDYNFYGGETV...</td>\n      <td>None</td>\n      <td>[E197V, G65R, G132R, G211D, R173K, R270S, T123I]</td>\n      <td>[-2.3, -2.1, -4.0, -0.4, -10.3, -17.4, -1.6]</td>\n      <td>-ΔΔG</td>\n      <td>ATOM      1  N   TYR A 113      48.731  44.862...</td>\n    </tr>\n  </tbody>\n</table>\n<p>115 rows × 9 columns</p>\n</div>"
     },
     "execution_count": 10,
     "metadata": {},
     "output_type": "execute_result"
    }
   ],
   "source": [
    "pd.read_parquet(elaspic_wd / 'protherm-dagger-core.parquet')"
   ],
   "metadata": {
    "collapsed": false,
    "pycharm": {
     "name": "#%%\n"
    }
   }
  },
  {
   "cell_type": "code",
   "execution_count": 11,
   "outputs": [
    {
     "data": {
      "text/plain": "    unique_id         dataset  name  \\\n0  3993115348  cagi5_frataxin  1ekg   \n\n                                    protein_sequence ligand_sequence  \\\n0  LDETTYERLAEETLDSLAEFFEDLADKPYTFEDYDVSFGSGVLTVK...            None   \n\n                                            mutation  \\\n0  [D15G, A18V, S113F, S92F, F20L, S72I, Y34S, W84C]   \n\n                                              effect effect_type  \\\n0  [-0.255, -0.22, 0.685, 2.035, 2.645, 3.44, 4.4...         ΔΔG   \n\n                                   protein_structure  \\\n0  ATOM      1  N   LEU A  90       1.020  13.240...   \n\n                                       provean_score  \\\n0  [-6.564, -3.54, -4.887, -5.696000000000001, -5...   \n\n                                         foldx_score  \\\n0  [0.17681000000000013, 1.0850899999999999, -0.3...   \n\n                                       elaspic_score  \n0  [0.7521, 0.07734830000000001, 0.37287600000000...  ",
      "text/html": "<div>\n<style scoped>\n    .dataframe tbody tr th:only-of-type {\n        vertical-align: middle;\n    }\n\n    .dataframe tbody tr th {\n        vertical-align: top;\n    }\n\n    .dataframe thead th {\n        text-align: right;\n    }\n</style>\n<table border=\"1\" class=\"dataframe\">\n  <thead>\n    <tr style=\"text-align: right;\">\n      <th></th>\n      <th>unique_id</th>\n      <th>dataset</th>\n      <th>name</th>\n      <th>protein_sequence</th>\n      <th>ligand_sequence</th>\n      <th>mutation</th>\n      <th>effect</th>\n      <th>effect_type</th>\n      <th>protein_structure</th>\n      <th>provean_score</th>\n      <th>foldx_score</th>\n      <th>elaspic_score</th>\n    </tr>\n  </thead>\n  <tbody>\n    <tr>\n      <th>0</th>\n      <td>3993115348</td>\n      <td>cagi5_frataxin</td>\n      <td>1ekg</td>\n      <td>LDETTYERLAEETLDSLAEFFEDLADKPYTFEDYDVSFGSGVLTVK...</td>\n      <td>None</td>\n      <td>[D15G, A18V, S113F, S92F, F20L, S72I, Y34S, W84C]</td>\n      <td>[-0.255, -0.22, 0.685, 2.035, 2.645, 3.44, 4.4...</td>\n      <td>ΔΔG</td>\n      <td>ATOM      1  N   LEU A  90       1.020  13.240...</td>\n      <td>[-6.564, -3.54, -4.887, -5.696000000000001, -5...</td>\n      <td>[0.17681000000000013, 1.0850899999999999, -0.3...</td>\n      <td>[0.7521, 0.07734830000000001, 0.37287600000000...</td>\n    </tr>\n  </tbody>\n</table>\n</div>"
     },
     "execution_count": 11,
     "metadata": {},
     "output_type": "execute_result"
    }
   ],
   "source": [
    "pd.read_parquet(elaspic_wd / 'cagi5-frataxin-core.parquet')"
   ],
   "metadata": {
    "collapsed": false,
    "pycharm": {
     "name": "#%%\n"
    }
   }
  },
  {
   "cell_type": "code",
   "execution_count": 12,
   "outputs": [
    {
     "data": {
      "text/plain": "        unique_id      dataset            name  \\\n0      3629188840      ab_bind  pdb1ffw.entA_0   \n1      1672737895      ab_bind  pdb3be1.entL_2   \n2      2476220044      ab_bind  pdb3bdy.entL_1   \n3      1696070833      ab_bind  pdb1dvf.entA_0   \n4      3887314163      ab_bind  pdb3hfm.entL_0   \n...           ...          ...             ...   \n16184  4294677603  taipale_ppi   P09467.10:336   \n16185  3017392524  taipale_ppi   P07195.16:331   \n16186    52632076  taipale_ppi  P35908.392:486   \n16187  1821162748  taipale_ppi    P04075.2:364   \n16188  1204240423  taipale_ppi    Q03393.8:145   \n\n                                        protein_sequence ligand_sequence  \\\n0      ADKELKFLVVDDFSTMRRIVRNLLKELGFNNVEEAEDGVDALNKLQ...            None   \n1      DIQMTQSPSSLSASVGDRVTITCRASQDIPRSISGYVAWYQQKPGK...            None   \n2      DIQMTQSPSSLSASVGDRVTITCRASQDIPRSISGYVAWYQQKPGK...            None   \n3      DIVLTQSPASLSASVGETVTITCRASGNIHNYLAWYQQKQGKSPQL...            None   \n4      DIVLTQSPATLSVTPGNSVSLSCRASQSIGNNLHWYQQKSHESPRL...            None   \n...                                                  ...             ...   \n16184  DVNTLTRFVMEEGRKARGTGELTQLLNSLCTAVKAISSAVRKAGIA...            None   \n16185  EATVPNNKITVVGVGQVGMACAISILGKSLADELALVDVLEDKLKG...            None   \n16186  IKIEISELNRVIQRLQGEIAHVKKQCKNVQDAIADAEQRGEHALKD...            None   \n16187  PYQYPALTPEQKKELSDIAHRIVAPGKGILAADESTGSIAKRLQSI...            None   \n16188  RRCQAQVSRRISFSASHRLYSKFLSDEENLKLFGKCNNPNGHGHNY...            None   \n\n                                                mutation  \\\n0      [A89V, D12K, E116K, E92K, F110V, T111I, T86I, ...   \n1      [D28A, G35A, G55A, H95A, I29A, I33A, P30A, R31...   \n2      [D28A, G35A, G55A, H95A, I29A, I33A, P30A, R31...   \n3                   [H30A, S93A, W92A, Y32A, Y49A, Y50A]   \n4      [N31A, N31D, N31E, N32A, Q53A, Y50A, Y50F, Y50...   \n...                                                  ...   \n16184         [G155S, F185S, N204K, G251R, R209K, F224I]   \n16185                                     [R157H, W310R]   \n16186                                       [I86N, L93P]   \n16187                              [D128G, E206K, C338Y]   \n16188                           [R9C, F33L, K84R, L120F]   \n\n                                                  effect effect_type  \\\n0      [0.09, 0.05, 0.71, 0.82, 1.26, 0.56, -0.32, 1....         ΔΔG   \n1      [0.0, 0.3, -0.3, 0.9, -0.2, 0.9, 0.1, -0.2, 0....         ΔΔG   \n2      [0.0, 1.2, 1.0, 2.0, 1.1, 0.8, 0.2, -0.2, 1.0,...         ΔΔG   \n3      [1.67, 1.17, 0.34, 2.05, 1.6949999999999998, 0...         ΔΔG   \n4      [5.22, 1.34, 5.67, 5.11, 0.95, 4.57, 2.36, 4.4...         ΔΔG   \n...                                                  ...         ...   \n16184                     [0.0, 0.0, 0.0, 1.0, 0.0, 0.0]         ΔΔG   \n16185                                         [0.0, 1.0]         ΔΔG   \n16186                                         [1.0, 0.0]         ΔΔG   \n16187                                    [0.0, 1.0, 0.0]         ΔΔG   \n16188                               [0.0, 0.0, 0.0, 1.0]         ΔΔG   \n\n                                       protein_structure  \\\n0      ATOM      1  N   ALA A   1      20.978   3.383...   \n1      ATOM      1  N   ASP A   1      28.877 -35.955...   \n2      ATOM      1  N   ASP A   1     -23.614 -61.127...   \n3      ATOM      1  N   ASP A   1       7.974   0.098...   \n4      ATOM      1  N   ASP A   1       9.705  19.575...   \n...                                                  ...   \n16184  ATOM      1  N   ASP A   1       4.013 -13.963...   \n16185  ATOM      1  N   GLU A   1      36.533 142.915...   \n16186  ATOM      1  N   ILE A   1      -7.538  49.323...   \n16187  ATOM      1  N   PRO A   1     -27.374  38.935...   \n16188  ATOM      1  N   ARG A   1       3.419   5.269...   \n\n                                           provean_score  \\\n0      [-3.876, -6.809, -1.206, -3.911, -6.873, -5.70...   \n1      [-0.828, -0.091, 2.287, -2.076, -1.072, -0.378...   \n2      [-0.833, -0.092, 2.286, -2.084, -1.074, -0.379...   \n3         [-1.592, -1.431, -3.584, -4.347, -8.409, 1.73]   \n4      [-2.71, -2.07, -2.317, -0.501, -0.686, -0.044,...   \n...                                                  ...   \n16184    [-5.788, -7.401, -5.477, -7.003, 1.163, -3.621]   \n16185                                   [-3.81, -10.856]   \n16186                                   [-6.775, -6.795]   \n16187                           [-6.712, -3.549, -3.859]   \n16188                   [-5.021, -5.532, -2.836, -3.686]   \n\n                                             foldx_score  \\\n0      [0.3274600000000003, -1.5615899999999998, -0.1...   \n1      [0.117999999999995, -0.769999999999996, 2.7180...   \n2      [0.20629999999999882, 2.970499999999994, 4.762...   \n3      [0.5516000000000005, 0.04240000000000066, 0.17...   \n4      [0.27000000000001023, 1.2620000000000005, 0.07...   \n...                                                  ...   \n16184  [9.276399999999995, 6.857100000000003, -0.8018...   \n16185           [10.165999999999997, 2.5560000000000116]   \n16186                     [0.59677, 0.25843000000000016]   \n16187  [0.6060000000000088, -0.8230000000000075, 10.396]   \n16188  [0.4672999999999998, 1.2239000000000004, 0.409...   \n\n                                           elaspic_score  \n0      [0.31081372132730123, 0.1103312988873999, 0.10...  \n1      [0.41099448137781386, -0.17626243019207358, -0...  \n2      [0.38685246629083886, 0.6494228916306416, -0.8...  \n3      [1.1053307699596273, 0.18682907600454732, 1.15...  \n4      [0.5253469677588274, 0.7150397250403654, 0.680...  \n...                                                  ...  \n16184  [0.311895, 2.78975, -0.0921748, 1.19041, -0.14...  \n16185                                 [1.95093, 1.19852]  \n16186                                [0.858166, 1.20045]  \n16187                    [0.503439, -0.395788, 0.840431]  \n16188              [1.01085, 1.35122, 0.753752, 2.27461]  \n\n[16189 rows x 12 columns]",
      "text/html": "<div>\n<style scoped>\n    .dataframe tbody tr th:only-of-type {\n        vertical-align: middle;\n    }\n\n    .dataframe tbody tr th {\n        vertical-align: top;\n    }\n\n    .dataframe thead th {\n        text-align: right;\n    }\n</style>\n<table border=\"1\" class=\"dataframe\">\n  <thead>\n    <tr style=\"text-align: right;\">\n      <th></th>\n      <th>unique_id</th>\n      <th>dataset</th>\n      <th>name</th>\n      <th>protein_sequence</th>\n      <th>ligand_sequence</th>\n      <th>mutation</th>\n      <th>effect</th>\n      <th>effect_type</th>\n      <th>protein_structure</th>\n      <th>provean_score</th>\n      <th>foldx_score</th>\n      <th>elaspic_score</th>\n    </tr>\n  </thead>\n  <tbody>\n    <tr>\n      <th>0</th>\n      <td>3629188840</td>\n      <td>ab_bind</td>\n      <td>pdb1ffw.entA_0</td>\n      <td>ADKELKFLVVDDFSTMRRIVRNLLKELGFNNVEEAEDGVDALNKLQ...</td>\n      <td>None</td>\n      <td>[A89V, D12K, E116K, E92K, F110V, T111I, T86I, ...</td>\n      <td>[0.09, 0.05, 0.71, 0.82, 1.26, 0.56, -0.32, 1....</td>\n      <td>ΔΔG</td>\n      <td>ATOM      1  N   ALA A   1      20.978   3.383...</td>\n      <td>[-3.876, -6.809, -1.206, -3.911, -6.873, -5.70...</td>\n      <td>[0.3274600000000003, -1.5615899999999998, -0.1...</td>\n      <td>[0.31081372132730123, 0.1103312988873999, 0.10...</td>\n    </tr>\n    <tr>\n      <th>1</th>\n      <td>1672737895</td>\n      <td>ab_bind</td>\n      <td>pdb3be1.entL_2</td>\n      <td>DIQMTQSPSSLSASVGDRVTITCRASQDIPRSISGYVAWYQQKPGK...</td>\n      <td>None</td>\n      <td>[D28A, G35A, G55A, H95A, I29A, I33A, P30A, R31...</td>\n      <td>[0.0, 0.3, -0.3, 0.9, -0.2, 0.9, 0.1, -0.2, 0....</td>\n      <td>ΔΔG</td>\n      <td>ATOM      1  N   ASP A   1      28.877 -35.955...</td>\n      <td>[-0.828, -0.091, 2.287, -2.076, -1.072, -0.378...</td>\n      <td>[0.117999999999995, -0.769999999999996, 2.7180...</td>\n      <td>[0.41099448137781386, -0.17626243019207358, -0...</td>\n    </tr>\n    <tr>\n      <th>2</th>\n      <td>2476220044</td>\n      <td>ab_bind</td>\n      <td>pdb3bdy.entL_1</td>\n      <td>DIQMTQSPSSLSASVGDRVTITCRASQDIPRSISGYVAWYQQKPGK...</td>\n      <td>None</td>\n      <td>[D28A, G35A, G55A, H95A, I29A, I33A, P30A, R31...</td>\n      <td>[0.0, 1.2, 1.0, 2.0, 1.1, 0.8, 0.2, -0.2, 1.0,...</td>\n      <td>ΔΔG</td>\n      <td>ATOM      1  N   ASP A   1     -23.614 -61.127...</td>\n      <td>[-0.833, -0.092, 2.286, -2.084, -1.074, -0.379...</td>\n      <td>[0.20629999999999882, 2.970499999999994, 4.762...</td>\n      <td>[0.38685246629083886, 0.6494228916306416, -0.8...</td>\n    </tr>\n    <tr>\n      <th>3</th>\n      <td>1696070833</td>\n      <td>ab_bind</td>\n      <td>pdb1dvf.entA_0</td>\n      <td>DIVLTQSPASLSASVGETVTITCRASGNIHNYLAWYQQKQGKSPQL...</td>\n      <td>None</td>\n      <td>[H30A, S93A, W92A, Y32A, Y49A, Y50A]</td>\n      <td>[1.67, 1.17, 0.34, 2.05, 1.6949999999999998, 0...</td>\n      <td>ΔΔG</td>\n      <td>ATOM      1  N   ASP A   1       7.974   0.098...</td>\n      <td>[-1.592, -1.431, -3.584, -4.347, -8.409, 1.73]</td>\n      <td>[0.5516000000000005, 0.04240000000000066, 0.17...</td>\n      <td>[1.1053307699596273, 0.18682907600454732, 1.15...</td>\n    </tr>\n    <tr>\n      <th>4</th>\n      <td>3887314163</td>\n      <td>ab_bind</td>\n      <td>pdb3hfm.entL_0</td>\n      <td>DIVLTQSPATLSVTPGNSVSLSCRASQSIGNNLHWYQQKSHESPRL...</td>\n      <td>None</td>\n      <td>[N31A, N31D, N31E, N32A, Q53A, Y50A, Y50F, Y50...</td>\n      <td>[5.22, 1.34, 5.67, 5.11, 0.95, 4.57, 2.36, 4.4...</td>\n      <td>ΔΔG</td>\n      <td>ATOM      1  N   ASP A   1       9.705  19.575...</td>\n      <td>[-2.71, -2.07, -2.317, -0.501, -0.686, -0.044,...</td>\n      <td>[0.27000000000001023, 1.2620000000000005, 0.07...</td>\n      <td>[0.5253469677588274, 0.7150397250403654, 0.680...</td>\n    </tr>\n    <tr>\n      <th>...</th>\n      <td>...</td>\n      <td>...</td>\n      <td>...</td>\n      <td>...</td>\n      <td>...</td>\n      <td>...</td>\n      <td>...</td>\n      <td>...</td>\n      <td>...</td>\n      <td>...</td>\n      <td>...</td>\n      <td>...</td>\n    </tr>\n    <tr>\n      <th>16184</th>\n      <td>4294677603</td>\n      <td>taipale_ppi</td>\n      <td>P09467.10:336</td>\n      <td>DVNTLTRFVMEEGRKARGTGELTQLLNSLCTAVKAISSAVRKAGIA...</td>\n      <td>None</td>\n      <td>[G155S, F185S, N204K, G251R, R209K, F224I]</td>\n      <td>[0.0, 0.0, 0.0, 1.0, 0.0, 0.0]</td>\n      <td>ΔΔG</td>\n      <td>ATOM      1  N   ASP A   1       4.013 -13.963...</td>\n      <td>[-5.788, -7.401, -5.477, -7.003, 1.163, -3.621]</td>\n      <td>[9.276399999999995, 6.857100000000003, -0.8018...</td>\n      <td>[0.311895, 2.78975, -0.0921748, 1.19041, -0.14...</td>\n    </tr>\n    <tr>\n      <th>16185</th>\n      <td>3017392524</td>\n      <td>taipale_ppi</td>\n      <td>P07195.16:331</td>\n      <td>EATVPNNKITVVGVGQVGMACAISILGKSLADELALVDVLEDKLKG...</td>\n      <td>None</td>\n      <td>[R157H, W310R]</td>\n      <td>[0.0, 1.0]</td>\n      <td>ΔΔG</td>\n      <td>ATOM      1  N   GLU A   1      36.533 142.915...</td>\n      <td>[-3.81, -10.856]</td>\n      <td>[10.165999999999997, 2.5560000000000116]</td>\n      <td>[1.95093, 1.19852]</td>\n    </tr>\n    <tr>\n      <th>16186</th>\n      <td>52632076</td>\n      <td>taipale_ppi</td>\n      <td>P35908.392:486</td>\n      <td>IKIEISELNRVIQRLQGEIAHVKKQCKNVQDAIADAEQRGEHALKD...</td>\n      <td>None</td>\n      <td>[I86N, L93P]</td>\n      <td>[1.0, 0.0]</td>\n      <td>ΔΔG</td>\n      <td>ATOM      1  N   ILE A   1      -7.538  49.323...</td>\n      <td>[-6.775, -6.795]</td>\n      <td>[0.59677, 0.25843000000000016]</td>\n      <td>[0.858166, 1.20045]</td>\n    </tr>\n    <tr>\n      <th>16187</th>\n      <td>1821162748</td>\n      <td>taipale_ppi</td>\n      <td>P04075.2:364</td>\n      <td>PYQYPALTPEQKKELSDIAHRIVAPGKGILAADESTGSIAKRLQSI...</td>\n      <td>None</td>\n      <td>[D128G, E206K, C338Y]</td>\n      <td>[0.0, 1.0, 0.0]</td>\n      <td>ΔΔG</td>\n      <td>ATOM      1  N   PRO A   1     -27.374  38.935...</td>\n      <td>[-6.712, -3.549, -3.859]</td>\n      <td>[0.6060000000000088, -0.8230000000000075, 10.396]</td>\n      <td>[0.503439, -0.395788, 0.840431]</td>\n    </tr>\n    <tr>\n      <th>16188</th>\n      <td>1204240423</td>\n      <td>taipale_ppi</td>\n      <td>Q03393.8:145</td>\n      <td>RRCQAQVSRRISFSASHRLYSKFLSDEENLKLFGKCNNPNGHGHNY...</td>\n      <td>None</td>\n      <td>[R9C, F33L, K84R, L120F]</td>\n      <td>[0.0, 0.0, 0.0, 1.0]</td>\n      <td>ΔΔG</td>\n      <td>ATOM      1  N   ARG A   1       3.419   5.269...</td>\n      <td>[-5.021, -5.532, -2.836, -3.686]</td>\n      <td>[0.4672999999999998, 1.2239000000000004, 0.409...</td>\n      <td>[1.01085, 1.35122, 0.753752, 2.27461]</td>\n    </tr>\n  </tbody>\n</table>\n<p>16189 rows × 12 columns</p>\n</div>"
     },
     "execution_count": 12,
     "metadata": {},
     "output_type": "execute_result"
    }
   ],
   "source": [
    "pd.read_parquet(elaspic_wd / 'elaspic-training-set-core.parquet')"
   ],
   "metadata": {
    "collapsed": false,
    "pycharm": {
     "name": "#%%\n"
    }
   }
  },
  {
   "cell_type": "code",
   "execution_count": null,
   "outputs": [],
   "source": [],
   "metadata": {
    "collapsed": false,
    "pycharm": {
     "name": "#%%\n"
    }
   }
  }
 ],
 "metadata": {
  "kernelspec": {
   "display_name": "Python 3",
   "language": "python",
   "name": "python3"
  },
  "language_info": {
   "codemirror_mode": {
    "name": "ipython",
    "version": 2
   },
   "file_extension": ".py",
   "mimetype": "text/x-python",
   "name": "python",
   "nbconvert_exporter": "python",
   "pygments_lexer": "ipython2",
   "version": "2.7.6"
  }
 },
 "nbformat": 4,
 "nbformat_minor": 0
}