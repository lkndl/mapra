{
 "cells": [
  {
   "cell_type": "markdown",
   "metadata": {
    "collapsed": true,
    "pycharm": {
     "name": "#%% md\n"
    }
   },
   "source": []
  },
  {
   "cell_type": "code",
   "execution_count": 1,
   "outputs": [
    {
     "name": "stdout",
     "output_type": "stream",
     "text": [
      "/home/quirin/PYTHON/mapra\n"
     ]
    },
    {
     "data": {
      "text/plain": "          delta  UniProt_ID MUTATION   pH T_(C)       MEASURE   METHOD  \\\n0      melttemp  A0A060GYS1     H22R  7.5     -  fluorescence  Thermal   \n1      melttemp  A0A060GYS1    P224R  7.5     -  fluorescence  Thermal   \n2      melttemp  A0A410ZNC6    V126A  7.5     -  Fluorescence  Thermal   \n3      melttemp  A0A410ZNC6    F184L  7.5     -  Fluorescence  Thermal   \n4      melttemp  A0A410ZNC6    P250L  7.5     -  Fluorescence  Thermal   \n...         ...         ...      ...  ...   ...           ...      ...   \n15482  melttemp      R9S082    L138A  9.6     -            CD  Thermal   \n15483  melttemp      R9S082    V115A  9.6     -            CD  Thermal   \n15484  melttemp      R9S082     T52A  9.6     -            CD  Thermal   \n15485  melttemp      R9S082    L150A  9.6     -            CD  Thermal   \n15486  melttemp      R9S082    I143A  9.6     -            CD  Thermal   \n\n      ∆Tm_(C) ∆∆G_(kcal/mol) ∆∆G_H2O_(kcal/mol)   SOURCE  MUTATION_COUNT  \\\n0         9.9              -                  -  UniProt               1   \n1         2.3              -                  -  UniProt               1   \n2         5.8              -                  -  UniProt               1   \n3         1.0              -                  -  UniProt               1   \n4         4.5              -                  -  UniProt               1   \n...       ...            ...                ...      ...             ...   \n15482    -3.6              -                  -  UniProt               1   \n15483    -2.9              -                  -  UniProt               1   \n15484    -2.8              -                  -  UniProt               1   \n15485    -3.2              -                  -  UniProt               1   \n15486    -3.9              -                  -  UniProt               1   \n\n           DATASET  \n0      reduced_set  \n1      reduced_set  \n2      reduced_set  \n3      reduced_set  \n4      reduced_set  \n...            ...  \n15482  reduced_set  \n15483  reduced_set  \n15484  reduced_set  \n15485  reduced_set  \n15486  reduced_set  \n\n[15487 rows x 13 columns]",
      "text/html": "<div>\n<style scoped>\n    .dataframe tbody tr th:only-of-type {\n        vertical-align: middle;\n    }\n\n    .dataframe tbody tr th {\n        vertical-align: top;\n    }\n\n    .dataframe thead th {\n        text-align: right;\n    }\n</style>\n<table border=\"1\" class=\"dataframe\">\n  <thead>\n    <tr style=\"text-align: right;\">\n      <th></th>\n      <th>delta</th>\n      <th>UniProt_ID</th>\n      <th>MUTATION</th>\n      <th>pH</th>\n      <th>T_(C)</th>\n      <th>MEASURE</th>\n      <th>METHOD</th>\n      <th>∆Tm_(C)</th>\n      <th>∆∆G_(kcal/mol)</th>\n      <th>∆∆G_H2O_(kcal/mol)</th>\n      <th>SOURCE</th>\n      <th>MUTATION_COUNT</th>\n      <th>DATASET</th>\n    </tr>\n  </thead>\n  <tbody>\n    <tr>\n      <th>0</th>\n      <td>melttemp</td>\n      <td>A0A060GYS1</td>\n      <td>H22R</td>\n      <td>7.5</td>\n      <td>-</td>\n      <td>fluorescence</td>\n      <td>Thermal</td>\n      <td>9.9</td>\n      <td>-</td>\n      <td>-</td>\n      <td>UniProt</td>\n      <td>1</td>\n      <td>reduced_set</td>\n    </tr>\n    <tr>\n      <th>1</th>\n      <td>melttemp</td>\n      <td>A0A060GYS1</td>\n      <td>P224R</td>\n      <td>7.5</td>\n      <td>-</td>\n      <td>fluorescence</td>\n      <td>Thermal</td>\n      <td>2.3</td>\n      <td>-</td>\n      <td>-</td>\n      <td>UniProt</td>\n      <td>1</td>\n      <td>reduced_set</td>\n    </tr>\n    <tr>\n      <th>2</th>\n      <td>melttemp</td>\n      <td>A0A410ZNC6</td>\n      <td>V126A</td>\n      <td>7.5</td>\n      <td>-</td>\n      <td>Fluorescence</td>\n      <td>Thermal</td>\n      <td>5.8</td>\n      <td>-</td>\n      <td>-</td>\n      <td>UniProt</td>\n      <td>1</td>\n      <td>reduced_set</td>\n    </tr>\n    <tr>\n      <th>3</th>\n      <td>melttemp</td>\n      <td>A0A410ZNC6</td>\n      <td>F184L</td>\n      <td>7.5</td>\n      <td>-</td>\n      <td>Fluorescence</td>\n      <td>Thermal</td>\n      <td>1.0</td>\n      <td>-</td>\n      <td>-</td>\n      <td>UniProt</td>\n      <td>1</td>\n      <td>reduced_set</td>\n    </tr>\n    <tr>\n      <th>4</th>\n      <td>melttemp</td>\n      <td>A0A410ZNC6</td>\n      <td>P250L</td>\n      <td>7.5</td>\n      <td>-</td>\n      <td>Fluorescence</td>\n      <td>Thermal</td>\n      <td>4.5</td>\n      <td>-</td>\n      <td>-</td>\n      <td>UniProt</td>\n      <td>1</td>\n      <td>reduced_set</td>\n    </tr>\n    <tr>\n      <th>...</th>\n      <td>...</td>\n      <td>...</td>\n      <td>...</td>\n      <td>...</td>\n      <td>...</td>\n      <td>...</td>\n      <td>...</td>\n      <td>...</td>\n      <td>...</td>\n      <td>...</td>\n      <td>...</td>\n      <td>...</td>\n      <td>...</td>\n    </tr>\n    <tr>\n      <th>15482</th>\n      <td>melttemp</td>\n      <td>R9S082</td>\n      <td>L138A</td>\n      <td>9.6</td>\n      <td>-</td>\n      <td>CD</td>\n      <td>Thermal</td>\n      <td>-3.6</td>\n      <td>-</td>\n      <td>-</td>\n      <td>UniProt</td>\n      <td>1</td>\n      <td>reduced_set</td>\n    </tr>\n    <tr>\n      <th>15483</th>\n      <td>melttemp</td>\n      <td>R9S082</td>\n      <td>V115A</td>\n      <td>9.6</td>\n      <td>-</td>\n      <td>CD</td>\n      <td>Thermal</td>\n      <td>-2.9</td>\n      <td>-</td>\n      <td>-</td>\n      <td>UniProt</td>\n      <td>1</td>\n      <td>reduced_set</td>\n    </tr>\n    <tr>\n      <th>15484</th>\n      <td>melttemp</td>\n      <td>R9S082</td>\n      <td>T52A</td>\n      <td>9.6</td>\n      <td>-</td>\n      <td>CD</td>\n      <td>Thermal</td>\n      <td>-2.8</td>\n      <td>-</td>\n      <td>-</td>\n      <td>UniProt</td>\n      <td>1</td>\n      <td>reduced_set</td>\n    </tr>\n    <tr>\n      <th>15485</th>\n      <td>melttemp</td>\n      <td>R9S082</td>\n      <td>L150A</td>\n      <td>9.6</td>\n      <td>-</td>\n      <td>CD</td>\n      <td>Thermal</td>\n      <td>-3.2</td>\n      <td>-</td>\n      <td>-</td>\n      <td>UniProt</td>\n      <td>1</td>\n      <td>reduced_set</td>\n    </tr>\n    <tr>\n      <th>15486</th>\n      <td>melttemp</td>\n      <td>R9S082</td>\n      <td>I143A</td>\n      <td>9.6</td>\n      <td>-</td>\n      <td>CD</td>\n      <td>Thermal</td>\n      <td>-3.9</td>\n      <td>-</td>\n      <td>-</td>\n      <td>UniProt</td>\n      <td>1</td>\n      <td>reduced_set</td>\n    </tr>\n  </tbody>\n</table>\n<p>15487 rows × 13 columns</p>\n</div>"
     },
     "execution_count": 1,
     "metadata": {},
     "output_type": "execute_result"
    }
   ],
   "source": [
    "from pathlib import Path\n",
    "\n",
    "from mapra import prep\n",
    "\n",
    "# the directory to search\n",
    "wd = Path('.').resolve().parent\n",
    "print(wd)\n",
    "\n",
    "data = prep.dataset(wd)\n",
    "df = data.dataframe\n",
    "df"
   ],
   "metadata": {
    "collapsed": false,
    "pycharm": {
     "name": "#%%\n"
    }
   }
  },
  {
   "cell_type": "code",
   "execution_count": 2,
   "outputs": [
    {
     "data": {
      "text/plain": "['A0A060GYS1', 'A0A410ZNC6', 'A5H7H0', 'B8YLY0', 'D0WVP7']"
     },
     "execution_count": 2,
     "metadata": {},
     "output_type": "execute_result"
    }
   ],
   "source": [
    "prot_order = sorted(df.UniProt_ID.unique())\n",
    "prot_order[:5]\n"
   ],
   "metadata": {
    "collapsed": false,
    "pycharm": {
     "name": "#%%\n"
    }
   }
  },
  {
   "cell_type": "markdown",
   "source": [
    "are there repetitions? what is their variance?\n",
    "\n",
    "dataset sizes: pie charts\n",
    "\n",
    "isoforms per UniProt_ID\n",
    "\n",
    "n unique muts per UniProt_ID\n",
    "\n"
   ],
   "metadata": {
    "collapsed": false,
    "pycharm": {
     "name": "#%% md\n"
    }
   }
  },
  {
   "cell_type": "code",
   "execution_count": 3,
   "outputs": [
    {
     "data": {
      "text/plain": "             delta UniProt_ID    MUTATION    pH T_(C)       MEASURE   METHOD  \\\n17        melttemp     B8YLY0       S227G   5.8     -            CD  Thermal   \n18        melttemp     B8YLY0       S227G   5.8     -           DSC  Thermal   \n30        melttemp     D4Z2G1   A5C A185C   7.5     -  fluorescence  Thermal   \n31        melttemp     D4Z2G1   R20C D70C   7.5     -  fluorescence  Thermal   \n32        melttemp     D4Z2G1   A22C D68C   7.5     -  fluorescence  Thermal   \n...            ...        ...         ...   ...   ...           ...      ...   \n15424  delta_g_h2o     R9S082       H120F   7.0     0            CD     Urea   \n15425  delta_g_h2o     R9S082  H25V H120F   7.0     0            CD     Urea   \n15426  delta_g_h2o     R9S082  H25V H120F   7.0     0            CD     Urea   \n15459     melttemp     R9S082       I143A  11.0     -           DSC  Thermal   \n15486     melttemp     R9S082       I143A   9.6     -            CD  Thermal   \n\n      ∆Tm_(C) ∆∆G_(kcal/mol) ∆∆G_H2O_(kcal/mol)           SOURCE  \\\n17        4.0              -                  -          UniProt   \n18        4.0              -                  -          UniProt   \n30        5.0              -                  -  UniProt and PDB   \n31       -1.0              -                  -  UniProt and PDB   \n32       -1.0              -                  -  UniProt and PDB   \n...       ...            ...                ...              ...   \n15424       -              -               0.03          UniProt   \n15425       -              -               0.83          UniProt   \n15426       -              -               0.32          UniProt   \n15459    -3.5              -                  -          UniProt   \n15486    -3.9              -                  -          UniProt   \n\n       MUTATION_COUNT      DATASET  \n17                  1  reduced_set  \n18                  1  reduced_set  \n30                  2  reduced_set  \n31                  2  reduced_set  \n32                  2  reduced_set  \n...               ...          ...  \n15424               1  reduced_set  \n15425               2  reduced_set  \n15426               2  reduced_set  \n15459               1  reduced_set  \n15486               1  reduced_set  \n\n[7999 rows x 13 columns]",
      "text/html": "<div>\n<style scoped>\n    .dataframe tbody tr th:only-of-type {\n        vertical-align: middle;\n    }\n\n    .dataframe tbody tr th {\n        vertical-align: top;\n    }\n\n    .dataframe thead th {\n        text-align: right;\n    }\n</style>\n<table border=\"1\" class=\"dataframe\">\n  <thead>\n    <tr style=\"text-align: right;\">\n      <th></th>\n      <th>delta</th>\n      <th>UniProt_ID</th>\n      <th>MUTATION</th>\n      <th>pH</th>\n      <th>T_(C)</th>\n      <th>MEASURE</th>\n      <th>METHOD</th>\n      <th>∆Tm_(C)</th>\n      <th>∆∆G_(kcal/mol)</th>\n      <th>∆∆G_H2O_(kcal/mol)</th>\n      <th>SOURCE</th>\n      <th>MUTATION_COUNT</th>\n      <th>DATASET</th>\n    </tr>\n  </thead>\n  <tbody>\n    <tr>\n      <th>17</th>\n      <td>melttemp</td>\n      <td>B8YLY0</td>\n      <td>S227G</td>\n      <td>5.8</td>\n      <td>-</td>\n      <td>CD</td>\n      <td>Thermal</td>\n      <td>4.0</td>\n      <td>-</td>\n      <td>-</td>\n      <td>UniProt</td>\n      <td>1</td>\n      <td>reduced_set</td>\n    </tr>\n    <tr>\n      <th>18</th>\n      <td>melttemp</td>\n      <td>B8YLY0</td>\n      <td>S227G</td>\n      <td>5.8</td>\n      <td>-</td>\n      <td>DSC</td>\n      <td>Thermal</td>\n      <td>4.0</td>\n      <td>-</td>\n      <td>-</td>\n      <td>UniProt</td>\n      <td>1</td>\n      <td>reduced_set</td>\n    </tr>\n    <tr>\n      <th>30</th>\n      <td>melttemp</td>\n      <td>D4Z2G1</td>\n      <td>A5C A185C</td>\n      <td>7.5</td>\n      <td>-</td>\n      <td>fluorescence</td>\n      <td>Thermal</td>\n      <td>5.0</td>\n      <td>-</td>\n      <td>-</td>\n      <td>UniProt and PDB</td>\n      <td>2</td>\n      <td>reduced_set</td>\n    </tr>\n    <tr>\n      <th>31</th>\n      <td>melttemp</td>\n      <td>D4Z2G1</td>\n      <td>R20C D70C</td>\n      <td>7.5</td>\n      <td>-</td>\n      <td>fluorescence</td>\n      <td>Thermal</td>\n      <td>-1.0</td>\n      <td>-</td>\n      <td>-</td>\n      <td>UniProt and PDB</td>\n      <td>2</td>\n      <td>reduced_set</td>\n    </tr>\n    <tr>\n      <th>32</th>\n      <td>melttemp</td>\n      <td>D4Z2G1</td>\n      <td>A22C D68C</td>\n      <td>7.5</td>\n      <td>-</td>\n      <td>fluorescence</td>\n      <td>Thermal</td>\n      <td>-1.0</td>\n      <td>-</td>\n      <td>-</td>\n      <td>UniProt and PDB</td>\n      <td>2</td>\n      <td>reduced_set</td>\n    </tr>\n    <tr>\n      <th>...</th>\n      <td>...</td>\n      <td>...</td>\n      <td>...</td>\n      <td>...</td>\n      <td>...</td>\n      <td>...</td>\n      <td>...</td>\n      <td>...</td>\n      <td>...</td>\n      <td>...</td>\n      <td>...</td>\n      <td>...</td>\n      <td>...</td>\n    </tr>\n    <tr>\n      <th>15424</th>\n      <td>delta_g_h2o</td>\n      <td>R9S082</td>\n      <td>H120F</td>\n      <td>7.0</td>\n      <td>0</td>\n      <td>CD</td>\n      <td>Urea</td>\n      <td>-</td>\n      <td>-</td>\n      <td>0.03</td>\n      <td>UniProt</td>\n      <td>1</td>\n      <td>reduced_set</td>\n    </tr>\n    <tr>\n      <th>15425</th>\n      <td>delta_g_h2o</td>\n      <td>R9S082</td>\n      <td>H25V H120F</td>\n      <td>7.0</td>\n      <td>0</td>\n      <td>CD</td>\n      <td>Urea</td>\n      <td>-</td>\n      <td>-</td>\n      <td>0.83</td>\n      <td>UniProt</td>\n      <td>2</td>\n      <td>reduced_set</td>\n    </tr>\n    <tr>\n      <th>15426</th>\n      <td>delta_g_h2o</td>\n      <td>R9S082</td>\n      <td>H25V H120F</td>\n      <td>7.0</td>\n      <td>0</td>\n      <td>CD</td>\n      <td>Urea</td>\n      <td>-</td>\n      <td>-</td>\n      <td>0.32</td>\n      <td>UniProt</td>\n      <td>2</td>\n      <td>reduced_set</td>\n    </tr>\n    <tr>\n      <th>15459</th>\n      <td>melttemp</td>\n      <td>R9S082</td>\n      <td>I143A</td>\n      <td>11.0</td>\n      <td>-</td>\n      <td>DSC</td>\n      <td>Thermal</td>\n      <td>-3.5</td>\n      <td>-</td>\n      <td>-</td>\n      <td>UniProt</td>\n      <td>1</td>\n      <td>reduced_set</td>\n    </tr>\n    <tr>\n      <th>15486</th>\n      <td>melttemp</td>\n      <td>R9S082</td>\n      <td>I143A</td>\n      <td>9.6</td>\n      <td>-</td>\n      <td>CD</td>\n      <td>Thermal</td>\n      <td>-3.9</td>\n      <td>-</td>\n      <td>-</td>\n      <td>UniProt</td>\n      <td>1</td>\n      <td>reduced_set</td>\n    </tr>\n  </tbody>\n</table>\n<p>7999 rows × 13 columns</p>\n</div>"
     },
     "execution_count": 3,
     "metadata": {},
     "output_type": "execute_result"
    }
   ],
   "source": [
    "# are there repetitions?\n",
    "dups = df.duplicated(keep=False, subset=['delta', 'UniProt_ID', 'MUTATION'])\n",
    "df.loc[dups]\n"
   ],
   "metadata": {
    "collapsed": false,
    "pycharm": {
     "name": "#%%\n"
    }
   }
  },
  {
   "cell_type": "markdown",
   "source": [
    "$\\rightarrow$ 7999 out of 15487 rows are duplicate measurements\n"
   ],
   "metadata": {
    "collapsed": false,
    "pycharm": {
     "name": "#%% md\n"
    }
   }
  }
 ],
 "metadata": {
  "kernelspec": {
   "display_name": "Python 3",
   "language": "python",
   "name": "python3"
  },
  "language_info": {
   "codemirror_mode": {
    "name": "ipython",
    "version": 2
   },
   "file_extension": ".py",
   "mimetype": "text/x-python",
   "name": "python",
   "nbconvert_exporter": "python",
   "pygments_lexer": "ipython2",
   "version": "2.7.6"
  }
 },
 "nbformat": 4,
 "nbformat_minor": 0
}