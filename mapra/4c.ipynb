{
 "cells": [
  {
   "cell_type": "code",
   "execution_count": null,
   "outputs": [],
   "source": [
    "import importlib\n",
    "import random\n",
    "import matplotlib.pyplot as plt\n",
    "import seaborn as sns\n",
    "import numpy as np\n",
    "\n",
    "from mapra import prep\n",
    "\n",
    "from sklearn import linear_model, preprocessing\n",
    "from sklearn.metrics import auc, plot_roc_curve\n",
    "from sklearn.model_selection import train_test_split, StratifiedKFold\n",
    "\n",
    "sns.set_theme(style='white')"
   ],
   "metadata": {
    "collapsed": false,
    "pycharm": {
     "name": "#%%\n"
    }
   }
  },
  {
   "cell_type": "code",
   "execution_count": null,
   "outputs": [],
   "source": [
    "# assert False, 'Do this only once'\n",
    "importlib.reload(prep)\n",
    "data = prep.dataset()\n",
    "\n",
    "mbeds = data.fetch_df_with_pairwise_distances(extend=0, modify=False)\n",
    "\"\"\"\n",
    ":param extend: The number of additional neighbours to include on each side\n",
    ":param df: optional dataframe, otherwise will be dataframe_abbrev(reduced=reduced)\n",
    ":param reduced: default is True, if only the redundancy-reduced dataset shall be loaded from the df\n",
    ":param modify: 'flip' distances for negative changes, use the 'abs' value, only 'pos' or 'neg'\n",
    ":param scaler: 'std' or 'minmax'\n",
    ":param func: the function to handle compound mutations: np.mean, sum, max, min\n",
    ":return:\n",
    "\"\"\"\n",
    "mbeds.data"
   ],
   "metadata": {
    "collapsed": false,
    "pycharm": {
     "name": "#%%\n"
    }
   }
  },
  {
   "cell_type": "code",
   "execution_count": null,
   "outputs": [],
   "source": [
    "# use only the euclidean distance\n",
    "print(mbeds.delta_labels[0])\n",
    "dft = mbeds.data.loc[(mbeds.data.metric == 0) & (mbeds.data.delta == 0)]\n",
    "x_train, y_train = dft[['delta', 'dist']], dft['change']\n",
    "\n",
    "npm, nps = np.mean(y_train), np.std(y_train)\n",
    "y_train = y_train.apply(lambda f: (f-npm) / nps)\n",
    "\n",
    "# # old way for all three pairwise metrics\n",
    "# x_train, y_train = df[['delta', 'metric', 'dist']], df['change']\n",
    "\n",
    "# and convert changes to discrete classes\n",
    "# y_train = y_train.apply(lambda f: '--' if f < -10 else '-' if f < -1 else '=' if f < 1 else '+' if f < 10 else '++')\n",
    "# y_train = y_train.apply(lambda f: -1 if f <= -1 else 0 if f <= 1 else 1)\n",
    "# y_train = y_train.apply(lambda f: -1 if f <= 0 else 1)\n",
    "y_train = y_train.apply(lambda f: 0 if abs(f) <= 2 else 1)\n",
    "\n",
    "x_train, y_train = np.array(x_train), np.array(y_train)\n",
    "# x_train, y_train\n",
    "#\n",
    "# #%%\n",
    "if True:\n",
    "    rand = random.randint(0, 1000)\n",
    "    cv = StratifiedKFold(n_splits=8, shuffle=True, random_state=rand)\n",
    "    lm = linear_model.LogisticRegression(random_state=rand)\n",
    "\n",
    "    tprs = []\n",
    "    aucs = []\n",
    "    mean_fpr = np.linspace(0, 1, 100)\n",
    "    fig, ax = plt.subplots(1,1,figsize=(8,8))\n",
    "    ax.grid(linestyle='--')\n",
    "\n",
    "    for i, (train, test) in enumerate(cv.split(x_train, y_train)):\n",
    "        lm.fit(x_train[train], y_train[train])\n",
    "        viz = plot_roc_curve(lm, x_train[test], y_train[test],\n",
    "                             name=f'{i}', alpha=0.3, lw=1, ax=ax)\n",
    "        interp_tpr = np.interp(mean_fpr, viz.fpr, viz.tpr)\n",
    "        interp_tpr[0] = 0.0\n",
    "        tprs.append(interp_tpr)\n",
    "        aucs.append(viz.roc_auc)\n",
    "\n",
    "    ax.plot([0, 1], [0, 1], linestyle='--', lw=2, color='r',\n",
    "            label='Chance', alpha=.8)\n",
    "\n",
    "    mean_tpr = np.mean(tprs, axis=0)\n",
    "    mean_tpr[-1] = 1.0\n",
    "    mean_auc = auc(mean_fpr, mean_tpr)\n",
    "    std_auc = np.std(aucs)\n",
    "    ax.plot(mean_fpr, mean_tpr, color='b',\n",
    "            label=r'Mean ROC (AUC = %0.2f $\\pm$ %0.2f)' % (mean_auc, std_auc),\n",
    "            lw=2, alpha=.8)\n",
    "\n",
    "    std_tpr = np.std(tprs, axis=0)\n",
    "    tprs_upper = np.minimum(mean_tpr + std_tpr, 1)\n",
    "    tprs_lower = np.maximum(mean_tpr - std_tpr, 0)\n",
    "    ax.fill_between(mean_fpr, tprs_lower, tprs_upper, color='grey', alpha=.2,\n",
    "                    label=r'$\\pm$ 1 std. dev.')\n",
    "\n",
    "    ax.set(xlim=[-0.05, 1.05], ylim=[-0.05, 1.05])  #, title=\"Receiver operating characteristic example\")\n",
    "    ax.legend(loc=\"lower right\")\n",
    "\n",
    "    plt.show()"
   ],
   "metadata": {
    "collapsed": false,
    "pycharm": {
     "name": "#%%\n"
    }
   }
  },
  {
   "cell_type": "markdown",
   "source": [
    "plot mit zwei levels übereinander\n"
   ],
   "metadata": {
    "collapsed": false
   }
  }
 ],
 "metadata": {
  "kernelspec": {
   "display_name": "Python 3",
   "language": "python",
   "name": "python3"
  },
  "language_info": {
   "codemirror_mode": {
    "name": "ipython",
    "version": 2
   },
   "file_extension": ".py",
   "mimetype": "text/x-python",
   "name": "python",
   "nbconvert_exporter": "python",
   "pygments_lexer": "ipython2",
   "version": "2.7.6"
  }
 },
 "nbformat": 4,
 "nbformat_minor": 0
}